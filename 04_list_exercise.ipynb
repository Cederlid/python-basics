{
  "cells": [
    {
      "cell_type": "markdown",
      "metadata": {
        "colab_type": "text",
        "id": "view-in-github"
      },
      "source": [
        "<a href=\"https://colab.research.google.com/github/aleylani/Python-AI24/blob/main/exercises/04_list_exercise.ipynb\" target=\"_parent\"><img src=\"https://colab.research.google.com/assets/colab-badge.svg\" alt=\"Open In Colab\"/></a>"
      ]
    },
    {
      "cell_type": "markdown",
      "metadata": {
        "id": "6uOASVKqPqNP"
      },
      "source": [
        "# list exercises\n",
        "\n",
        "---\n",
        "These are introductory exercises in Python with focus in **lists**.\n",
        "\n",
        "<p class = \"alert alert-info\" role=\"alert\"><b>Remember</b> to use <b>descriptive variable names</b> in order to get readable code </p>\n",
        "\n",
        "<p class = \"alert alert-info\" role=\"alert\"><b>Remember</b> to format your answers in a neat way using <b>f-strings</b>\n",
        "\n",
        "<p class = \"alert alert-info\" role=\"alert\"><b>Remember</b> to format your input questions in a pedagogical way to guide the user\n",
        "\n",
        "The number of stars (\\*), (\\*\\*), (\\*\\*\\*) denotes the difficulty level of the task\n",
        "\n",
        "---"
      ]
    },
    {
      "cell_type": "markdown",
      "metadata": {
        "id": "RuoOFel1PqNR"
      },
      "source": [
        "## 1. Dice rolls (*)\n",
        "\n",
        "Simulate 10 dice rolls and **append** the rolls to a list or use **list comprehension**.\n",
        "\n",
        "&nbsp; a) &nbsp; sort the list in **ascending** order (*)\n",
        "\n",
        "&nbsp; b) &nbsp; sort the list in **descending** order (*)\n",
        "\n",
        "&nbsp; c) &nbsp; find the **maximum** and **minimum** value in the list (*)\n",
        "\n",
        "\n",
        "<details>\n",
        "\n",
        "<summary>Answer </summary>\n",
        "\n",
        "a)\n",
        "```\n",
        "Ascending order: [1, 1, 2, 3, 4, 4, 4, 5, 6, 6]\n",
        "```\n",
        "\n",
        "b)\n",
        "```\n",
        "Descending order: [6, 6, 5, 4, 4, 4, 3, 2, 1, 1]\n",
        "```\n",
        "\n",
        "c)\n",
        "```\n",
        "Maximum: 6\n",
        "Minimum: 1\n",
        "```\n",
        "\n",
        "</details>\n",
        "\n",
        "\n"
      ]
    },
    {
      "cell_type": "code",
      "execution_count": 1,
      "metadata": {},
      "outputs": [
        {
          "name": "stdout",
          "output_type": "stream",
          "text": [
            "[1, 1, 3, 3, 4, 4, 4, 5, 6, 6]\n",
            "[6, 6, 5, 4, 4, 4, 3, 3, 1, 1]\n",
            "6\n",
            "1\n"
          ]
        }
      ],
      "source": [
        "import random\n",
        "\n",
        "# a\n",
        "\n",
        "dice_rolls3 = [random.randint(1,6) for r in range(10)]\n",
        "acsending = sorted(dice_rolls3)\n",
        "print(acsending)\n",
        "\n",
        "# b\n",
        "\n",
        "reverse_dice_rolls = sorted(dice_rolls3, reverse=True)\n",
        "print(reverse_dice_rolls)\n",
        "\n",
        "# c\n",
        "\n",
        "print(max(dice_rolls3))\n",
        "print(min(dice_rolls3))"
      ]
    },
    {
      "cell_type": "code",
      "execution_count": 2,
      "metadata": {},
      "outputs": [
        {
          "name": "stdout",
          "output_type": "stream",
          "text": [
            "[2, 2, 3, 3, 4, 5, 5, 5, 6, 6]\n",
            "[6, 6, 5, 5, 5, 4, 3, 3, 2, 2]\n"
          ]
        }
      ],
      "source": [
        "import random\n",
        "\n",
        "dice_rolls2 = []\n",
        "\n",
        "for roll in range(0,10):\n",
        "    dice_rolls2.append(random.randint(1,6))\n",
        "\n",
        "# a \n",
        "\n",
        "ascending_rolls = sorted(dice_rolls2)\n",
        "print(ascending_rolls)\n",
        "\n",
        "# b\n",
        "\n",
        "descending_rolls = sorted(dice_rolls2, reverse=True)\n",
        "print(descending_rolls)"
      ]
    },
    {
      "cell_type": "markdown",
      "metadata": {
        "id": "7zPeNe1TPqNR"
      },
      "source": [
        "---\n",
        "## 2. Food menu (*)\n",
        "\n",
        "Create a:  \n",
        "\n",
        "&nbsp; a) &nbsp; **list** with the following elements: \"vegetarisk lasagne\", \"spaghetti\", \"fisk\", \"grönsakssoppa\", \"pannkakor\". (*)\n",
        "\n",
        "&nbsp; b) &nbsp; **list** with the weekdays (*)\n",
        "\n",
        "&nbsp; c) &nbsp; create a food menu with each day corresponding to each food item and print it out. (*)\n",
        "\n",
        "<details>\n",
        "\n",
        "<summary>Answer</summary>\n",
        "\n",
        "c)\n",
        "```\n",
        "Bambameny\n",
        "Mån: vegetarisk lasagne\n",
        "Tis: spaghetti\n",
        "Ons: fisk\n",
        "Tor: grönsakssoppa\n",
        "Fre: pannkakor\n",
        "```\n",
        "\n",
        "</details>"
      ]
    },
    {
      "cell_type": "code",
      "execution_count": 3,
      "metadata": {},
      "outputs": [
        {
          "name": "stdout",
          "output_type": "stream",
          "text": [
            "Monday : vegetarisk lasagne\n",
            "Tuesday : spaghetti\n",
            "Wednesday : fisk\n",
            "Thursday : grönsakssoppa\n",
            "Friday : pannkakor\n"
          ]
        }
      ],
      "source": [
        "# a\n",
        "\n",
        "food = [\"vegetarisk lasagne\", \"spaghetti\", \"fisk\", \"grönsakssoppa\", \"pannkakor\"]\n",
        "\n",
        "# b\n",
        "\n",
        "weekdays = [\"Monday\", \"Tuesday\", \"Wednesday\", \"Thursday\", \"Friday\"]\n",
        "\n",
        "# c\n",
        "\n",
        "lunch_menu = [f\"{day} : {lunch}\" for day, lunch in zip(weekdays, food)]\n",
        "\n",
        "for item in lunch_menu:\n",
        "    print(item)"
      ]
    },
    {
      "cell_type": "markdown",
      "metadata": {
        "id": "EgiDRMifPqNR"
      },
      "source": [
        "---\n",
        "## 3. Squares (*)\n",
        "\n",
        "&nbsp; a) &nbsp; Use **list comprehension** to create a list of squares from -10 to 10 (*)\n",
        "\n",
        "&nbsp; a) &nbsp; Plot this list using **matplotlib**. (*)\n",
        "\n",
        "<details>\n",
        "\n",
        "<summary>Answer</summary>\n",
        "\n",
        "a)\n",
        "```\n",
        "[100, 81, 64, 49, 36, 25, 16, 9, 4, 1, 0, 1, 4, 9, 16, 25, 36, 49, 64, 81, 100]\n",
        "```\n",
        "\n",
        "b)\n",
        "\n",
        "<img align=\"left\" src=\"../assets/x^2_graph.png\" width=\"300\"/>\n",
        "</details>"
      ]
    },
    {
      "cell_type": "code",
      "execution_count": 4,
      "metadata": {},
      "outputs": [
        {
          "name": "stdout",
          "output_type": "stream",
          "text": [
            "[100, 81, 64, 49, 36, 25, 16, 9, 4, 1, 0, 1, 4, 9, 16, 25, 36, 49, 64, 81, 100]\n"
          ]
        },
        {
          "data": {
            "image/png": "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",
            "text/plain": [
              "<Figure size 640x480 with 1 Axes>"
            ]
          },
          "metadata": {},
          "output_type": "display_data"
        }
      ],
      "source": [
        "# a\n",
        "\n",
        "squares = [ x**2 for x in range(-10,11)]\n",
        "print(squares)\n",
        "\n",
        "# b\n",
        "\n",
        "import matplotlib.pyplot as plt \n",
        "plt.plot(squares)\n",
        "plt.xlabel(\"X\")\n",
        "plt.ylabel(\"Y\")\n",
        "plt.title(r\"The function $x^2$\")\n",
        "plt.show()"
      ]
    },
    {
      "cell_type": "markdown",
      "metadata": {
        "id": "4U54qkB5PqNS"
      },
      "source": [
        "---\n",
        "## 4. Chessboard (**)\n",
        "\n",
        "&nbsp; a) &nbsp; Create this list using **list comprehension**: (*)\n",
        "\n",
        "```python\n",
        "['A1', 'B1', 'C1', 'D1', 'E1', 'F1', 'G1', 'H1']\n",
        "```\n",
        "\n",
        "&nbsp; b) &nbsp; Create a 2D list to hold the coordinates in a chessboard. (**)\n",
        "\n",
        "<details>\n",
        "\n",
        "<summary>Hint</summary>\n",
        "\n",
        "b) Use **f-string** and create a list of characters with:\n",
        "\n",
        "```python\n",
        "list(\"ABCDEFGH)\n",
        "```\n",
        "\n",
        "b) One option is to use nested list comprehension where one for-loop creates the first list and the other creates several of the first list\n",
        "\n",
        "</details>\n",
        "\n",
        "\n",
        "<details>\n",
        "\n",
        "<summary>Answer</summary>\n",
        "\n",
        "b)\n",
        "```\n",
        "[['A1', 'B1', 'C1', 'D1', 'E1', 'F1', 'G1', 'H1'],\n",
        " ['A2', 'B2', 'C2', 'D2', 'E2', 'F2', 'G2', 'H2'],\n",
        " ['A3', 'B3', 'C3', 'D3', 'E3', 'F3', 'G3', 'H3'],\n",
        " ['A4', 'B4', 'C4', 'D4', 'E4', 'F4', 'G4', 'H4'],\n",
        " ['A5', 'B5', 'C5', 'D5', 'E5', 'F5', 'G5', 'H5'],\n",
        " ['A6', 'B6', 'C6', 'D6', 'E6', 'F6', 'G6', 'H6'],\n",
        " ['A7', 'B7', 'C7', 'D7', 'E7', 'F7', 'G7', 'H7'],\n",
        " ['A8', 'B8', 'C8', 'D8', 'E8', 'F8', 'G8', 'H8']]\n",
        "```\n",
        "\n",
        "</details>"
      ]
    },
    {
      "cell_type": "code",
      "execution_count": 5,
      "metadata": {},
      "outputs": [
        {
          "name": "stdout",
          "output_type": "stream",
          "text": [
            "['A1', 'B1', 'C1', 'D1', 'E1', 'F1', 'G1', 'H1']\n",
            "\n",
            "['A1', 'B1', 'C1', 'D1', 'E1', 'F1', 'G1', 'H1']\n",
            "['A2', 'B2', 'C2', 'D2', 'E2', 'F2', 'G2', 'H2']\n",
            "['A3', 'B3', 'C3', 'D3', 'E3', 'F3', 'G3', 'H3']\n",
            "['A4', 'B4', 'C4', 'D4', 'E4', 'F4', 'G4', 'H4']\n",
            "['A5', 'B5', 'C5', 'D5', 'E5', 'F5', 'G5', 'H5']\n",
            "['A6', 'B6', 'C6', 'D6', 'E6', 'F6', 'G6', 'H6']\n",
            "['A7', 'B7', 'C7', 'D7', 'E7', 'F7', 'G7', 'H7']\n",
            "['A8', 'B8', 'C8', 'D8', 'E8', 'F8', 'G8', 'H8']\n"
          ]
        }
      ],
      "source": [
        "# a\n",
        "\n",
        "chessboard = [chr(i) + \"1\" for i in range(ord(\"A\"), ord(\"I\"))]\n",
        "\n",
        "print(chessboard)\n",
        "print()\n",
        "\n",
        "# b\n",
        "\n",
        "chessboard_2d = [[chr(i) + str(j) for i in range (ord(\"A\"), ord(\"I\"))] for j in range(1,9)]\n",
        "\n",
        "for row in chessboard_2d:\n",
        "\n",
        "    print(row)"
      ]
    },
    {
      "cell_type": "markdown",
      "metadata": {
        "id": "5rzM8OsCPqNS"
      },
      "source": [
        "---\n",
        "## 5. Dice rolls convergence (**)\n",
        "\n",
        "Simulate:\n",
        "\n",
        "&nbsp; a) &nbsp; 100 dice rolls and count the number of outcome six. (*)\n",
        "\n",
        "&nbsp; b) &nbsp; 10, 100, 1000, 10000, 100000, 1000000 dice rolls. Count the number of outcome six in each simulation and store it in a list. Compute the probability of outcome six in each simulation. (**)\n",
        "\n",
        "&nbsp; c) &nbsp; Use matplotlib to plot this list. (*)\n",
        "\n",
        "<details>\n",
        "\n",
        "<summary>Hint </summary>\n",
        "\n",
        "Use this code for plot settings:\n",
        "\n",
        "```python\n",
        "plt.plot(probability_six, '-*')\n",
        "plt.title(\"Probability of six for different number of rolls\")\n",
        "plt.xticks([0,1,2,3,4,5], num_rolls);\n",
        "plt.xlabel(\"Number of dice rolls\")\n",
        "plt.ylabel(\"Probability\")\n",
        "\n",
        "```\n",
        "</details>\n",
        "\n",
        "<details>\n",
        "\n",
        "<summary>Answer </summary>\n",
        "\n",
        "a)\n",
        "```\n",
        "The number of outcome six in 100 dice rolls is: 17\n",
        "```\n",
        "\n",
        "b)\n",
        "```\n",
        "Count number of six: [1, 21, 161, 1642, 16560, 166406]\n",
        "P(six) = [0.1, 0.21, 0.161, 0.1642, 0.1656, 0.1664]\n",
        "```\n",
        "\n",
        "c) Note that the graph changes due to random simulation. To reproduce this result, use\n",
        "\n",
        "```python\n",
        "random.seed(1)\n",
        "```\n",
        "\n",
        "<img align=\"left\" src=\"../assets/probability_six_graph.png\" width=\"300\"/>\n",
        "\n",
        "</details>"
      ]
    },
    {
      "cell_type": "code",
      "execution_count": 13,
      "metadata": {},
      "outputs": [
        {
          "name": "stdout",
          "output_type": "stream",
          "text": [
            "Antal sexor i 100 tärningskast: 20\n",
            "Antal sexor i varje simulation: [0, 18, 173, 1641, 16578, 166447]\n",
            "Sannolikheten för att få sexa i vaje simulation: [0.0, 0.18, 0.173, 0.1641, 0.16578, 0.166447]\n"
          ]
        },
        {
          "data": {
            "text/plain": [
              "<function matplotlib.pyplot.show(close=None, block=None)>"
            ]
          },
          "execution_count": 13,
          "metadata": {},
          "output_type": "execute_result"
        },
        {
          "data": {
            "image/png": "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",
            "text/plain": [
              "<Figure size 640x480 with 1 Axes>"
            ]
          },
          "metadata": {},
          "output_type": "display_data"
        }
      ],
      "source": [
        "# a\n",
        "\n",
        "import random\n",
        "import matplotlib.pyplot as plt\n",
        "\n",
        "dice_rolls3 = [random.randint(1,6) for _ in range(1,101)]\n",
        "count_six = dice_rolls3.count(6)\n",
        "print(f\"Antal sexor i 100 tärningskast: {count_six}\")\n",
        "\n",
        "# b\n",
        "\n",
        "roll_counts = [10, 100, 1000, 10000, 100000, 1000000]\n",
        "six_counts = []\n",
        "probabilities = []\n",
        "\n",
        "for count in roll_counts:\n",
        "    dice_rolls3 = [random.randint(1, 6) for _ in range(count)]\n",
        "    six_count = dice_rolls3.count(6)\n",
        "    probability = six_count / count\n",
        "\n",
        "    six_counts.append(six_count)\n",
        "    probabilities.append(probability)\n",
        "\n",
        "print(f\"Antal sexor i varje simulation: {six_counts}\")\n",
        "print(f\"Sannolikheten för att få sexa i vaje simulation: {probabilities}\")\n",
        "\n",
        "random.seed(1)\n",
        "plt.plot(probabilities, \"-*\")\n",
        "plt.title(\"probability of six for diffrent number rolls\")\n",
        "plt.xticks([0, 1, 2, 3, 4, 5], list(map(str,roll_counts)))\n",
        "plt.ylabel(\"probability\")\n",
        "plt.xlabel(\"Number of dice rolls\")\n",
        "plt.show"
      ]
    },
    {
      "cell_type": "markdown",
      "metadata": {
        "id": "HZDs4ddWPqNS"
      },
      "source": [
        "---\n",
        "## 6. Monte Carlo simulation (***)\n",
        "\n",
        "&nbsp; a) Simulate 5000 uniformly distributed points between -1 and 1, $X\\sim U(-1,1)$. Now calculate the Euclidean distances between each point and the origin (0,0), $d_i = \\sqrt{x_i^2 + y_i^2}$. For $d_i < 1$ plot the point with one color, and for $d_i > 1$ plot the point in another color, $i = \\{1,\\ldots, 5000\\}$.  (**)\n",
        "\n",
        "&nbsp; b) Calculate the fraction between number of inner points and number of outer points. What do you this will converge to when number of points reaches infinity? (**)\n",
        "\n",
        "\n",
        "<details>\n",
        "\n",
        "<summary>Hint</summary>\n",
        "\n",
        "a)\n",
        "\n",
        "Try solve this task with pen and paper before approaching to code it.\n",
        "\n",
        "b)\n",
        "\n",
        "Think in terms of theoretical areas. Also try to increase the number of simulated points, to see if you find convergence.\n",
        "\n",
        "</details>\n",
        "\n",
        "<details>\n",
        "\n",
        "<summary>Answer</summary>\n",
        "\n",
        "\n",
        "a)\n",
        "\n",
        "<img src=\"../assets/MC_simulation_5k.png\" width = 300>\n",
        "\n",
        "\n",
        "b)\n",
        "\n",
        "0.7908\n",
        "\n",
        "No answer here, try to prove it theoretically.\n",
        "\n",
        "\n",
        "</details>"
      ]
    },
    {
      "cell_type": "code",
      "execution_count": 12,
      "metadata": {},
      "outputs": [
        {
          "name": "stdout",
          "output_type": "stream",
          "text": [
            "0.7732\n"
          ]
        }
      ],
      "source": [
        "from math import sqrt\n",
        "import random\n",
        "from turtle import color\n",
        "\n",
        "# a\n",
        "def draw():\n",
        "    r = random.random() * 2 -1\n",
        "    if r == -1:\n",
        "        return draw()\n",
        "    else:\n",
        "        return r\n",
        "\n",
        "\n",
        "points_x = [draw() for i in range(1,5001)]\n",
        "points_y = [draw() for i in range(1,5001)]\n",
        "\n",
        "inner = 0\n",
        "outer = 0\n",
        "\n",
        "for x, y in zip(points_x, points_y):\n",
        "    d = sqrt(x**2 + y**2)\n",
        "    if d < 1:\n",
        "        plt.scatter(x, y, color=\"green\")\n",
        "        inner += 1\n",
        "    elif d > 1:\n",
        "        plt.scatter(x, y, color=\"red\")\n",
        "        outer += 1\n",
        "plt.show()\n",
        "\n",
        "# b\n",
        "        \n",
        "fraction = inner / (outer + inner)\n",
        "print(fraction)\n"
      ]
    },
    {
      "cell_type": "markdown",
      "metadata": {
        "id": "01XV62BEPqNT"
      },
      "source": [
        "---\n",
        "## 7. A cute rabbit among two ferocious snakes (***)\n",
        "\n",
        "There are three identical doors, behind two of them, there are ferocious snakes and behind one of them is a cute little rabbit. Your aim is to pick a door and get the cute rabbit. You start picking one door randomly and suddenly another door opens and snake slithers away *pssss*. Now you have a choice to either stay with your door or change to the remaining door.\n",
        "\n",
        "<img src=\"../assets/snakes_rabbits.png\" width = 200>\n",
        "\n",
        "&nbsp; a) What is your choice and why? (**)\n",
        "\n",
        "&nbsp; b) Randomly assign which door has the rabbit, and randomly pick an initial door. Now simulate 10, 100, 1000, 10000, 100000, 1000000 times for staying and for switching doors. Calculate the proportion of finding the rabbits for each set of simulations. Plot the results (**)\n",
        "\n",
        "\n",
        "<details>\n",
        "\n",
        "<summary>Hint</summary>\n",
        "\n",
        "a)\n",
        "\n",
        "Try to reason using probability.\n",
        "\n",
        "\n",
        "</details>\n",
        "\n",
        "<details>\n",
        "\n",
        "<summary>Answer</summary>\n",
        "\n",
        "\n",
        "a)\n",
        "\n",
        "You will simulate the answer in b).\n",
        "\n",
        "b)\n",
        "\n",
        "<img src=\"../assets/mh_simulations.png\" width = 300>\n",
        "\n",
        "\n",
        "\n",
        "</details>"
      ]
    },
    {
      "cell_type": "code",
      "execution_count": 58,
      "metadata": {},
      "outputs": [
        {
          "name": "stdout",
          "output_type": "stream",
          "text": [
            "staying in 10 = [0.2]\n",
            "switching in 10 = [0.8]\n",
            "staying in 100 = [0.2, 0.38]\n",
            "switching in 100 = [0.8, 0.62]\n",
            "staying in 1000 = [0.2, 0.38, 0.341]\n",
            "switching in 1000 = [0.8, 0.62, 0.659]\n",
            "staying in 10000 = [0.2, 0.38, 0.341, 0.3377]\n",
            "switching in 10000 = [0.8, 0.62, 0.659, 0.6623]\n",
            "staying in 100000 = [0.2, 0.38, 0.341, 0.3377, 0.33346]\n",
            "switching in 100000 = [0.8, 0.62, 0.659, 0.6623, 0.66654]\n",
            "staying in 1000000 = [0.2, 0.38, 0.341, 0.3377, 0.33346, 0.333733]\n",
            "switching in 1000000 = [0.8, 0.62, 0.659, 0.6623, 0.66654, 0.666267]\n"
          ]
        },
        {
          "data": {
            "image/png": "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",
            "text/plain": [
              "<Figure size 1000x600 with 1 Axes>"
            ]
          },
          "metadata": {},
          "output_type": "display_data"
        }
      ],
      "source": [
        "# b\n",
        "\n",
        "from cProfile import label\n",
        "\n",
        "\n",
        "trials = [10, 100, 1000, 10000, 100000, 1000000]\n",
        "staying = []\n",
        "switching = []\n",
        "\n",
        "for num_trials in trials:\n",
        "    staying_wins = 0\n",
        "    switching_wins = 0\n",
        "\n",
        "    for _ in range(num_trials):\n",
        "        doors = [0, 0, 0]\n",
        "        rabbit = random.randint(0,2)\n",
        "        doors[rabbit] = 1               #The door with bunny have the 1 value\n",
        "\n",
        "        first_choice = random.randint(0,2)\n",
        "        remaining_doors = [door for door in range(3) if door != first_choice and doors[door] == 0]  #Loops over the doors that is not the first pick or have a bunny\n",
        "        door_opens = random.choice(remaining_doors)\n",
        "\n",
        "        if doors[first_choice] == 1:\n",
        "            staying_wins += 1\n",
        "\n",
        "        else:\n",
        "            switching_wins += 1\n",
        "    staying.append(staying_wins / num_trials)\n",
        "    switching.append(switching_wins / num_trials)\n",
        "    print(f\"staying in {num_trials} = {staying}\")\n",
        "    print(f\"switching in {num_trials} = {switching}\")\n",
        "\n",
        "\n",
        "plt.figure(figsize=(10, 6))\n",
        "plt.plot(trials, staying, label=\"Staying with initial choice\", color=\"red\", marker=\"o\", linestyle='-', linewidth=2)\n",
        "plt.plot(trials, switching, label=\"Switching doors\", color=\"green\", marker=\"o\", linestyle='-', linewidth=2)\n",
        "plt.xscale('log')\n",
        "plt.xticks(ticks=trials, labels=[str(x) for x in trials])\n",
        "plt.xlabel(\"Number of simulations\")\n",
        "plt.ylabel(\"Proportion of wins\")\n",
        "plt.title(r\"Proportion of wins: $P(\\text{Staying}) = \\frac{1}{3}$ vs $P(\\text{Switching}) = \\frac{2}{3}$\")\n",
        "plt.legend()\n",
        "plt.show()"
      ]
    },
    {
      "cell_type": "markdown",
      "metadata": {},
      "source": []
    }
  ],
  "metadata": {
    "colab": {
      "include_colab_link": true,
      "provenance": []
    },
    "kernelspec": {
      "display_name": "Python 3 (ipykernel)",
      "language": "python",
      "name": "python3"
    },
    "language_info": {
      "codemirror_mode": {
        "name": "ipython",
        "version": 3
      },
      "file_extension": ".py",
      "mimetype": "text/x-python",
      "name": "python",
      "nbconvert_exporter": "python",
      "pygments_lexer": "ipython3",
      "version": "3.12.2"
    },
    "vscode": {
      "interpreter": {
        "hash": "7e1998ff7f8aa20ada591c520b972326324e5ea05489af9e422744c7c09f6dad"
      }
    }
  },
  "nbformat": 4,
  "nbformat_minor": 0
}
                                                                                                                                                                                                                                                                                                                                                                                                                                                                                                                                                                                                                                       