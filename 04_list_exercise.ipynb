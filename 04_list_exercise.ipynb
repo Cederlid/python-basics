{
  "cells": [
    {
      "cell_type": "markdown",
      "metadata": {
        "colab_type": "text",
        "id": "view-in-github"
      },
      "source": [
        "<a href=\"https://colab.research.google.com/github/aleylani/Python-AI24/blob/main/exercises/04_list_exercise.ipynb\" target=\"_parent\"><img src=\"https://colab.research.google.com/assets/colab-badge.svg\" alt=\"Open In Colab\"/></a>"
      ]
    },
    {
      "cell_type": "markdown",
      "metadata": {
        "id": "6uOASVKqPqNP"
      },
      "source": [
        "# list exercises\n",
        "\n",
        "---\n",
        "These are introductory exercises in Python with focus in **lists**.\n",
        "\n",
        "<p class = \"alert alert-info\" role=\"alert\"><b>Remember</b> to use <b>descriptive variable names</b> in order to get readable code </p>\n",
        "\n",
        "<p class = \"alert alert-info\" role=\"alert\"><b>Remember</b> to format your answers in a neat way using <b>f-strings</b>\n",
        "\n",
        "<p class = \"alert alert-info\" role=\"alert\"><b>Remember</b> to format your input questions in a pedagogical way to guide the user\n",
        "\n",
        "The number of stars (\\*), (\\*\\*), (\\*\\*\\*) denotes the difficulty level of the task\n",
        "\n",
        "---"
      ]
    },
    {
      "cell_type": "markdown",
      "metadata": {
        "id": "RuoOFel1PqNR"
      },
      "source": [
        "## 1. Dice rolls (*)\n",
        "\n",
        "Simulate 10 dice rolls and **append** the rolls to a list or use **list comprehension**.\n",
        "\n",
        "&nbsp; a) &nbsp; sort the list in **ascending** order (*)\n",
        "\n",
        "&nbsp; b) &nbsp; sort the list in **descending** order (*)\n",
        "\n",
        "&nbsp; c) &nbsp; find the **maximum** and **minimum** value in the list (*)\n",
        "\n",
        "\n",
        "<details>\n",
        "\n",
        "<summary>Answer </summary>\n",
        "\n",
        "a)\n",
        "```\n",
        "Ascending order: [1, 1, 2, 3, 4, 4, 4, 5, 6, 6]\n",
        "```\n",
        "\n",
        "b)\n",
        "```\n",
        "Descending order: [6, 6, 5, 4, 4, 4, 3, 2, 1, 1]\n",
        "```\n",
        "\n",
        "c)\n",
        "```\n",
        "Maximum: 6\n",
        "Minimum: 1\n",
        "```\n",
        "\n",
        "</details>\n",
        "\n",
        "\n"
      ]
    },
    {
      "cell_type": "code",
      "execution_count": 1,
      "metadata": {},
      "outputs": [
        {
          "name": "stdout",
          "output_type": "stream",
          "text": [
            "[1, 1, 3, 3, 4, 4, 4, 5, 6, 6]\n",
            "[6, 6, 5, 4, 4, 4, 3, 3, 1, 1]\n",
            "6\n",
            "1\n"
          ]
        }
      ],
      "source": [
        "import random\n",
        "\n",
        "# a\n",
        "\n",
        "dice_rolls3 = [random.randint(1,6) for r in range(10)]\n",
        "acsending = sorted(dice_rolls3)\n",
        "print(acsending)\n",
        "\n",
        "# b\n",
        "\n",
        "reverse_dice_rolls = sorted(dice_rolls3, reverse=True)\n",
        "print(reverse_dice_rolls)\n",
        "\n",
        "# c\n",
        "\n",
        "print(max(dice_rolls3))\n",
        "print(min(dice_rolls3))"
      ]
    },
    {
      "cell_type": "code",
      "execution_count": 2,
      "metadata": {},
      "outputs": [
        {
          "name": "stdout",
          "output_type": "stream",
          "text": [
            "[2, 2, 3, 3, 4, 5, 5, 5, 6, 6]\n",
            "[6, 6, 5, 5, 5, 4, 3, 3, 2, 2]\n"
          ]
        }
      ],
      "source": [
        "import random\n",
        "\n",
        "dice_rolls2 = []\n",
        "\n",
        "for roll in range(0,10):\n",
        "    dice_rolls2.append(random.randint(1,6))\n",
        "\n",
        "# a \n",
        "\n",
        "ascending_rolls = sorted(dice_rolls2)\n",
        "print(ascending_rolls)\n",
        "\n",
        "# b\n",
        "\n",
        "descending_rolls = sorted(dice_rolls2, reverse=True)\n",
        "print(descending_rolls)"
      ]
    },
    {
      "cell_type": "markdown",
      "metadata": {
        "id": "7zPeNe1TPqNR"
      },
      "source": [
        "---\n",
        "## 2. Food menu (*)\n",
        "\n",
        "Create a:  \n",
        "\n",
        "&nbsp; a) &nbsp; **list** with the following elements: \"vegetarisk lasagne\", \"spaghetti\", \"fisk\", \"grönsakssoppa\", \"pannkakor\". (*)\n",
        "\n",
        "&nbsp; b) &nbsp; **list** with the weekdays (*)\n",
        "\n",
        "&nbsp; c) &nbsp; create a food menu with each day corresponding to each food item and print it out. (*)\n",
        "\n",
        "<details>\n",
        "\n",
        "<summary>Answer</summary>\n",
        "\n",
        "c)\n",
        "```\n",
        "Bambameny\n",
        "Mån: vegetarisk lasagne\n",
        "Tis: spaghetti\n",
        "Ons: fisk\n",
        "Tor: grönsakssoppa\n",
        "Fre: pannkakor\n",
        "```\n",
        "\n",
        "</details>"
      ]
    },
    {
      "cell_type": "code",
      "execution_count": 3,
      "metadata": {},
      "outputs": [
        {
          "name": "stdout",
          "output_type": "stream",
          "text": [
            "Monday : vegetarisk lasagne\n",
            "Tuesday : spaghetti\n",
            "Wednesday : fisk\n",
            "Thursday : grönsakssoppa\n",
            "Friday : pannkakor\n"
          ]
        }
      ],
      "source": [
        "# a\n",
        "\n",
        "food = [\"vegetarisk lasagne\", \"spaghetti\", \"fisk\", \"grönsakssoppa\", \"pannkakor\"]\n",
        "\n",
        "# b\n",
        "\n",
        "weekdays = [\"Monday\", \"Tuesday\", \"Wednesday\", \"Thursday\", \"Friday\"]\n",
        "\n",
        "# c\n",
        "\n",
        "lunch_menu = [f\"{day} : {lunch}\" for day, lunch in zip(weekdays, food)]\n",
        "\n",
        "for item in lunch_menu:\n",
        "    print(item)"
      ]
    },
    {
      "cell_type": "markdown",
      "metadata": {
        "id": "EgiDRMifPqNR"
      },
      "source": [
        "---\n",
        "## 3. Squares (*)\n",
        "\n",
        "&nbsp; a) &nbsp; Use **list comprehension** to create a list of squares from -10 to 10 (*)\n",
        "\n",
        "&nbsp; a) &nbsp; Plot this list using **matplotlib**. (*)\n",
        "\n",
        "<details>\n",
        "\n",
        "<summary>Answer</summary>\n",
        "\n",
        "a)\n",
        "```\n",
        "[100, 81, 64, 49, 36, 25, 16, 9, 4, 1, 0, 1, 4, 9, 16, 25, 36, 49, 64, 81, 100]\n",
        "```\n",
        "\n",
        "b)\n",
        "\n",
        "<img align=\"left\" src=\"../assets/x^2_graph.png\" width=\"300\"/>\n",
        "</details>"
      ]
    },
    {
      "cell_type": "code",
      "execution_count": 4,
      "metadata": {},
      "outputs": [
        {
          "name": "stdout",
          "output_type": "stream",
          "text": [
            "[100, 81, 64, 49, 36, 25, 16, 9, 4, 1, 0, 1, 4, 9, 16, 25, 36, 49, 64, 81, 100]\n"
          ]
        },
        {
          "data": {
            "image/png": "[encoded data removed]",
            "text/plain": [
              "<Figure size 640x480 with 1 Axes>"
            ]
          },
          "metadata": {},
          "output_type": "display_data"
        }
      ],
      "source": [
        "# a\n",
        "\n",
        "squares = [ x**2 for x in range(-10,11)]\n",
        "print(squares)\n",
        "\n",
        "# b\n",
        "\n",
        "import matplotlib.pyplot as plt \n",
        "plt.plot(squares)\n",
        "plt.xlabel(\"X\")\n",
        "plt.ylabel(\"Y\")\n",
        "plt.title(r\"The function $x^2$\")\n",
        "plt.show()"
      ]
    },
    {
      "cell_type": "markdown",
      "metadata": {
        "id": "4U54qkB5PqNS"
      },
      "source": [
        "---\n",
        "## 4. Chessboard (**)\n",
        "\n",
        "&nbsp; a) &nbsp; Create this list using **list comprehension**: (*)\n",
        "\n",
        "```python\n",
        "['A1', 'B1', 'C1', 'D1', 'E1', 'F1', 'G1', 'H1']\n",
        "```\n",
        "\n",
        "&nbsp; b) &nbsp; Create a 2D list to hold the coordinates in a chessboard. (**)\n",
        "\n",
        "<details>\n",
        "\n",
        "<summary>Hint</summary>\n",
        "\n",
        "b) Use **f-string** and create a list of characters with:\n",
        "\n",
        "```python\n",
        "list(\"ABCDEFGH)\n",
        "```\n",
        "\n",
        "b) One option is to use nested list comprehension where one for-loop creates the first list and the other creates several of the first list\n",
        "\n",
        "</details>\n",
        "\n",
        "\n",
        "<details>\n",
        "\n",
        "<summary>Answer</summary>\n",
        "\n",
        "b)\n",
        "```\n",
        "[['A1', 'B1', 'C1', 'D1', 'E1', 'F1', 'G1', 'H1'],\n",
        " ['A2', 'B2', 'C2', 'D2', 'E2', 'F2', 'G2', 'H2'],\n",
        " ['A3', 'B3', 'C3', 'D3', 'E3', 'F3', 'G3', 'H3'],\n",
        " ['A4', 'B4', 'C4', 'D4', 'E4', 'F4', 'G4', 'H4'],\n",
        " ['A5', 'B5', 'C5', 'D5', 'E5', 'F5', 'G5', 'H5'],\n",
        " ['A6', 'B6', 'C6', 'D6', 'E6', 'F6', 'G6', 'H6'],\n",
        " ['A7', 'B7', 'C7', 'D7', 'E7', 'F7', 'G7', 'H7'],\n",
        " ['A8', 'B8', 'C8', 'D8', 'E8', 'F8', 'G8', 'H8']]\n",
        "```\n",
        "\n",
        "</details>"
      ]
    },
    {
      "cell_type": "code",
      "execution_count": 5,
      "metadata": {},
      "outputs": [
        {
          "name": "stdout",
          "output_type": "stream",
          "text": [
            "['A1', 'B1', 'C1', 'D1', 'E1', 'F1', 'G1', 'H1']\n",
            "\n",
            "['A1', 'B1', 'C1', 'D1', 'E1', 'F1', 'G1', 'H1']\n",
            "['A2', 'B2', 'C2', 'D2', 'E2', 'F2', 'G2', 'H2']\n",
            "['A3', 'B3', 'C3', 'D3', 'E3', 'F3', 'G3', 'H3']\n",
            "['A4', 'B4', 'C4', 'D4', 'E4', 'F4', 'G4', 'H4']\n",
            "['A5', 'B5', 'C5', 'D5', 'E5', 'F5', 'G5', 'H5']\n",
            "['A6', 'B6', 'C6', 'D6', 'E6', 'F6', 'G6', 'H6']\n",
            "['A7', 'B7', 'C7', 'D7', 'E7', 'F7', 'G7', 'H7']\n",
            "['A8', 'B8', 'C8', 'D8', 'E8', 'F8', 'G8', 'H8']\n"
          ]
        }
      ],
      "source": [
        "# a\n",
        "\n",
        "chessboard = [chr(i) + \"1\" for i in range(ord(\"A\"), ord(\"I\"))]\n",
        "\n",
        "print(chessboard)\n",
        "print()\n",
        "\n",
        "# b\n",
        "\n",
        "chessboard_2d = [[chr(i) + str(j) for i in range (ord(\"A\"), ord(\"I\"))] for j in range(1,9)]\n",
        "\n",
        "for row in chessboard_2d:\n",
        "\n",
        "    print(row)"
      ]
    },
    {
      "cell_type": "markdown",
      "metadata": {
        "id": "5rzM8OsCPqNS"
      },
      "source": [
        "---\n",
        "## 5. Dice rolls convergence (**)\n",
        "\n",
        "Simulate:\n",
        "\n",
        "&nbsp; a) &nbsp; 100 dice rolls and count the number of outcome six. (*)\n",
        "\n",
        "&nbsp; b) &nbsp; 10, 100, 1000, 10000, 100000, 1000000 dice rolls. Count the number of outcome six in each simulation and store it in a list. Compute the probability of outcome six in each simulation. (**)\n",
        "\n",
        "&nbsp; c) &nbsp; Use matplotlib to plot this list. (*)\n",
        "\n",
        "<details>\n",
        "\n",
        "<summary>Hint </summary>\n",
        "\n",
        "Use this code for plot settings:\n",
        "\n",
        "```python\n",
        "plt.plot(probability_six, '-*')\n",
        "plt.title(\"Probability of six for different number of rolls\")\n",
        "plt.xticks([0,1,2,3,4,5], num_rolls);\n",
        "plt.xlabel(\"Number of dice rolls\")\n",
        "plt.ylabel(\"Probability\")\n",
        "\n",
        "```\n",
        "</details>\n",
        "\n",
        "<details>\n",
        "\n",
        "<summary>Answer </summary>\n",
        "\n",
        "a)\n",
        "```\n",
        "The number of outcome six in 100 dice rolls is: 17\n",
        "```\n",
        "\n",
        "b)\n",
        "```\n",
        "Count number of six: [1, 21, 161, 1642, 16560, 166406]\n",
        "P(six) = [0.1, 0.21, 0.161, 0.1642, 0.1656, 0.1664]\n",
        "```\n",
        "\n",
        "c) Note that the graph changes due to random simulation. To reproduce this result, use\n",
        "\n",
        "```python\n",
        "random.seed(1)\n",
        "```\n",
        "\n",
        "<img align=\"left\" src=\"../assets/probability_six_graph.png\" width=\"300\"/>\n",
        "\n",
        "</details>"
      ]
    },
    {
      "cell_type": "code",
      "execution_count": 69,
      "metadata": {},
      "outputs": [
        {
          "name": "stdout",
          "output_type": "stream",
          "text": [
            "Antal sexor i 100 tärningskast: 14\n",
            "Antal sexor i varje simulation: [1, 13, 182, 1703, 16720, 166666]\n",
            "Sannolikheten för att få sexa i vaje simulation: [0.1, 0.13, 0.182, 0.1703, 0.1672, 0.166666]\n"
          ]
        },
        {
          "data": {
            "text/plain": [
              "<function matplotlib.pyplot.show(close=None, block=None)>"
            ]
          },
          "execution_count": 69,
          "metadata": {},
          "output_type": "execute_result"
        },
        {
          "data": {
            "image/png": "[encoded data removed]",
            "text/plain": [
              "<Figure size 640x480 with 1 Axes>"
            ]
          },
          "metadata": {},
          "output_type": "display_data"
        }
      ],
      "source": [
        "# a\n",
        "\n",
        "import random\n",
        "import matplotlib.pyplot as plt\n",
        "\n",
        "dice_rolls3 = [random.randint(1,6) for _ in range(1,101)]\n",
        "count_six = dice_rolls3.count(6)\n",
        "print(f\"Antal sexor i 100 tärningskast: {count_six}\")\n",
        "\n",
        "# b\n",
        "\n",
        "roll_counts = [10, 100, 1000, 10000, 100000, 1000000]\n",
        "six_counts = []\n",
        "probabilities = []\n",
        "\n",
        "for count in roll_counts:\n",
        "    dice_rolls3 = [random.randint(1, 6) for _ in range(count)]\n",
        "    six_count = dice_rolls3.count(6)\n",
        "    probability = six_count / count\n",
        "\n",
        "    six_counts.append(six_count)\n",
        "    probabilities.append(probability)\n",
        "\n",
        "print(f\"Antal sexor i varje simulation: {six_counts}\")\n",
        "print(f\"Sannolikheten för att få sexa i vaje simulation: {probabilities}\")\n",
        "\n",
        "random.seed(1)\n",
        "plt.plot(probabilities, \"-*\")\n",
        "plt.title(\"probability of six for diffrent number rolls\")\n",
        "plt.xticks([0, 1, 2, 3, 4, 5], list(map(str,roll_counts)))\n",
        "plt.ylabel(\"probability\")\n",
        "plt.xlabel(\"Number of dice rolls\")\n",
        "plt.show"
      ]
    },
    {
      "cell_type": "markdown",
      "metadata": {
        "id": "HZDs4ddWPqNS"
      },
      "source": [
        "---\n",
        "## 6. Monte Carlo simulation (***)\n",
        "\n",
        "&nbsp; a) Simulate 5000 uniformly distributed points between -1 and 1, $X\\sim U(-1,1)$. Now calculate the Euclidean distances between each point and the origin (0,0), $d_i = \\sqrt{x_i^2 + y_i^2}$. For $d_i < 1$ plot the point with one color, and for $d_i > 1$ plot the point in another color, $i = \\{1,\\ldots, 5000\\}$.  (**)\n",
        "\n",
        "&nbsp; b) Calculate the fraction between number of inner points and number of outer points. What do you this will converge to when number of points reaches infinity? (**)\n",
        "\n",
        "\n",
        "<details>\n",
        "\n",
        "<summary>Hint</summary>\n",
        "\n",
        "a)\n",
        "\n",
        "Try solve this task with pen and paper before approaching to code it.\n",
        "\n",
        "b)\n",
        "\n",
        "Think in terms of theoretical areas. Also try to increase the number of simulated points, to see if you find convergence.\n",
        "\n",
        "</details>\n",
        "\n",
        "<details>\n",
        "\n",
        "<summary>Answer</summary>\n",
        "\n",
        "\n",
        "a)\n",
        "\n",
        "<img src=\"../assets/MC_simulation_5k.png\" width = 300>\n",
        "\n",
        "\n",
        "b)\n",
        "\n",
        "0.7908\n",
        "\n",
        "No answer here, try to prove it theoretically.\n",
        "\n",
        "\n",
        "</details>"
      ]
    },
    {
      "cell_type": "code",
      "execution_count": 12,
      "metadata": {},
      "outputs": [
        {
          "name": "stdout",
          "output_type": "stream",
          "text": [
            "0.7732\n"
          ]
        }
      ],
      "source": [
        "from math import sqrt\n",
        "import random\n",
        "from turtle import color\n",
        "\n",
        "# a\n",
        "def draw():\n",
        "    r = random.random() * 2 -1\n",
        "    if r == -1:\n",
        "        return draw()\n",
        "    else:\n",
        "        return r\n",
        "\n",
        "\n",
        "points_x = [draw() for i in range(1,5001)]\n",
        "points_y = [draw() for i in range(1,5001)]\n",
        "\n",
        "inner = 0\n",
        "outer = 0\n",
        "\n",
        "for x, y in zip(points_x, points_y):\n",
        "    d = sqrt(x**2 + y**2)\n",
        "    if d < 1:\n",
        "        plt.scatter(x, y, color=\"green\")\n",
        "        inner += 1\n",
        "    elif d > 1:\n",
        "        plt.scatter(x, y, color=\"red\")\n",
        "        outer += 1\n",
        "plt.show()\n",
        "\n",
        "# b\n",
        "        \n",
        "fraction = inner / (outer + inner)\n",
        "print(fraction)\n"
      ]
    },
    {
      "cell_type": "markdown",
      "metadata": {
        "id": "01XV62BEPqNT"
      },
      "source": [
        "---\n",
        "## 7. A cute rabbit among two ferocious snakes (***)\n",
        "\n",
        "There are three identical doors, behind two of them, there are ferocious snakes and behind one of them is a cute little rabbit. Your aim is to pick a door and get the cute rabbit. You start picking one door randomly and suddenly another door opens and snake slithers away *pssss*. Now you have a choice to either stay with your door or change to the remaining door.\n",
        "\n",
        "<img src=\"../assets/snakes_rabbits.png\" width = 200>\n",
        "\n",
        "&nbsp; a) What is your choice and why? (**)\n",
        "\n",
        "&nbsp; b) Randomly assign which door has the rabbit, and randomly pick an initial door. Now simulate 10, 100, 1000, 10000, 100000, 1000000 times for staying and for switching doors. Calculate the proportion of finding the rabbits for each set of simulations. Plot the results (**)\n",
        "\n",
        "\n",
        "<details>\n",
        "\n",
        "<summary>Hint</summary>\n",
        "\n",
        "a)\n",
        "\n",
        "Try to reason using probability.\n",
        "\n",
        "\n",
        "</details>\n",
        "\n",
        "<details>\n",
        "\n",
        "<summary>Answer</summary>\n",
        "\n",
        "\n",
        "a)\n",
        "\n",
        "You will simulate the answer in b).\n",
        "\n",
        "b)\n",
        "\n",
        "<img src=\"../assets/mh_simulations.png\" width = 300>\n",
        "\n",
        "\n",
        "\n",
        "</details>"
      ]
    },
    {
      "cell_type": "code",
      "execution_count": 68,
      "metadata": {},
      "outputs": [
        {
          "name": "stdout",
          "output_type": "stream",
          "text": [
            "staying in 10 = [0.3]\n",
            "switching in 10 = [0.7]\n",
            "staying in 100 = [0.3, 0.29]\n",
            "switching in 100 = [0.7, 0.71]\n",
            "staying in 1000 = [0.3, 0.29, 0.329]\n",
            "switching in 1000 = [0.7, 0.71, 0.671]\n",
            "staying in 10000 = [0.3, 0.29, 0.329, 0.3301]\n",
            "switching in 10000 = [0.7, 0.71, 0.671, 0.6699]\n",
            "staying in 100000 = [0.3, 0.29, 0.329, 0.3301, 0.33195]\n",
            "switching in 100000 = [0.7, 0.71, 0.671, 0.6699, 0.66805]\n",
            "staying in 1000000 = [0.3, 0.29, 0.329, 0.3301, 0.33195, 0.333716]\n",
            "switching in 1000000 = [0.7, 0.71, 0.671, 0.6699, 0.66805, 0.666284]\n"
          ]
        },
        {
          "data": {
            "image/png": "[encoded data removed]",
            "text/plain": [
              "<Figure size 1000x600 with 1 Axes>"
            ]
          },
          "metadata": {},
          "output_type": "display_data"
        }
      ],
      "source": [
        "# b\n",
        "\n",
        "trials = [10, 100, 1000, 10000, 100000, 1000000]\n",
        "staying = []\n",
        "switching = []\n",
        "\n",
        "for num_trials in trials:\n",
        "    staying_wins = 0\n",
        "    switching_wins = 0\n",
        "\n",
        "    for _ in range(num_trials):\n",
        "        doors = [0, 0, 0]\n",
        "        rabbit = random.randint(0,2)\n",
        "        doors[rabbit] = 1               #The door with bunny have the 1 value\n",
        "\n",
        "        first_choice = random.randint(0,2)\n",
        "        remaining_doors = [door for door in range(3) if door != first_choice and doors[door] == 0]  #Loops over the doors that is not the first pick or have a bunny\n",
        "        door_opens = random.choice(remaining_doors)\n",
        "\n",
        "        if doors[first_choice] == 1:\n",
        "            staying_wins += 1\n",
        "\n",
        "        else:\n",
        "            switching_wins += 1\n",
        "   \n",
        "    assert num_trials == staying_wins + switching_wins\n",
        "    staying.append(staying_wins / num_trials)\n",
        "    switching.append(switching_wins / num_trials)\n",
        "    print(f\"staying in {num_trials} = {staying}\")\n",
        "    print(f\"switching in {num_trials} = {switching}\")\n",
        "\n",
        "plt.figure(figsize=(10, 6))\n",
        "plt.plot(trials, staying, label=\"Staying with initial choice\", color=\"red\", marker=\"o\", linestyle='-', linewidth=2)\n",
        "plt.plot(trials, switching, label=\"Switching doors\", color=\"green\", marker=\"o\", linestyle='-', linewidth=2)\n",
        "plt.xscale('log')\n",
        "plt.xticks(ticks=trials, labels=[str(x) for x in trials])\n",
        "plt.xlabel(\"Number of simulations\")\n",
        "plt.ylabel(\"Proportion of wins\")\n",
        "plt.title(r\"Proportion of wins: $P(\\text{Staying}) = \\frac{1}{3}$ vs $P(\\text{Switching}) = \\frac{2}{3}$\")\n",
        "plt.legend()\n",
        "plt.show()"
      ]
    },
    {
      "cell_type": "markdown",
      "metadata": {},
      "source": []
    }
  ],
  "metadata": {
    "colab": {
      "include_colab_link": true,
      "provenance": []
    },
    "kernelspec": {
      "display_name": "Python 3 (ipykernel)",
      "language": "python",
      "name": "python3"
    },
    "language_info": {
      "codemirror_mode": {
        "name": "ipython",
        "version": 3
      },
      "file_extension": ".py",
      "mimetype": "text/x-python",
      "name": "python",
      "nbconvert_exporter": "python",
      "pygments_lexer": "ipython3",
      "version": "3.12.2"
    },
    "vscode": {
      "interpreter": {
        "hash": "7e1998ff7f8aa20ada591c520b972326324e5ea05489af9e422744c7c09f6dad"
      }
    }
  },
  "nbformat": 4,
  "nbformat_minor": 0
}
