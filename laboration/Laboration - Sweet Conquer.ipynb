{
  "cells": [
    {
      "cell_type": "markdown",
      "metadata": {
        "id": "c51bqkH1RTxf"
      },
      "source": [
        "## Laboration - Sweet & Conquer"
      ]
    },
    {
      "cell_type": "markdown",
      "metadata": {},
      "source": [
        "**[Top Secret] Intelligence Briefing**\n",
        "\n",
        "\n",
        "Mayday! Mayday! \n",
        "\n",
        "One of the farmers of Fire Nation, whilst on a trip abroad to the neighbouring Earth Kingdom, was bored and apparently threw an apple at a local peasant. \n",
        "\n",
        "Now, 24h hours later, the world is at war.\n",
        "\n",
        "The conflict first involved only Fire Nation & the Earth Kingdom - but the Water Tribe and the Air Nomads swiftly decided to join in as well (for some random reason). \n",
        "\n",
        "Rumour is that they also wanted to join in on the apple free-for-all fiesta.\n",
        "\n",
        "\n",
        "**Main objective**\n",
        "\n",
        "Evidently, to win 'the apple wars', the goal of each faction is to steal all fruits from the others.\n",
        "\n",
        "Our objective is to simulate the dynamics of this little... dispute. \n",
        "\n",
        "\n",
        "**Grading criteria & general instructions**\n",
        "\n",
        "In general, grading will be based on the code in it's entirety. Extra weight will be put on readability, so think carefully about proper variable usage, method naming & docstrings and supplemental comments. \n",
        "\n",
        "Importantly, also make sure to implement type hints wherever applicable!\n",
        "\n",
        "The tasks are categorized into difficulty tiers. To pass the lab (betyg G), you only need to work on the tasks designated with * (1 star) and completing most of them in a satisfactory manner. \n",
        "\n",
        "Succesfully completing the tasks marked with ** (two stars), and making atleast some progress on the one marked with *** (3 stars) ears your the higher grade (betyg VG).\n",
        "\n",
        "There is another task, marked with BONUS. That one has no impact on the grading, but adds a fun dynamic to the simulation. It requires the task marked with *** to tbe completed first.\n",
        "\n"
      ]
    },
    {
      "cell_type": "markdown",
      "metadata": {},
      "source": [
        "## Tasks\n",
        "\n",
        "Here's the boilerplate (starter code) for a class called Faction that you'll be working on. The instances of this class will represent the different competing factions."
      ]
    },
    {
      "cell_type": "code",
      "execution_count": 3,
      "metadata": {},
      "outputs": [],
      "source": [
        "# imports here\n",
        "import matplotlib.pyplot as plt\n",
        "import random\n",
        "\n",
        "class Faction:\n",
        "\n",
        "    # your code here\n",
        "    # begin with __init__ and follow up by properties and setters\n",
        "\n",
        "    def __init__(self, name: str, apples: int, oranges: int, bananas: int, strawberries: int) -> None:\n",
        "        self.name = name\n",
        "        self.apples = apples\n",
        "        self.oranges = oranges\n",
        "        self.bananas = bananas\n",
        "        self.strawberries = strawberries\n",
        "\n",
        "    @property\n",
        "    def name(self) -> str:\n",
        "        return self.__name\n",
        "    \n",
        "    @property\n",
        "    def apples(self) -> int:\n",
        "        return self.__apples\n",
        "    \n",
        "    @property\n",
        "    def oranges(self) -> int:\n",
        "        return self.__oranges\n",
        "    \n",
        "    @property\n",
        "    def bananas(self) -> int:\n",
        "        return self.__bananas\n",
        "    \n",
        "    @property\n",
        "    def strawberries(self) -> int:\n",
        "        return self.__strawberries\n",
        "    \n",
        "    @name.setter\n",
        "    def name(self, name: str) -> None:\n",
        "        if not isinstance(name, str):\n",
        "            raise TypeError(\"The name must be a string\")\n",
        "        self.__name = name\n",
        "\n",
        "    @apples.setter\n",
        "    def apples(self, apples: int) -> None:\n",
        "        if not isinstance(apples, int):\n",
        "            raise TypeError(\"Apples must be an integer\")\n",
        "        if not (0 <= apples <= 200):\n",
        "            raise ValueError(\"The amount of apples must be between 0-200\")\n",
        "        self.__apples = apples\n",
        "    \n",
        "    @oranges.setter\n",
        "    def oranges(self, oranges: int) -> None:\n",
        "        if not isinstance(oranges, int):\n",
        "            raise TypeError(\"Oranges must be an integer\")\n",
        "        if not (0 <= oranges <= 200):\n",
        "            raise ValueError(\"The amount of oranges must be between 0-200\")\n",
        "        self.__oranges = oranges\n",
        "\n",
        "    @bananas.setter\n",
        "    def bananas(self, bananas: int) -> None:\n",
        "        if not isinstance(bananas, int):\n",
        "            raise TypeError(\"Bananas must be an integer\")\n",
        "        if not (0 <= bananas <= 200):\n",
        "            raise ValueError(\"The amount of bananas must be between 0-200\")\n",
        "        self.__bananas = bananas\n",
        "\n",
        "    @strawberries.setter\n",
        "    def strawberries(self, strawberries: int) -> None:\n",
        "        if not isinstance(strawberries, int):\n",
        "            raise TypeError(\"Strawberries must be an integer\")\n",
        "        if not (0 <= strawberries <= 200):\n",
        "            raise ValueError(\"The amount of strawberries must be between 0-200\")\n",
        "        self.__strawberries = strawberries\n",
        "\n",
        "    def inventory(self) -> int:\n",
        "        return self.apples + self.oranges + self.bananas + self.strawberries\n",
        "    \n",
        "    def status(self) -> str:\n",
        "        total_fruits = self.inventory()\n",
        "        if total_fruits <= 150:\n",
        "            return f\"This ain't nothin' but a scratch! {self.name} might be struggling for the moment, but will be back with vengeance!\"\n",
        "        elif 150 < total_fruits <= 500:\n",
        "            return f\"The proud {self.name} is VERY eager to toss some apples! Where are the opponents?!\"\n",
        "        else:\n",
        "            return f\"{self.name} is GODLIKE! Their position is super dominant!\"\n",
        "\n",
        "    def visualize_resources(self) -> None:\n",
        "       fruits = [\"Apples\", \"Oranges\", \"Bananas\", \"Strawberries\"]\n",
        "       fruit_amount = [self.apples, self.oranges, self.bananas, self.strawberries]\n",
        "\n",
        "       colors = []\n",
        "       for amount in fruit_amount:\n",
        "            if amount >= 100:\n",
        "                colors.append(\"green\")\n",
        "            elif amount > 50:\n",
        "                colors.append(\"orange\")\n",
        "            else:\n",
        "                colors.append(\"red\")\n",
        "        \n",
        "       plt.title(f\"Quantity of each fruit owned by {self.name}\")\n",
        "       plt.xlabel(\"Fruits\")\n",
        "       plt.ylabel(\"Amount\")\n",
        "       plt.bar(fruits, fruit_amount, color= colors)\n",
        "       plt.show()\n",
        "        \n",
        "\n",
        "    def organical_growth(self) -> None:\n",
        "        def grow_fruit(fruit_name: str, current_amount:int)-> int: \n",
        "            new_amount = -1\n",
        "            if current_amount <= 200:\n",
        "                growth = random.randint(1, 5)\n",
        "                new_amount = min(current_amount + growth, 200)\n",
        "                            \n",
        "            else:\n",
        "                raise ValueError(f\"Unexpected to get here cause the fruit amount of {fruit_name} is {current_amount}\")\n",
        "            \n",
        "            growth = new_amount - current_amount\n",
        "\n",
        "            if growth == 0:\n",
        "                print(f\"Glorious {self.name} is already at maximum capacity for {fruit_name}!\")   \n",
        "            else:\n",
        "                print(f\"Glorious {self.name} has harvested {growth} {fruit_name}, to a new total of {new_amount}!\")\n",
        "                \n",
        "            return new_amount\n",
        "\n",
        "        self.apples = grow_fruit(\"apples\", self.apples)\n",
        "        self.oranges = grow_fruit(\"oranges\", self.oranges)\n",
        "        self.bananas = grow_fruit(\"bananas\", self.bananas)\n",
        "        self.strawberries = grow_fruit(\"strawberries\", self.strawberries)\n",
        "\n",
        "\n",
        "    def __mul__(self) -> None:\n",
        "      \n",
        "        pass\n",
        "\n",
        "    \n",
        "    def trade_offer(self) -> None:\n",
        "        \n",
        "        pass\n",
        "\n",
        "\n",
        "    def __repr__(self) -> str: \n",
        "        return f\"Faction(name={self.name}, apples={self.apples}, oranges={self.oranges}, bananas={self.bananas}, strawberries={self.strawberries})\""
      ]
    },
    {
      "cell_type": "markdown",
      "metadata": {},
      "source": [
        "**1)*** \n",
        "\n",
        "* The __init__() method\n",
        "\n",
        "This method should be able to accept the following user-provided arguments: **name**, **apples**, **oranges**, **bananas**, **strawberries** and initiate corresponding attributes with the same name as the arguments. \n",
        "\n",
        "Attribute description:\n",
        "\n",
        "**name**         : the name of the faction\n",
        "\n",
        "**apples**       : amount of apples currently controlled\n",
        "\n",
        "**oranges**      : amount of oranges currently controlled\n",
        "\n",
        "**bananas**      : amount of bananas currently controlled\n",
        "\n",
        "**strawberries** : amount of strawberries currently controlled\n",
        "\n",
        "*Don't forget to define getter and setter methods for the attributes!*\n",
        "\n",
        "--\n",
        "\n",
        "Restrictions:\n",
        "\n",
        "The name should be handed in as a string. Implement relevant checks and raise TypeError (with a suitable message) else.\n",
        "\n",
        "The fruit amounts should be given in integers. Implement relevant checks and raise TypeError (with a suitable message) else.\n",
        "\n",
        "Furthermore, the fruit amounts should only be between 0-200. Implement relevant checks and raise ValueError (with a suitable message) else."
      ]
    },
    {
      "cell_type": "code",
      "execution_count": 4,
      "metadata": {},
      "outputs": [],
      "source": [
        "# you should now be able to create the following instances\n",
        "\n",
        "fire_nation = Faction('Fire Nation', 120, 120, 150, 180)\n",
        "earth_kingdom = Faction('Earth Kingdom', 6, 4, 2, 1)\n",
        "water_tribe = Faction('Water Tribe', 100, 100, 100, 100)\n",
        "air_nomads = Faction('Air Nomads', 100, 100, 100, 100)"
      ]
    },
    {
      "cell_type": "code",
      "execution_count": 15,
      "metadata": {},
      "outputs": [
        {
          "ename": "ValueError",
          "evalue": "The amount of strawberries must be between 0-200",
          "output_type": "error",
          "traceback": [
            "\u001b[0;31m---------------------------------------------------------------------------\u001b[0m",
            "\u001b[0;31mValueError\u001b[0m                                Traceback (most recent call last)",
            "Cell \u001b[0;32mIn[15], line 3\u001b[0m\n\u001b[1;32m      1\u001b[0m \u001b[39m# neither one of these should now work (try each one seperatly, by commenting the others out)\u001b[39;00m\n\u001b[0;32m----> 3\u001b[0m pancake_cult \u001b[39m=\u001b[39m Faction(\u001b[39m'\u001b[39m\u001b[39mPancake Cult\u001b[39m\u001b[39m'\u001b[39m, \u001b[39m30\u001b[39m, \u001b[39m20\u001b[39m, \u001b[39m200\u001b[39m, \u001b[39m210\u001b[39m)\n\u001b[1;32m      4\u001b[0m cupcake_assassins \u001b[39m=\u001b[39m Faction(\u001b[39m'\u001b[39m\u001b[39mCupcake Assassins\u001b[39m\u001b[39m'\u001b[39m, \u001b[39m1\u001b[39m, \u001b[39m1\u001b[39m, \u001b[39m1\u001b[39m, \u001b[39m-\u001b[39m\u001b[39m5\u001b[39m)\n\u001b[1;32m      5\u001b[0m milk_drinkers \u001b[39m=\u001b[39m Faction(\u001b[39m'\u001b[39m\u001b[39mMilk Drinkers\u001b[39m\u001b[39m'\u001b[39m, \u001b[39m30\u001b[39m, [\u001b[39m50\u001b[39m], \u001b[39m200\u001b[39m, \u001b[39m160\u001b[39m)\n",
            "Cell \u001b[0;32mIn[5], line 14\u001b[0m, in \u001b[0;36mFaction.__init__\u001b[0;34m(self, name, apples, oranges, bananas, strawberries)\u001b[0m\n\u001b[1;32m     12\u001b[0m \u001b[39mself\u001b[39m\u001b[39m.\u001b[39moranges \u001b[39m=\u001b[39m oranges\n\u001b[1;32m     13\u001b[0m \u001b[39mself\u001b[39m\u001b[39m.\u001b[39mbananas \u001b[39m=\u001b[39m bananas\n\u001b[0;32m---> 14\u001b[0m \u001b[39mself\u001b[39m\u001b[39m.\u001b[39mstrawberries \u001b[39m=\u001b[39m strawberries\n",
            "Cell \u001b[0;32mIn[5], line 71\u001b[0m, in \u001b[0;36mFaction.strawberries\u001b[0;34m(self, strawberries)\u001b[0m\n\u001b[1;32m     69\u001b[0m     \u001b[39mraise\u001b[39;00m \u001b[39mTypeError\u001b[39;00m(\u001b[39m\"\u001b[39m\u001b[39mStrawberries must be an integer\u001b[39m\u001b[39m\"\u001b[39m)\n\u001b[1;32m     70\u001b[0m \u001b[39mif\u001b[39;00m \u001b[39mnot\u001b[39;00m (\u001b[39m0\u001b[39m \u001b[39m<\u001b[39m\u001b[39m=\u001b[39m strawberries \u001b[39m<\u001b[39m\u001b[39m=\u001b[39m \u001b[39m200\u001b[39m):\n\u001b[0;32m---> 71\u001b[0m     \u001b[39mraise\u001b[39;00m \u001b[39mValueError\u001b[39;00m(\u001b[39m\"\u001b[39m\u001b[39mThe amount of strawberries must be between 0-200\u001b[39m\u001b[39m\"\u001b[39m)\n\u001b[1;32m     72\u001b[0m \u001b[39mself\u001b[39m\u001b[39m.\u001b[39m__strawberries \u001b[39m=\u001b[39m strawberries\n",
            "\u001b[0;31mValueError\u001b[0m: The amount of strawberries must be between 0-200"
          ]
        }
      ],
      "source": [
        "# neither one of these should now work (try each one seperatly, by commenting the others out)\n",
        " \n",
        "pancake_cult = Faction('Pancake Cult', 30, 20, 200, 210)\n",
        "cupcake_assassins = Faction('Cupcake Assassins', 1, 1, 1, -5)\n",
        "milk_drinkers = Faction('Milk Drinkers', 30, [50], 200, 160)"
      ]
    },
    {
      "cell_type": "markdown",
      "metadata": {},
      "source": [
        "**2)*** \n",
        "\n",
        "* The __repr__() method\n",
        "\n",
        "This method takes no user-provided arguments. When called on, **returns** a clear and concise string with information about the current attributes of this instance.\n",
        "\n",
        "For example, using the following code:\n",
        "\n",
        "        print(fire_nation)\n",
        "\n",
        "should print out the following string:\n",
        "\n",
        "        Faction(name='Fire Nation', apples=120, oranges=120, bananas=150, strawberries=180)"
      ]
    },
    {
      "cell_type": "code",
      "execution_count": 16,
      "metadata": {},
      "outputs": [
        {
          "name": "stdout",
          "output_type": "stream",
          "text": [
            "Faction(name=Fire Nation, apples=120, oranges=120, bananas=150, strawberries=180)\n",
            "Faction(name=Earth Kingdom, apples=6, oranges=4, bananas=2, strawberries=1)\n",
            "Faction(name=Water Tribe, apples=100, oranges=100, bananas=100, strawberries=100)\n",
            "Faction(name=Air Nomads, apples=100, oranges=100, bananas=100, strawberries=100)\n"
          ]
        }
      ],
      "source": [
        "# you should now be able to run this\n",
        "\n",
        "print(fire_nation)\n",
        "print(earth_kingdom)\n",
        "print(water_tribe)\n",
        "print(air_nomads)"
      ]
    },
    {
      "cell_type": "markdown",
      "metadata": {},
      "source": [
        "**3)*** \n",
        "\n",
        "* getters and setters\n",
        "\n",
        "You should've already implemented these in problem 1) already, but if not, you really should now.\n",
        "\n",
        "They allow the user to read and alter the current values of the various private attributes.\n",
        "\n",
        "For example, using the following code:\n",
        "\n",
        "        print(fire_nation.name)\n",
        "\n",
        "should print out the following string:\n",
        "\n",
        "        Fire Nation"
      ]
    },
    {
      "cell_type": "code",
      "execution_count": 17,
      "metadata": {},
      "outputs": [
        {
          "name": "stdout",
          "output_type": "stream",
          "text": [
            "Fire Nation\n"
          ]
        }
      ],
      "source": [
        "# this code should now reproduce the output in the example\n",
        "\n",
        "print(fire_nation.name)"
      ]
    },
    {
      "cell_type": "markdown",
      "metadata": {},
      "source": [
        "**4)***\n",
        "\n",
        "* The inventory() method\n",
        "\n",
        "This method takes no user provided arguments. It **returns** the total amount of fruits the faction currently possess - and this should be a single integer. "
      ]
    },
    {
      "cell_type": "code",
      "execution_count": 18,
      "metadata": {},
      "outputs": [
        {
          "name": "stdout",
          "output_type": "stream",
          "text": [
            "570\n",
            "13\n",
            "400\n",
            "400\n"
          ]
        }
      ],
      "source": [
        "# try it yourself after implementing\n",
        "print(fire_nation.inventory())\n",
        "print(earth_kingdom.inventory())\n",
        "print(water_tribe.inventory())\n",
        "print(air_nomads.inventory())"
      ]
    },
    {
      "cell_type": "markdown",
      "metadata": {},
      "source": [
        "**5)***\n",
        "\n",
        "* The status() method\n",
        "\n",
        "This method takes no user provided arguments. It prints out the state of each faction depending on the total number of fruits they currently possess.\n",
        "\n",
        "Here's a guide to what should be printed out, depending on the total number of fruits\n",
        "\n",
        "        total <= 150:\n",
        "\n",
        "                This aint nothin but a scratch! {faction_name} might be struggling for the moment, but will be back with vengance!\n",
        "\n",
        "        150 < total <= 500:\n",
        "\n",
        "                The proud {faction_name} is VERY eager to toss some apples! Where are the opponents?!\n",
        "        \n",
        "        500 < total:\n",
        "\n",
        "                {faction_name} is GODLIKE! Their position is super dominant!"
      ]
    },
    {
      "cell_type": "code",
      "execution_count": 5,
      "metadata": {},
      "outputs": [
        {
          "name": "stdout",
          "output_type": "stream",
          "text": [
            "Fire Nation is GODLIKE! Their position is super dominant!\n",
            "This ain't nothin' but a scratch! Earth Kingdom might be struggling for the moment, but will be back with vengeance!\n",
            "The proud Water Tribe is VERY eager to toss some apples! Where are the opponents?!\n",
            "The proud Air Nomads is VERY eager to toss some apples! Where are the opponents?!\n"
          ]
        }
      ],
      "source": [
        "# try it yourself after implementing\n",
        "print(fire_nation.status())\n",
        "print(earth_kingdom.status())\n",
        "print(water_tribe.status())\n",
        "print(air_nomads.status())"
      ]
    },
    {
      "cell_type": "markdown",
      "metadata": {},
      "source": [
        "**6)****\n",
        "\n",
        "* The visualize_resources() method\n",
        "\n",
        "This method takes no user provided arguments. It should plot a **bar chart** which visualises the quantity of each fruit currently possessed by the faction.\n",
        "\n",
        "For bonuspoints, make sure that the color each individual bar is\n",
        "\n",
        "    green if fruit_amount => 100\n",
        "    orange if 50 < fruit_amount < 100\n",
        "    red if fruit_amount <= 50\n",
        "\n",
        "In general, try to make the plot 'visually appealing'. You might have to do some research online on how to do this."
      ]
    },
    {
      "cell_type": "code",
      "execution_count": 6,
      "metadata": {},
      "outputs": [
        {
          "data": {
            "image/png": "[encoded data removed]",
            "text/plain": [
              "<Figure size 640x480 with 1 Axes>"
            ]
          },
          "metadata": {},
          "output_type": "display_data"
        }
      ],
      "source": [
        "# try it yourself after implementing\n",
        "pancake_cult = Faction('Pancake Cult', 50, 99, 100, 120)\n",
        "pancake_cult.visualize_resources()\n"
      ]
    },
    {
      "cell_type": "markdown",
      "metadata": {},
      "source": [
        "**7)****\n",
        "\n",
        "* The organical_growth() method\n",
        "\n",
        "This method takes no user provided arguments. It represents the fact that each faction has natural farms that grow fruits.\n",
        "\n",
        "When this method is called by a faction, it should randomly increase the amound of each, individually, by a seperate random amount ranging from 1 to 5.\n",
        "\n",
        "Remember that the maximum amount of each fruit, individually, is 200. Make sure that the amount is unable to increase beyond that.\n",
        "\n",
        "Also, print out the changes that are happening. For example:\n",
        "\n",
        "    if current_amount_of_oranges < 200:\n",
        "    \n",
        "        Glorious {faction_name} has harvested 4 oranges, to a new total of 164!\n",
        "\n",
        "    if current_amount_of_oranges == 200:\n",
        "\n",
        "        Glorious {faction_name} is already at maximum capacity for oranges!\n",
        "    \n",
        "        "
      ]
    },
    {
      "cell_type": "code",
      "execution_count": 17,
      "metadata": {},
      "outputs": [
        {
          "name": "stdout",
          "output_type": "stream",
          "text": [
            "Glorious Fire Nation has harvested 4 apples, to a new total of 151!\n",
            "Glorious Fire Nation has harvested 1 oranges, to a new total of 161!\n",
            "Glorious Fire Nation has harvested 3 bananas, to a new total of 191!\n",
            "Glorious Fire Nation is already at maximum capacity for strawberries!\n"
          ]
        }
      ],
      "source": [
        "fire_nation.organical_growth()"
      ]
    },
    {
      "cell_type": "markdown",
      "metadata": {},
      "source": [
        "**8)*****\n",
        "\n",
        "* The __mul__() method\n",
        "\n",
        "Here we go! We're going to overload the * operator to represent an attack on a rival faction!\n",
        "\n",
        "    When an attack occurs, there will be an 70% probability of it being successful. \n",
        "\n",
        "If the attack fails, the defender is considered to have defended skillfully and nothing else happens.\n",
        "\n",
        "    A successful attack will transfer, to the attacking faction, 20% of all remaining fruits (of all sorts) from the defending rival faction.\n",
        "\n",
        "In addition, if an attack is successful, there is an independent 10% probability of it being CRITICAL. This will increase the percentage looted to 40%, instead of 20%\n",
        "\n",
        "    Importantly, if the defending faction has no resources left once the attack starts, the aggressor should be prompted to choose another target since there is no GLORY in kicking down on an opponent already brought to its knees.\n",
        "\n",
        "Remember that the total number of each fruit a faction can hold can't increase beyond 200. If more is looted by the attacker  can be held by the attack, we consider those abundant fruits 'casaulties of war'. Meaning, the defending faction still loses them, but they are simply lost in the chaos and not added to the attackers stockpile.\n",
        "\n",
        "    Additionally, if for example a faction only has a few remaining (say ~5) fruits remaining of any given kind - implement some functionality for a 'humilitating blow' whereby the attacker steals all remaining fruits. This is needed since only looting percentages will make it impossible to nullify a factions resources. \n",
        "\n",
        "For each of the possible actions described above, print out some cool texts so that the user is able to clearly follow the silliness!\n",
        "\n",
        "    As an extra, you can first import time, and then add time.sleep(2) after each print, to create some suspense."
      ]
    },
    {
      "cell_type": "code",
      "execution_count": null,
      "metadata": {},
      "outputs": [],
      "source": [
        "# try it yourself after implementing"
      ]
    },
    {
      "cell_type": "markdown",
      "metadata": {},
      "source": [
        "**9) BONUS**\n",
        "\n",
        "* The trade_offer() method\n",
        "\n",
        "This method allows for the given faction to offer up a trade of resources to another faction.\n",
        "\n",
        "It should take 5 arguments: \n",
        "\n",
        "1. The faction that is being offered the trade\n",
        "2. The resource (fruit) that is being offered\n",
        "3. The amount of said resource that is being offered\n",
        "4. The resource (fruit) that is being requested in return\n",
        "5. The amount of said resource that is being requested in return\n",
        "\n",
        "The method should first check if both factions have sufficient amounts of respective resource. It should also check that no faction exceeds the 200 resources limit, should a trade go through.\n",
        "\n",
        "If any of the restrictions above is violated, the trade request should be aborted and a suitable message printed.\n",
        "\n",
        "If the conditions are favourable for an exchange, i.e., none of the restrictions are violated, then the trade should be accepted, resources exchanged and a suitable message printed. \n",
        "\n",
        "Importantly, the exchange of resources should be reflected in the actual intentories of the two factions.\n",
        "\n",
        "We can have some more fun by addic more dynamic! \n",
        "\n",
        "Implement functionality so that if the the amount of offered resources is *less* than the amount of resources requested, the target faction gets **incredibly insulted** an launches an instant attack! This attack is simply the one defined by the __mul__()-method we defined earlier. \n",
        "\n",
        "\n"
      ]
    },
    {
      "cell_type": "code",
      "execution_count": null,
      "metadata": {},
      "outputs": [],
      "source": [
        "# try it yourself after implementing"
      ]
    },
    {
      "cell_type": "code",
      "execution_count": null,
      "metadata": {},
      "outputs": [],
      "source": []
    }
  ],
  "metadata": {
    "colab": {
      "include_colab_link": true,
      "provenance": []
    },
    "kernelspec": {
      "display_name": "Python 3 (ipykernel)",
      "language": "python",
      "name": "python3"
    },
    "language_info": {
      "codemirror_mode": {
        "name": "ipython",
        "version": 3
      },
      "file_extension": ".py",
      "mimetype": "text/x-python",
      "name": "python",
      "nbconvert_exporter": "python",
      "pygments_lexer": "ipython3",
      "version": "3.12.2"
    },
    "vscode": {
      "interpreter": {
        "hash": "0da836a34428266995a795f1e1e27b816fa1c02f148d9728b3fbbbc5459afca6"
      }
    }
  },
  "nbformat": 4,
  "nbformat_minor": 0
}
