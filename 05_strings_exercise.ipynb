{
  "cells": [
    {
      "cell_type": "markdown",
      "metadata": {
        "colab_type": "text",
        "id": "view-in-github"
      },
      "source": [
        "<a href=\"https://colab.research.google.com/github/aleylani/Python/blob/main/exercises/05_strings_exercise.ipynb\" target=\"_parent\"><img src=\"https://colab.research.google.com/assets/colab-badge.svg\" alt=\"Open In Colab\"/></a>"
      ]
    },
    {
      "cell_type": "markdown",
      "metadata": {
        "id": "4uEpN9NNQhJc"
      },
      "source": [
        "# strings exercises\n",
        "\n",
        "---\n",
        "These are introductory exercises in Python with focus in **strings**.\n",
        "\n",
        "<p class = \"alert alert-info\" role=\"alert\"><b>Remember</b> to use <b>descriptive variable names</b> in order to get readable code </p>\n",
        "\n",
        "<p class = \"alert alert-info\" role=\"alert\"><b>Remember</b> to format your answers in a neat way using <b>f-strings</b>\n",
        "\n",
        "<p class = \"alert alert-info\" role=\"alert\"><b>Remember</b> to format your input questions in a pedagogical way to guide the user\n",
        "\n",
        "The number of stars (\\*), (\\*\\*), (\\*\\*\\*) denotes the difficulty level of the task\n",
        "\n",
        "---"
      ]
    },
    {
      "cell_type": "markdown",
      "metadata": {
        "id": "_dOqDDyDQhJd"
      },
      "source": [
        "## 1. Counting letters (*)\n",
        "\n",
        "Let the user input a word:\n",
        "\n",
        "&nbsp; a) &nbsp; print out the number of letters in the word. (*)\n",
        "  \n",
        "&nbsp; b) &nbsp; print out the number of **uppercase** and **lowercase** letters of the word (*)   \n"
      ]
    },
    {
      "cell_type": "code",
      "execution_count": 3,
      "metadata": {},
      "outputs": [
        {
          "name": "stdout",
          "output_type": "stream",
          "text": [
            "13\n",
            "Antalet versaler är : 3\n",
            "Antalet gemener är : 10\n"
          ]
        }
      ],
      "source": [
        "word = input(\"Skriv in ett ord\")\n",
        "\n",
        "# a\n",
        "\n",
        "print(len(word))\n",
        "\n",
        "# b\n",
        "\n",
        "word_upper = 0\n",
        "word_lower = 0\n",
        "\n",
        "for letter in word:\n",
        "    if letter == letter.upper():\n",
        "        word_upper += 1\n",
        "\n",
        "    elif letter == letter.lower():\n",
        "        word_lower += 1\n",
        "print(f\"Antalet versaler är : {word_upper}\")\n",
        "print(f\"Antalet gemener är : {word_lower}\")"
      ]
    },
    {
      "cell_type": "markdown",
      "metadata": {
        "id": "ubDgfpYrQhJe"
      },
      "source": [
        "---\n",
        "## 2. Counting words (*)\n",
        "\n",
        "Count the number of words in this sentence: \"A picture says more than a thousand words, a matematical formula says more than a thousand pictures.\" (*)\n",
        "\n",
        "<details>\n",
        "\n",
        "<summary>Answer</summary>\n",
        "\n",
        "```\n",
        "There are 17 words in that sentence\n",
        "```"
      ]
    },
    {
      "cell_type": "code",
      "execution_count": 8,
      "metadata": {},
      "outputs": [
        {
          "name": "stdout",
          "output_type": "stream",
          "text": [
            "17\n"
          ]
        }
      ],
      "source": [
        "\n",
        "sentence = \"A picture says more than a thousand words, a matematical formula says more than a thousand pictures.\"\n",
        "\n",
        "unsplit = list(sentence.split(\" \"))\n",
        "print(len(unsplit))"
      ]
    },
    {
      "cell_type": "markdown",
      "metadata": {
        "id": "ZqvDvKPRQhJe"
      },
      "source": [
        "---\n",
        "## 3. Palindrome (*)\n",
        "\n",
        "A palindrome is a sequence of characters that is the same, when read forward as backwards (ignoring spaces). For example:\n",
        "- \"Anna\" is a palindrome\n",
        "- \"Ni talar bra latin\"\n",
        "- bjkjb\n",
        "\n",
        "Let the user input a sequence of characters and check if it is a palindrome. (*)"
      ]
    },
    {
      "cell_type": "code",
      "execution_count": 11,
      "metadata": {},
      "outputs": [
        {
          "name": "stdout",
          "output_type": "stream",
          "text": [
            "\"baka\" är inte en palindrom.\n"
          ]
        }
      ],
      "source": [
        "\n",
        "user_input = input(\"Skriv in en sekvens av karaktärer\")\n",
        "\n",
        "clean_text = user_input.replace(\" \", \"\").lower()\n",
        "\n",
        "if clean_text == clean_text[::-1]:\n",
        "    print(f'\"{user_input}\" är en palindrom.')\n",
        "else:\n",
        "    print(f'\"{user_input}\" är inte en palindrom.')\n"
      ]
    },
    {
      "cell_type": "markdown",
      "metadata": {
        "id": "K0MbPLPQQhJe"
      },
      "source": [
        "---\n",
        "## 4. Vowels (**)\n",
        "\n",
        "Count the number of vowels in this sentence: \"Pure mathematics is, in its way, the poetry of logical ideas\"\n",
        "\n",
        "<details>\n",
        "\n",
        "<summary>Answer</summary>\n",
        "\n",
        "```\n",
        "\n",
        "There are 22 vowels in this sentence\n",
        "\n",
        "```\n",
        "</details>"
      ]
    },
    {
      "cell_type": "code",
      "execution_count": 16,
      "metadata": {},
      "outputs": [
        {
          "name": "stdout",
          "output_type": "stream",
          "text": [
            "22\n"
          ]
        }
      ],
      "source": [
        "sentence2 = \"Pure mathematics is, in its way, the poetry of logical ideas\"\n",
        "vowels = [\"a\", \"e\", \"i\", \"o\", \"u\", \"y\"]\n",
        "count_vowels = 0\n",
        "clean_text2 = sentence2.lower()\n",
        "\n",
        "for letter in clean_text2:\n",
        "    if letter in vowels:\n",
        "        count_vowels += 1\n",
        "print(count_vowels)"
      ]
    },
    {
      "cell_type": "markdown",
      "metadata": {
        "id": "YCkksJpfQhJe"
      },
      "source": [
        "---\n",
        "## 5. Encryption (**)\n",
        "\n",
        "Let the user input a word and:\n",
        "\n",
        "&nbsp; a) &nbsp; encrypt the message by replacing each letter with the next letter. If the letter is in the end of the alphabet, use the first letter instead.\n",
        "\n",
        "e.g. in Swedish: \"höst\" $\\rightarrow$ \"iatu\"\n",
        "\n",
        "&nbsp; b) &nbsp; decrypt the message\n",
        "\n",
        "&nbsp; c) &nbsp; let the user choose either encryption or decryption."
      ]
    },
    {
      "cell_type": "code",
      "execution_count": 34,
      "metadata": {},
      "outputs": [
        {
          "name": "stdout",
          "output_type": "stream",
          "text": [
            "The encrypted word of baka is iatu\n"
          ]
        }
      ],
      "source": [
        "user_word_to_crypt = input(\"Give me a word\").lower()\n",
        "\n",
        "# a\n",
        "\n",
        "alphabet = \"abcdefghijklmnopqrstuvwxyzåäö\"\n",
        "crypted_word = \"\"\n",
        "\n",
        "for index, letter in enumerate(user_word_to_crypt):\n",
        "\n",
        "    if letter != \"ö\":\n",
        "        letter_index_in_alphabet = alphabet.find(letter)\n",
        "\n",
        "        crypted_word += alphabet[letter_index_in_alphabet + 1]\n",
        "\n",
        "    else:\n",
        "        crypted_word += alphabet[0]\n",
        "\n",
        "print(f\"The encrypted word of {user_input} is {crypted_word}\")\n"
      ]
    },
    {
      "cell_type": "code",
      "execution_count": 35,
      "metadata": {},
      "outputs": [
        {
          "name": "stdout",
          "output_type": "stream",
          "text": [
            "The decrypted word of iatu is höst\n"
          ]
        }
      ],
      "source": [
        "# b\n",
        "\n",
        "user_word_decrypt = input(\"Give me a word\").lower()\n",
        "\n",
        "decrypted_word = \"\"\n",
        "\n",
        "for index, l in enumerate(user_word_decrypt):\n",
        "    if l != \"a\":\n",
        "        letter_i_in_alphabet = alphabet.find(l)\n",
        "        decrypted_word += alphabet[letter_i_in_alphabet - 1]\n",
        "\n",
        "    else:\n",
        "        decrypted_word += alphabet[-1]\n",
        "\n",
        "print(f\"The decrypted word of {user_word_decrypt} is {decrypted_word}\")\n",
        "\n"
      ]
    },
    {
      "cell_type": "code",
      "execution_count": 39,
      "metadata": {},
      "outputs": [
        {
          "name": "stdout",
          "output_type": "stream",
          "text": [
            "The en crypted word of höst is iatu\n"
          ]
        }
      ],
      "source": [
        "user_choice = input(\"Choose (C) for encryption or (D) for decryption\")\n",
        "\n",
        "if user_choice == \"C\":\n",
        "\n",
        "   user_word_to_crypt = input(\"Give me a word\").lower()\n",
        "   crypted_word2 = \"\"\n",
        "\n",
        "   for index, c in enumerate(user_word_to_crypt):\n",
        "      if c != \"ö\":\n",
        "        letter_index_in_alphabet2 = alphabet.find(c)\n",
        "\n",
        "        crypted_word2 += alphabet[letter_index_in_alphabet2 + 1]\n",
        "\n",
        "      else:\n",
        "        crypted_word2 += alphabet[0]\n",
        "\n",
        "   print(f\"The en crypted word of {user_word_to_crypt} is {crypted_word2}\")\n",
        "\n",
        "elif user_choice == \"D\":\n",
        "   user_word_decrypt2 = input(\"Give me a word\").lower()\n",
        "\n",
        "   decrypted_word2 = \"\"\n",
        "\n",
        "   for index, d in enumerate(user_word_decrypt2):\n",
        "      if d != \"a\":\n",
        "        letter_i_in_alphabet2 = alphabet.find(d)\n",
        "        decrypted_word2 += alphabet[letter_i_in_alphabet2 - 1]\n",
        "\n",
        "      else:\n",
        "        decrypted_word2 += alphabet[-1]\n",
        "\n",
        "   print(f\"The crypted word of {user_word_decrypt2} is {decrypted_word2}\")"
      ]
    }
  ],
  "metadata": {
    "colab": {
      "include_colab_link": true,
      "provenance": []
    },
    "kernelspec": {
      "display_name": "Python 3 (ipykernel)",
      "language": "python",
      "name": "python3"
    },
    "language_info": {
      "codemirror_mode": {
        "name": "ipython",
        "version": 3
      },
      "file_extension": ".py",
      "mimetype": "text/x-python",
      "name": "python",
      "nbconvert_exporter": "python",
      "pygments_lexer": "ipython3",
      "version": "3.12.2"
    },
    "vscode": {
      "interpreter": {
        "hash": "0da836a34428266995a795f1e1e27b816fa1c02f148d9728b3fbbbc5459afca6"
      }
    }
  },
  "nbformat": 4,
  "nbformat_mi