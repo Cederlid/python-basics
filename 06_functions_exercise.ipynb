{
  "cells": [
    {
      "cell_type": "markdown",
      "metadata": {
        "colab_type": "text",
        "id": "view-in-github"
      },
      "source": [
        "<a href=\"https://colab.research.google.com/github/aleylani/Python-AI24/blob/main/exercises/06_functions_exercise.ipynb\" target=\"_parent\"><img src=\"https://colab.research.google.com/assets/colab-badge.svg\" alt=\"Open In Colab\"/></a>"
      ]
    },
    {
      "cell_type": "markdown",
      "metadata": {
        "id": "GCjW3bj4Rjiy"
      },
      "source": [
        "# functions exercises\n",
        "\n",
        "---\n",
        "These are introductory exercises in Python with focus in **functions**.\n",
        "\n",
        "<p class = \"alert alert-info\" role=\"alert\"><b>Remember</b> to use <b>descriptive variable and function names</b> in order to get readable code </p>\n",
        "\n",
        "<p class = \"alert alert-info\" role=\"alert\"><b>Remember</b> to format your answers in a neat way using <b>f-strings</b>\n",
        "\n",
        "<p class = \"alert alert-info\" role=\"alert\"><b>Remember</b> to format your input questions in a pedagogical way to guide the user\n",
        "\n",
        "The number of stars (\\*), (\\*\\*), (\\*\\*\\*) denotes the difficulty level of the task\n",
        "\n",
        "---"
      ]
    },
    {
      "cell_type": "markdown",
      "metadata": {
        "id": "U1m45wj-Rjiy"
      },
      "source": [
        "## 1. Area (*)\n",
        "\n",
        "Create a function that takes the base and height of a triangle as input parameters and returns the area of the triangle."
      ]
    },
    {
      "cell_type": "code",
      "execution_count": 2,
      "metadata": {},
      "outputs": [
        {
          "name": "stdout",
          "output_type": "stream",
          "text": [
            "6.0\n"
          ]
        }
      ],
      "source": [
        "def triangle_area(base, height):\n",
        "    area = (base * height) / 2\n",
        "    print(area)\n",
        "\n",
        "triangle_area(3,4)"
      ]
    },
    {
      "cell_type": "markdown",
      "metadata": {
        "id": "BWpBhHfdRjiy"
      },
      "source": [
        "---\n",
        "\n",
        "## 2. Euclidean distance (*)\n",
        "\n",
        "The formula for Euclidean distance in 2D between $P: (p_1, p_2)$ and $Q: (q_1, q_2)$  is:\n",
        "\n",
        "$d(P,Q) = \\sqrt{(p_1-q_1)^2 + (p_2-q_2)^2}$\n",
        "\n",
        "&nbsp; a) &nbsp; Create a function that takes two points as input parameters and return the Euclidean between them. (*)\n",
        "\n",
        "&nbsp; b) &nbsp; Let the user input two points. Call the function using the users input points. (*)\n",
        "\n",
        "&nbsp; c) &nbsp; Use your function to calculate distances between the origin (0, 0) and each of these points: (10, 3), (-1, -9), (10, -10), (4, -2), (9, -10). (*)\n",
        "\n",
        "<details>\n",
        "\n",
        "<summary>Hint</summary>\n",
        "\n",
        "Use a **for** statement\n",
        "\n",
        "</details>\n",
        "<br>\n",
        "<details>\n",
        "\n",
        "<summary>Answer</summary>\n",
        "\n",
        "c)\n",
        "\n",
        "```\n",
        "[10.4, 9.1, 14.1, 4.5, 13.5]\n",
        "```\n",
        "\n",
        "</details>\n"
      ]
    },
    {
      "cell_type": "code",
      "execution_count": 15,
      "metadata": {},
      "outputs": [
        {
          "name": "stdout",
          "output_type": "stream",
          "text": [
            "Euklidiskt avstånd mellan punkterna är: 1.00\n",
            "[10.4, 9.1, 14.1, 4.5, 13.5]\n"
          ]
        }
      ],
      "source": [
        "# a\n",
        "\n",
        "import math\n",
        "\n",
        "def euclidean_distance(x1,x2,y1,y2):\n",
        "   diff_x = x1 - y1\n",
        "   diff_y = x2 - y2 \n",
        "\n",
        "   distance = math.sqrt(diff_x **2 + diff_y **2)\n",
        "   return distance\n",
        "\n",
        "# b\n",
        "\n",
        "x1= float(input(\"Skriv in punkten x1:\"))\n",
        "x2 = float(input(\"Skriv in punkten x2:\"))\n",
        "y1 = float(input(\"Skriv in första punkten x2:\"))\n",
        "y2 = float(input(\"Skriv in andra punkten y2:\"))\n",
        "\n",
        "distance = euclidean_distance(x1, x2, y1, y2)\n",
        "print(f\"Euklidiskt avstånd mellan punkterna är: {distance:.2f}\")\n",
        "\n",
        "# c\n",
        "\n",
        "points = [[10, 3], [-1, -9], [10, -10], [4, -2], [9, -10]]\n",
        "distances = []\n",
        "\n",
        "for point in points:\n",
        "   dist = euclidean_distance(point[0],point[1],0,0)\n",
        "   distances.append(round(dist,1))\n",
        "\n",
        "print(distances)"
      ]
    },
    {
      "cell_type": "markdown",
      "metadata": {
        "id": "Je3hvdMsRji0"
      },
      "source": [
        "---\n",
        "## 3. Mathematical functions (*)\n",
        "\n",
        "Make the following functions with **def** and plot their graphs in the same figure window, with $x\\in [-10,10]$ :\n",
        "\n",
        "&nbsp; a) &nbsp;  $f(x) = x^2 -3$ (*)\n",
        "\n",
        "&nbsp; b) &nbsp; $g(x) = 4x - 7$ (*)\n",
        "\n",
        "Do the graphs cross each other at some point?\n"
      ]
    },
    {
      "cell_type": "markdown",
      "metadata": {},
      "source": [
        "Alternativt kan vi skapa ovan listor att plotta med **list comprehensions**"
      ]
    },
    {
      "cell_type": "code",
      "execution_count": 21,
      "metadata": {},
      "outputs": [
        {
          "data": {
            "text/plain": [
              "Text(0.5, 1.0, 'Grafer')"
            ]
          },
          "execution_count": 21,
          "metadata": {},
          "output_type": "execute_result"
        },
        {
          "data": {
            "image/png": "[encoded data removed]",
            "text/plain": [
              "<Figure size 640x480 with 1 Axes>"
            ]
          },
          "metadata": {},
          "output_type": "display_data"
        }
      ],
      "source": [
        "import matplotlib.pyplot as plt \n",
        "\n",
        "def f(x):\n",
        "    return x**2 -3\n",
        "\n",
        "def g(x):\n",
        "    return 4*x - 7\n",
        "\n",
        "x_values = []\n",
        "f_values = []\n",
        "g_values = []\n",
        "\n",
        "for x in range(-10, 11):\n",
        "\n",
        "    x_values.append(x)\n",
        "\n",
        "    f_answer = f(x)\n",
        "    g_answer = g(x)\n",
        "\n",
        "    f_values.append(f_answer)\n",
        "    g_values.append(g_answer)\n",
        "\n",
        "\n",
        "\n",
        "plt.plot(x_values, f_values)\n",
        "plt.plot(x_values, g_values)\n",
        "plt.title(\"Grafer\")\n",
        "\n",
        "    \n",
        "\n"
      ]
    },
    {
      "cell_type": "markdown",
      "metadata": {
        "id": "oDD5-Sy3Rji0"
      },
      "source": [
        "---\n",
        "## 4. Name cleaner (*)\n",
        "\n",
        "Create a function that takes a name as an input and:\n",
        "\n",
        "- removes all leading and trailing blank spaces\n",
        "- make capitalize the first character of each name, and make the rest lowercase\n",
        "\n",
        "Use your function on this list of strings:\n",
        "\n",
        "```\n",
        "[\"  MaRcUs \", \" iDA aNderSon\", \"OLOF Olofsson            \"  ]\n",
        "```\n",
        "\n",
        "\n",
        "<details>\n",
        "\n",
        "<summary>Hint</summary>\n",
        "Use\n",
        "\n",
        "- [title() method][str_title]\n",
        "- [strip() method][str_strip]\n",
        "- [join() method][str_join]\n",
        "- [split() method][str_split]\n",
        "\n",
        "[str_title]: https://www.w3schools.com/python/ref_string_title.asp\n",
        "[str_strip]: https://www.w3schools.com/python/ref_string_strip.asp\n",
        "[str_join]: https://www.w3schools.com/python/ref_string_join.asp\n",
        "[str_split]: https://www.w3schools.com/python/ref_string_split.asp\n",
        "\n",
        "</details>\n",
        "<br>\n",
        "<details>\n",
        "\n",
        "<summary>Answer</summary>\n",
        "\n",
        "```\n",
        "Marcus\n",
        "Ida Anderson\n",
        "Olof Olofsson\n",
        "```\n",
        "\n",
        "</details>\n"
      ]
    },
    {
      "cell_type": "code",
      "execution_count": 29,
      "metadata": {},
      "outputs": [
        {
          "name": "stdout",
          "output_type": "stream",
          "text": [
            "['Marcus', 'Ida Anderson', 'Olof Olofsson'] \n"
          ]
        }
      ],
      "source": [
        "names_to_clean = [\"  MaRcUs \", \" iDA aNderSon\", \"OLOF Olofsson            \"  ]\n",
        "\n",
        "cleaned_names = []\n",
        "\n",
        "def name_cleaner(name):\n",
        "    cleaned_variable = name.strip().lower().title()\n",
        "    return cleaned_variable\n",
        "\n",
        "for name in names_to_clean:\n",
        "    clean = name_cleaner(name)\n",
        "    cleaned_names.append(clean)\n",
        "\n",
        "print(cleaned_names)\n",
        "    "
      ]
    },
    {
      "cell_type": "markdown",
      "metadata": {
        "id": "KPzkiXToRji1"
      },
      "source": [
        "---\n",
        "## 5. Change (**)\n",
        "\n",
        "Create a function that takes a value as input parameter and print out the banknotes and coins in Swedish currency representing this value. For example 5289 would give the following printout:\n",
        "\n",
        "- 5st 1000-lapp\n",
        "- 1st 200-lapp\n",
        "- 1st 50-lapp\n",
        "- 1st 20-lapp\n",
        "- 1st 10-krona\n",
        "- 1st 5-krona\n",
        "- 2st 2-krona\n",
        "\n",
        "Now let the user input a value, and use the function to calculate the change."
      ]
    },
    {
      "cell_type": "code",
      "execution_count": null,
      "metadata": {},
      "outputs": [],
      "source": []
    }
  ],
  "metadata": {
    "colab": {
      "include_colab_link": true,
      "provenance": []
    },
    "kernelspec": {
      "display_name": "Python 3 (ipykernel)",
      "language": "python",
      "name": "python3"
    },
    "language_info": {
      "codemirror_mode": {
        "name": "ipython",
        "version": 3
      },
      "file_extension": ".py",
      "mimetype": "text/x-python",
      "name": "python",
      "nbconvert_exporter": "python",
      "pygments_lexer": "ipython3",
      "version": "3.12.2"
    },
    "vscode": {
      "interpreter": {
        "hash": "0da836a34428266995a795f1e1e27b816fa1c02f148d9728b3fbbbc5459afca6"
      }
    }
  },
  "nbformat": 4,
  "nbformat_minor": 0
}
