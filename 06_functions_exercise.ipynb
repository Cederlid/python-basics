{
  "cells": [
    {
      "cell_type": "markdown",
      "metadata": {
        "colab_type": "text",
        "id": "view-in-github"
      },
      "source": [
        "<a href=\"https://colab.research.google.com/github/aleylani/Python-AI24/blob/main/exercises/06_functions_exercise.ipynb\" target=\"_parent\"><img src=\"https://colab.research.google.com/assets/colab-badge.svg\" alt=\"Open In Colab\"/></a>"
      ]
    },
    {
      "cell_type": "markdown",
      "metadata": {
        "id": "GCjW3bj4Rjiy"
      },
      "source": [
        "# functions exercises\n",
        "\n",
        "---\n",
        "These are introductory exercises in Python with focus in **functions**.\n",
        "\n",
        "<p class = \"alert alert-info\" role=\"alert\"><b>Remember</b> to use <b>descriptive variable and function names</b> in order to get readable code </p>\n",
        "\n",
        "<p class = \"alert alert-info\" role=\"alert\"><b>Remember</b> to format your answers in a neat way using <b>f-strings</b>\n",
        "\n",
        "<p class = \"alert alert-info\" role=\"alert\"><b>Remember</b> to format your input questions in a pedagogical way to guide the user\n",
        "\n",
        "The number of stars (\\*), (\\*\\*), (\\*\\*\\*) denotes the difficulty level of the task\n",
        "\n",
        "---"
      ]
    },
    {
      "cell_type": "markdown",
      "metadata": {
        "id": "U1m45wj-Rjiy"
      },
      "source": [
        "## 1. Area (*)\n",
        "\n",
        "Create a function that takes the base and height of a triangle as input parameters and returns the area of the triangle."
      ]
    },
    {
      "cell_type": "code",
      "execution_count": 2,
      "metadata": {},
      "outputs": [
        {
          "name": "stdout",
          "output_type": "stream",
          "text": [
            "6.0\n"
          ]
        }
      ],
      "source": [
        "def triangle_area(base, height):\n",
        "    area = (base * height) / 2\n",
        "    print(area)\n",
        "\n",
        "triangle_area(3,4)"
      ]
    },
    {
      "cell_type": "markdown",
      "metadata": {
        "id": "BWpBhHfdRjiy"
      },
      "source": [
        "---\n",
        "\n",
        "## 2. Euclidean distance (*)\n",
        "\n",
        "The formula for Euclidean distance in 2D between $P: (p_1, p_2)$ and $Q: (q_1, q_2)$  is:\n",
        "\n",
        "$d(P,Q) = \\sqrt{(p_1-q_1)^2 + (p_2-q_2)^2}$\n",
        "\n",
        "&nbsp; a) &nbsp; Create a function that takes two points as input parameters and return the Euclidean between them. (*)\n",
        "\n",
        "&nbsp; b) &nbsp; Let the user input two points. Call the function using the users input points. (*)\n",
        "\n",
        "&nbsp; c) &nbsp; Use your function to calculate distances between the origin (0, 0) and each of these points: (10, 3), (-1, -9), (10, -10), (4, -2), (9, -10). (*)\n",
        "\n",
        "<details>\n",
        "\n",
        "<summary>Hint</summary>\n",
        "\n",
        "Use a **for** statement\n",
        "\n",
        "</details>\n",
        "<br>\n",
        "<details>\n",
        "\n",
        "<summary>Answer</summary>\n",
        "\n",
        "c)\n",
        "\n",
        "```\n",
        "[10.4, 9.1, 14.1, 4.5, 13.5]\n",
        "```\n",
        "\n",
        "</details>\n"
      ]
    },
    {
      "cell_type": "code",
      "execution_count": 15,
      "metadata": {},
      "outputs": [
        {
          "name": "stdout",
          "output_type": "stream",
          "text": [
            "Euklidiskt avstånd mellan punkterna är: 1.00\n",
            "[10.4, 9.1, 14.1, 4.5, 13.5]\n"
          ]
        }
      ],
      "source": [
        "# a\n",
        "\n",
        "import math\n",
        "\n",
        "def euclidean_distance(x1,x2,y1,y2):\n",
        "   diff_x = x1 - y1\n",
        "   diff_y = x2 - y2 \n",
        "\n",
        "   distance = math.sqrt(diff_x **2 + diff_y **2)\n",
        "   return distance\n",
        "\n",
        "# b\n",
        "\n",
        "x1= float(input(\"Skriv in punkten x1:\"))\n",
        "x2 = float(input(\"Skriv in punkten x2:\"))\n",
        "y1 = float(input(\"Skriv in första punkten x2:\"))\n",
        "y2 = float(input(\"Skriv in andra punkten y2:\"))\n",
        "\n",
        "distance = euclidean_distance(x1, x2, y1, y2)\n",
        "print(f\"Euklidiskt avstånd mellan punkterna är: {distance:.2f}\")\n",
        "\n",
        "# c\n",
        "\n",
        "points = [[10, 3], [-1, -9], [10, -10], [4, -2], [9, -10]]\n",
        "distances = []\n",
        "\n",
        "for point in points:\n",
        "   dist = euclidean_distance(point[0],point[1],0,0)\n",
        "   distances.append(round(dist,1))\n",
        "\n",
        "print(distances)"
      ]
    },
    {
      "cell_type": "markdown",
      "metadata": {
        "id": "Je3hvdMsRji0"
      },
      "source": [
        "---\n",
        "## 3. Mathematical functions (*)\n",
        "\n",
        "Make the following functions with **def** and plot their graphs in the same figure window, with $x\\in [-10,10]$ :\n",
        "\n",
        "&nbsp; a) &nbsp;  $f(x) = x^2 -3$ (*)\n",
        "\n",
        "&nbsp; b) &nbsp; $g(x) = 4x - 7$ (*)\n",
        "\n",
        "Do the graphs cross each other at some point?\n"
      ]
    },
    {
      "cell_type": "markdown",
      "metadata": {},
      "source": [
        "Alternativt kan vi skapa ovan listor att plotta med **list comprehensions**"
      ]
    },
    {
      "cell_type": "code",
      "execution_count": 19,
      "metadata": {},
      "outputs": [
        {
          "data": {
            "text/plain": [
              "<function matplotlib.pyplot.show(close=None, block=None)>"
            ]
          },
          "execution_count": 19,
          "metadata": {},
          "output_type": "execute_result"
        },
        {
          "data": {
            "image/png": "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