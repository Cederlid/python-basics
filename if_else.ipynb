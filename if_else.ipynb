{
 "cells": [
  {
   "cell_type": "markdown",
   "metadata": {},
   "source": []
  },
  {
   "cell_type": "markdown",
   "metadata": {},
   "source": [
    "## Jämförelse"
   ]
  },
  {
   "cell_type": "code",
   "execution_count": 2,
   "metadata": {},
   "outputs": [
    {
     "name": "stdout",
     "output_type": "stream",
     "text": [
      "False\n",
      "True\n"
     ]
    }
   ],
   "source": [
    "age = 30\n",
    "print(25 < age < 30)\n",
    "print(25 < age <= 30)\n"
   ]
  },
  {
   "cell_type": "markdown",
   "metadata": {},
   "source": [
    "## IF-satser"
   ]
  },
  {
   "cell_type": "code",
   "execution_count": 3,
   "metadata": {},
   "outputs": [
    {
     "name": "stdout",
     "output_type": "stream",
     "text": [
      "Vilkoret är uppfyllt\n"
     ]
    }
   ],
   "source": [
    "number_1 = 10\n",
    "number_2 = 20\n",
    "if number_1 < number_2:\n",
    "    print(\"Vilkoret är uppfyllt\")"
   ]
  },
  {
   "cell_type": "code",
   "execution_count": 6,
   "metadata": {},
   "outputs": [
    {
     "name": "stdout",
     "output_type": "stream",
     "text": [
      "Vilkoret är inte uppfyllt\n",
      "Detta skrivs ut ändå!\n"
     ]
    }
   ],
   "source": [
    "number_3 = 20\n",
    "number_4 = 10\n",
    "if number_3 < number_4:\n",
    "    print(\"Vilkoret är uppfyllt\")\n",
    "    \n",
    "else: \n",
    "    print(\"Vilkoret är inte uppfyllt\")\n",
    "\n",
    "print(\"Detta skrivs ut ändå!\")"
   ]
  },
  {
   "cell_type": "code",
   "execution_count": 7,
   "metadata": {},
   "outputs": [
    {
     "name": "stdout",
     "output_type": "stream",
     "text": [
      "30 är större än nummer 20\n"
     ]
    }
   ],
   "source": [
    "number_5 = 30\n",
    "number_6 = 20\n",
    "\n",
    "if number_5 < number_6:\n",
    "    print(f\"{number_5} är mindre än nummer {number_6}\")\n",
    "\n",
    "elif number_5 == number_6:\n",
    "        print(f\"{number_5} är lika med nummer {number_6}\")\n",
    "\n",
    "else:\n",
    "          print(f\"{number_5} är större än nummer {number_6}\")"
   ]
  },
  {
   "cell_type": "code",
   "execution_count": null,
   "metadata": {},
   "outputs": [],
   "source": []
  }
 ],
 "metadata": {
  "kernelspec": {
   "display_name": "introduktion",
   "language": "python",
   "name": "python3"
  },
  "language_info": {
   "codemirror_mode": {
    "name": "ipython",
    "version": 3
   },
   "file_extension": ".py",
   "mimetype": "text/x-python",
   "name": "python",
   "nbconvert_exporter": "python",
   "pygments_lexer": "ipython3",
   "version": "3.12.2"
  },
  "orig_nbformat": 4
 },
 "nbformat": 4,
 "nbformat_minor": 2
}
