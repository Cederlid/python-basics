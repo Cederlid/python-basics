{
 "cells": [
  {
   "cell_type": "markdown",
   "metadata": {},
   "source": [
    "## Operationer"
   ]
  },
  {
   "cell_type": "code",
   "execution_count": 3,
   "metadata": {},
   "outputs": [
    {
     "name": "stdout",
     "output_type": "stream",
     "text": [
      "30\n",
      "40\n",
      "50\n",
      "45\n",
      "90\n",
      "15.0\n"
     ]
    }
   ],
   "source": [
    "number = 30\n",
    "print(number)\n",
    "\n",
    "number = 40\n",
    "print(number)\n",
    "\n",
    "number += 10\n",
    "print(number)\n",
    "\n",
    "number -= 5\n",
    "print(number)\n",
    "\n",
    "number *= 2\n",
    "print(number)\n",
    "\n",
    "number /= 6\n",
    "print(number)\n"
   ]
  },
  {
   "cell_type": "code",
   "execution_count": 9,
   "metadata": {},
   "outputs": [
    {
     "name": "stdout",
     "output_type": "stream",
     "text": [
      "Hurra!\n",
      "Nuvarande värde av n: 1\n",
      "Hurra!\n",
      "Nuvarande värde av n: 2\n",
      "Hurra!\n",
      "Nuvarande värde av n: 3\n",
      "Hurra!\n",
      "Nuvarande värde av n: 4\n",
      "Nu är vi klara!\n"
     ]
    }
   ],
   "source": [
    "n = 0\n",
    "\n",
    "while n < 4:\n",
    "    print(\"Hurra!\")\n",
    "    n += 1\n",
    "    print(f\"Nuvarande värde av n: {n}\")\n",
    "\n",
    "print(\"Nu är vi klara!\")"
   ]
  },
  {
   "cell_type": "markdown",
   "metadata": {},
   "source": [
    "**Exempel på use-case**\n",
    "Vi vill beräkna antal år tills fisk i en sjö uppnår en population på 1M.\n",
    "Anta att vi startar med 100 fiska i vår sjö, och antalet fiskar fördubblas varje år."
   ]
  },
  {
   "cell_type": "code",
   "execution_count": 11,
   "metadata": {},
   "outputs": [
    {
     "name": "stdout",
     "output_type": "stream",
     "text": [
      "After year 1, we have 200 fishes in the lake.\n",
      "After year 2, we have 400 fishes in the lake.\n",
      "After year 3, we have 800 fishes in the lake.\n",
      "After year 4, we have 1600 fishes in the lake.\n",
      "After year 5, we have 3200 fishes in the lake.\n",
      "After year 6, we have 6400 fishes in the lake.\n",
      "After year 7, we have 12800 fishes in the lake.\n",
      "After year 8, we have 25600 fishes in the lake.\n",
      "After year 9, we have 51200 fishes in the lake.\n",
      "After year 10, we have 102400 fishes in the lake.\n",
      "After year 11, we have 204800 fishes in the lake.\n",
      "Wow, we have plenty fishes\n",
      "After year 12, we have 409600 fishes in the lake.\n",
      "Wow, we have plenty fishes\n",
      "After year 13, we have 819200 fishes in the lake.\n",
      "Wow, we have plenty fishes\n",
      "After year 14, we have 1638400 fishes in the lake.\n",
      "Wow, we have plenty fishes\n"
     ]
    }
   ],
   "source": [
    "fishes = 100\n",
    "year = 0\n",
    "\n",
    "while fishes < 1000000:\n",
    "\n",
    "    fishes *= 2\n",
    "    year += 1\n",
    "\n",
    "    print(f\"After year {year}, we have {fishes} fishes in the lake.\")\n",
    "\n",
    "    if fishes > 150000:\n",
    "        print(\"Wow, we have plenty fishes\")"
   ]
  },
  {
   "cell_type": "code",
   "execution_count": 13,
   "metadata": {},
   "outputs": [
    {
     "name": "stdout",
     "output_type": "stream",
     "text": [
      "9\n"
     ]
    }
   ],
   "source": [
    "import random\n",
    "\n",
    "random_siffra = random.randint(1,10)\n",
    "\n",
    "print(random_siffra)"
   ]
  },
  {
   "cell_type": "code",
   "execution_count": 15,
   "metadata": {},
   "outputs": [
    {
     "name": "stdout",
     "output_type": "stream",
     "text": [
      "23\n",
      "Nej, du har gissat fel, 8 * 21 != 23\n",
      "Rätt svar: 8 * 21 = 168\n"
     ]
    }
   ],
   "source": [
    "vill_spela = \"Ja\"\n",
    "\n",
    "while vill_spela == \"Ja\":\n",
    "    number_1 = random.randint(1,10)\n",
    "    number_2 = random.randint(20,30)\n",
    "\n",
    "    korrekt_svar = number_1 * number_2\n",
    "\n",
    "    gissning = int(input(f\"Vad är {number_1} * {number_2}\"))\n",
    "\n",
    "    print(gissning)\n",
    "\n",
    "    if gissning == korrekt_svar:\n",
    "        print(f\"Grattis, du har rätt, {number_1} * {number_2}\")\n",
    "    else:\n",
    "        print(f\"Nej, du har gissat fel, {number_1} * {number_2} != {gissning}\")\n",
    "        print(f\"Rätt svar: {number_1} * {number_2} = {korrekt_svar}\")\n",
    "    \n",
    "    vill_spela = input(\"Vill du spela igen? Ja/Nej\")\n",
    "\n"
   ]
  },
  {
   "cell_type": "code",
   "execution_count": 20,
   "metadata": {},
   "outputs": [
    {
     "name": "stdout",
     "output_type": "stream",
     "text": [
      "Hurra\n"
     ]
    }
   ],
   "source": [
    "while True:\n",
    "\n",
    "    print(\"Hurra\")\n",
    "\n",
    "    answer = input(\"Räcker det nu? Svara Ja isåfall...\")\n",
    "\n",
    "    if answer == \"Ja\":\n",
    "        break\n",
    "\n"
   ]
  },
  {
   "cell_type": "code",
   "execution_count": 21,
   "metadata": {},
   "outputs": [
    {
     "name": "stdout",
     "output_type": "stream",
     "text": [
      "0\n",
      "1\n",
      "2\n",
      "3\n",
      "4\n",
      "Nu är n = 5, och således hoppar vi ur loopen\n"
     ]
    }
   ],
   "source": [
    "n = 0\n",
    "while True:\n",
    "    print(n)\n",
    "     \n",
    "    n += 1\n",
    "\n",
    "    if n == 5:\n",
    "        break\n",
    "print(f\"Nu är n = {n}, och således hoppar vi ur loopen\")"
   ]
  }
 ],
 "metadata": {
  "kernelspec": {
   "display_name": "introduktion",
   "language": "python",
   "name": "python3"
  },
  "language_info": {
   "codemirror_mode": {
    "name": "ipython",
    "version": 3
   },
   "file_extension": ".py",
   "mimetype": "text/x-python",
   "name": "python",
   "nbconvert_exporter": "python",
   "pygments_lexer": "ipython3",
   "version": "3.12.4"
  },
  "orig_nbformat": 4
 },
 "nbformat": 4,
 "nbformat_minor": 2
}
