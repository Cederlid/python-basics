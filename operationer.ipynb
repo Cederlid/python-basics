{
 "cells": [
  {
   "cell_type": "markdown",
   "metadata": {},
   "source": [
    "## Operationer"
   ]
  },
  {
   "cell_type": "code",
   "execution_count": 3,
   "metadata": {},
   "outputs": [
    {
     "name": "stdout",
     "output_type": "stream",
     "text": [
      "30\n",
      "40\n",
      "50\n",
      "45\n",
      "90\n",
      "15.0\n"
     ]
    }
   ],
   "source": [
    "number = 30\n",
    "print(number)\n",
    "\n",
    "number = 40\n",
    "print(number)\n",
    "\n",
    "number += 10\n",
    "print(number)\n",
    "\n",
    "number -= 5\n",
    "print(number)\n",
    "\n",
    "number *= 2\n",
    "print(number)\n",
    "\n",
    "number /= 6\n",
    "print(number)\n"
   ]
  },
  {
   "cell_type": "code",
   "execution_count": 9,
   "metadata": {},
   "outputs": [
    {
     "name": "stdout",
     "output_type": "stream",
     "text": [
      "Hurra!\n",
      "Nuvarande värde av n: 1\n",
      "Hurra!\n",
      "Nuvarande värde av n: 2\n",
      "Hurra!\n",
      "Nuvarande värde av n: 3\n",
      "Hurra!\n",
      "Nuvarande värde av n: 4\n",
      "Nu är vi klara!\n"
     ]
    }
   ],
   "source": [
    "n = 0\n",
    "\n",
    "while n < 4:\n",
    "    print(\"Hurra!\")\n",
    "    n += 1\n",
    "    print(f\"Nuvarande värde av n: {n}\")\n",
    "\n",
    "print(\"Nu är vi klara!\")"
   ]
  },
  {
   "cell_type": "markdown",
   "metadata": {},
   "source": [
    "**Exempel på use-case**\n",
    "Vi vill beräkna antal år tills fisk i en sjö uppnår en population på 1M.\n",
    "Anta att vi startar med 100 fiska i vår sjö, och antalet fiskar fördubblas varje år."
   ]
  },
  {
   "cell_type": "code",
   "execution_count": 11,
   "metadata": {},
   "outputs": [
    {
     "name": "stdout",
     "output_type": "stream",
     "text": [
      "After year 1, we have 200 fishes in the lake.\n",
      "After year 2, we have 400 fishes in the lake.\n",