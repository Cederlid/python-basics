{
 "cells": [
  {
   "cell_type": "code",
   "execution_count": 3,
   "metadata": {},
   "outputs": [
    {
     "name": "stdout",
     "output_type": "stream",
     "text": [
      "Hello, world\n"
     ]
    }
   ],
   "source": [
    "print(\"Hello, world\")"
   ]
  },
  {
   "cell_type": "markdown",
   "metadata": {},
   "source": []
  },
  {
   "cell_type": "code",
   "execution_count": 7,
   "metadata": {},
   "outputs": [
    {
     "data": {
      "text/plain": [
       "2"
      ]
     },
     "execution_count": 7,
     "metadata": {},
     "output_type": "execute_result"
    }
   ],
   "source": [
    "# det här är en kommentar, och Python förstår det eftersom raden börjar med en hashtag\n",
    "1+1 # detta kommer att beräkna värdet av 1 adderat till 1\n"
   ]
  },
  {
   "cell_type": "code",
   "execution_count": 11,
   "metadata": {},
   "outputs": [
    {
     "name": "stdout",
     "output_type": "stream",
     "text": [
      "Hello world!\n",
      "My name is Whiskey\n",
      "2\n",
      "1+1\n"
     ]
    }
   ],
   "source": [
    "print(\"Hello world!\") # prints Hello world!\n",
    "print('My name is Whiskey')\n",
    "print(1+1)\n",
    "print(\"1+1\")"
   ]
  },
  {
   "cell_type": "code",
   "execution_count": 17,
   "metadata": {},
   "outputs": [
    {
     "name": "stdout",
     "output_type": "stream",
     "text": [
      "Whiskey\n",
      "firstname\n",
      "Cederlid\n"
     ]
    }
   ],
   "source": [
    "firstname = \"Whiskey\"\n",
    "lastname = \"Cederlid\"\n",
    "age = 25\n",
    "\n",
    "print(firstname)\n",
    "print(\"firstname\")\n",
    "print(lastname)"
   ]
  },
  {
   "cell_type": "code",
   "execution_count": 18,
   "metadata": {},
   "outputs": [
    {
     "name": "stdout",
     "output_type": "stream",
     "text": [
      "WhiskeyCederlid 25\n"
     ]
    }
   ],
   "source": [
    "print(firstname + lastname, age)"
   ]
  },
  {
   "cell_type": "code",
   "execution_count": 20,
   "metadata": {},
   "outputs": [
    {
     "name": "stdout",
     "output_type": "stream",
     "text": [
      "Whiskey Cederlid\n"
     ]
    }
   ],
   "source": [
    "fullname = firstname + \" \" + lastname\n",
    "print(fullname)"
   ]
  },
  {
   "cell_type": "code",
   "execution_count": 3,
   "metadata": {},
   "outputs": [
    {
     "name": "stdout",
     "output_type": "stream",
     "text": [
      "hej Whiskey,kul att träffas! Visst heter du Cederlid i eftername\n"
     ]
    }
   ],
   "source": [
    "name = \"Whiskey\"\n",
    "lastname = \"Cederlid\"\n",
    "\n",
    "print(f\"hej {name},kul att träffas! Visst heter du {lastname} i eftername?\")"
   ]
  },
  {
   "cell_type": "code",
   "execution_count": 4,
   "metadata": {},
   "outputs": [
    {
     "name": "stdout",
     "output_type": "stream",
     "text": [
      "hej Whiskey,kul att träffas! Visst heter du Cederlid i eftername\n"
     ]
    }
   ],
   "source": [
    "greeting = f\"hej {name},kul att träffas! Visst heter du {lastname} i eftername?\"\n",
    "print(greeting)"
   ]
  },
  {
   "cell_type": "code",
   "execution_count": 10,
   "metadata": {},
   "outputs": [
    {
     "data": {
      "text/plain": [
       "str"
      ]
     },
     "execution_count": 10,
     "metadata": {},
     "output_type": "execute_result"
    }
   ],
   "source": [
    "type(\"Whiskey\")"
   ]
  },
  {
   "cell_type": "code",
   "execution_count": 6,
   "metadata": {},
   "outputs": [
    {
     "data": {
      "text/plain": [
       "int"
      ]
     },
     "execution_count": 6,
     "metadata": {},
     "output_type": "execute_result"
    }
   ],
   "source": [
    "type(34)"
   ]
  },
  {
   "cell_type": "code",
   "execution_count": 8,
   "metadata": {},
   "outputs": [
    {
     "data": {
      "text/plain": [
       "float"
      ]
     },
     "execution_count": 8,
     "metadata": {},
     "output_type": "execute_result"
    }
   ],
   "source": [
    "type(34.4)"
   ]
  },
  {
   "cell_type": "code",
   "execution_count": 14,
   "metadata": {},
   "outputs": [
    {
     "name": "stdout",
     "output_type": "stream",
     "text": [
      "Hej Whiskey!\n"
     ]
    }
   ],
   "source": [
    "user = input(\"vad heter du\")\n",
    " \n",
    "print(f\"Hej {user}!\")"
   ]
  },
  {
   "cell_type": "code",
   "execution_count": 16,
   "metadata": {},
   "outputs": [],
   "source": [
    "name = input(\"hej vad hete du?\")\n",
    "age = int(input(f\"Hur gammal är du {name}\"))\n"
   ]
  },
  {
   "cell_type": "code",
   "execution_count": 17,
   "metadata": {},
   "outputs": [
    {
     "data": {
      "text/plain": [
       "int"
      ]
     },
     "execution_count": 17,
     "metadata": {},
     "output_type": "execute_result"
    }
   ],
   "source": [
    "type(age)"
   ]
  },
  {
   "cell_type": "code",
   "execution_count": 19,
   "metadata": {},
   "outputs": [
    {
     "name": "stdout",
     "output_type": "stream",
     "text": [
      "Earth is exerting a force of 441.90000000000003N on you.\n"
     ]
    }
   ],
   "source": [
    "gravity = 9.82\n",
    "mass = float(input(\"Hur mycket väger du?\"))\n",
    "force = mass * gravity\n",
    "print(f\"Earth is exerting a force of {force}N on you.\")"
   ]
  },
  {
   "cell_type": "code",
   "execution_count": 20,
   "metadata": {},
   "outputs": [],
   "source": [
    "pi = 3.14159\n",
    "radie = 3\n",
    "area = pi * radie ** 2"
   ]
  },
  {
   "cell_type": "code",
   "execution_count": 21,
   "metadata": {},
   "outputs": [
    {
     "name": "stdout",
     "output_type": "stream",
     "text": [
      "arean är 28.274309999999996 a.e.\n",
      "omkretsen är 18.849539999999998 l.e.\n"
     ]
    }
   ],
   "source": [
    "print(f\"arean är {area} a.e.\")\n",
    "\n",
    "omkrets = 2 * pi * radie\n",
    "\n",
    "print(f\"omkretsen är {omkrets} l.e.\")"
   ]
  },
  {
   "cell_type": "code",
   "execution_count": 22,
   "metadata": {},
   "outputs": [
    {
     "name": "stdout",
     "output_type": "stream",
     "text": [
      "<class 'int'>\n"
     ]
    }
   ],
   "source": [
    "number = 1\n",
    "number2 = 2\n",
    "produkt = number * number2\n",
    "\n",
    "print(type(produkt))"
   ]
  },
  {
   "cell_type": "code",
   "execution_count": 24,
   "metadata": {},
   "outputs": [
    {
     "name": "stdout",
     "output_type": "stream",
     "text": [
      "3.141592653589793\n"
     ]
    }
   ],
   "source": [
    "import math\n",
    "pi = math.pi\n",
    "print(pi)"
   ]
  },
  {
   "cell_type": "code",
   "execution_count": 26,
   "metadata": {},
   "outputs": [
    {
     "name": "stdout",
     "output_type": "stream",
     "text": [
      "62.0\n"
     ]
    }
   ],
   "source": [
    "radius = float(input(\"Enter a radius: \"))\n",
    "print(radius)"
   ]
  },
  {
   "cell_type": "code",
   "execution_count": 27,
   "metadata": {},
   "outputs": [
    {
     "name": "stdout",
     "output_type": "stream",
     "text": [
      "arean är 12076.282160399165 a.e.\n",
      "omkrets är 389.55748904513433 l.e.\n"
     ]
    }
   ],
   "source": [
    "area = pi * radius ** 2\n",
    "circumference = 2 * pi * radius\n",
    "\n",
    "print(f\"arean är {area} a.e.\")\n",
    "print(f\"omkrets är {circumference} l.e.\")\n"
   ]
  },
  {
   "cell_type": "code",
   "execution_count": 2,
   "metadata": {},
   "outputs": [
    {
     "name": "stdout",
     "output_type": "stream",
     "text": [
      "['pizza : monday', 'pasta : tuesday', 'lasagne : wednesday', 'fries : thursday', 'taco : friday']\n"
     ]
    }
   ],
   "source": [
    "meny = [\"pizza\", \"pasta\", \"lasagne\", \"fries\", \"taco\"]\n",
    "days = [\"monday\", \"tuesday\", \"wednesday\", \"thursday\", \"friday\"]\n",
    "\n",
    "veckomeny = [f\"{day} : {dish}\" for day, dish in zip(meny, days)]\n",
    "print(veckomeny)"
   ]
  }
 ],
 "metadata": {
  "kernelspec": {
   "display_name": "introduktion",
   "language": "python",
   "name": "python3"
  },
  "language_info": {
   "codemirror_mode": {
    "name": "ipython",
    "version": 3
   },
   "file_extension": ".py",
   "mimetype": "text/x-python",
   "name": "python",
   "nbconvert_exporter": "python",
   "pygments_lexer": "ipython3",
   "version": "3.12.4"
  },
  "orig_nbformat": 4
 },
 "nbformat": 4,
 "nbformat_minor": 2
}
