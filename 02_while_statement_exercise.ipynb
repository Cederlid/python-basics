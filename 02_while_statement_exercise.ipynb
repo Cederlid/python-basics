{
  "cells": [
    {
      "cell_type": "markdown",
      "metadata": {
        "colab_type": "text",
        "id": "view-in-github"
      },
      "source": [
        "<a href=\"https://colab.research.google.com/github/aleylani/Python/blob/main/exercises/02_while_statement_exercise.ipynb\" target=\"_parent\"><img src=\"https://colab.research.google.com/assets/colab-badge.svg\" alt=\"Open In Colab\"/></a>"
      ]
    },
    {
      "cell_type": "markdown",
      "metadata": {
        "id": "Po7swMETQNgZ"
      },
      "source": [
        "## 1. Count numbers (*)\n",
        "\n",
        "Use a **while** statement to count from -10 to 10 with one increment.\n",
        "\n",
        "<details>\n",
        "\n",
        "<summary>Hint </summary>\n",
        "\n",
        "```python\n",
        "\n",
        "i += 1 # adds one and assigns it to i, equivalent to i = i + 1\n",
        "```\n",
        "\n",
        "</details>\n",
        "<br>\n",
        "<details>\n",
        "\n",
        "<summary>Answer </summary>\n",
        "\n",
        "```\n",
        "\n",
        "-10 -9 -8 -7 -6 -5 -4 -3 -2 -1 0 1 2 3 4 5 6 7 8 9 10\n",
        "```\n",
        "\n",
        "</details>\n"
      ]
    },
    {
      "cell_type": "code",
      "execution_count": 1,
      "metadata": {},
      "outputs": [
        {
          "name": "stdout",
          "output_type": "stream",
          "text": [
            "-10\n",
            "-9\n",
            "-8\n",
            "-7\n",
            "-6\n",
            "-5\n",
            "-4\n",
            "-3\n",
            "-2\n",
            "-1\n",
            "0\n",
            "1\n",
            "2\n",
            "3\n",
            "4\n",
            "5\n",
            "6\n",
            "7\n",
            "8\n",
            "9\n",
            "10\n"
          ]
        }
      ],
      "source": [
        "count = -10\n",
        "\n",
        "while count <= 10:\n",
        "    print(count)\n",
        "    count += 1"
      ]
    },
    {
      "cell_type": "markdown",
      "metadata": {
        "id": "bt8iHnYRQNga"
      },
      "source": [
        "---\n",
        "## 2. Arithmetic sum (*)\n",
        "Use a **while** statement to compute the following sums:\n",
        "\n",
        "&nbsp; a) &nbsp; $\\text{sum} = 1 + 2 + \\ldots + 99+ 100$\n",
        "\n",
        "&nbsp; b) &nbsp; $\\text{sum} = 1 + 3 + 5 + \\ldots + 97 + 99$\n",
        "\n",
        "<details>\n",
        "\n",
        "<summary>Answer </summary>\n",
        "\n",
        "```\n",
        "a) 1 + 2 + ... + 99 + 100 = 5050\n",
        "\n",
        "b) 1 + 3 + 5 +...+ 97 + 99 = 2500\n",
        "```\n",
        "\n",
        "</details>"
      ]
    },
    {
      "cell_type": "code",
      "execution_count": 9,
      "metadata": {},
      "outputs": [
        {
          "name": "stdout",
          "output_type": "stream",
          "text": [
            "The sum is: 5050\n",
            "The sum is: 2500\n"
          ]
        }
      ],
      "source": [
        "i = 1\n",
        "total_sum = 0\n",
        "\n",
        "while i <= 100:\n",
        "    total_sum += i\n",
        "    i += 1\n",
        "\n",
        "print(f\"The sum is: {total_sum}\")\n",
        "\n",
        "i = 1\n",
        "total_sum = 0\n",
        "\n",
        "while i <= 99:\n",
        "    total_sum += i\n",
        "    i += 2\n",
        "\n",
        "\n",
        "print(f\"The sum is: {total_sum}\")"
      ]
    },
    {
      "cell_type": "markdown",
      "metadata": {
        "id": "NxECsk35QNgb"
      },
      "source": [
        "---\n",
        "## 3. Guess number game (*)\n",
        "&nbsp; a) &nbsp; Create a guessing number game following this flow chart:\n",
        "\n",
        "<img align=\"left\" src=\"../assets/guessing_game.png\" width=\"300\"/>"
      ]
    },
    {
      "cell_type": "markdown",
      "metadata": {
        "id": "ZKtnK2rOQNgc"
      },
      "source": [
        "&nbsp; b) &nbsp; Make an algorithm to automatically guess the correct number. Can you optimize to get as few guesses as possible? (**)\n",
        "\n",
        "<details>\n",
        "\n",
        "<summary>Hint </summary>\n",
        "\n",
        "&nbsp; b) &nbsp; Half your testing number each time\n",
        "\n",
        "</details>"
      ]
    },
    {
      "cell_type": "code",
      "execution_count": 2,
      "metadata": {},
      "outputs": [
        {
          "name": "stdout",
          "output_type": "stream",
          "text": [
            "your guess 50 is higher than the acctual number\n",
            "your guess 25 is lower than the acctual number\n",
            "your guess 40 is higher than the acctual number\n",
            "your guess 35 is lower than the acctual number\n",
            "your guess 37 is higher than the acctual number\n",
            "Congrats,the number was 36 you have guessed right in 6 times\n"
          ]
        }
      ],
      "source": [
        "import random\n",
        "\n",
        "random_number = random.randint(1,100)\n",
        "guess_count = 0\n",
        "\n",
        "while True:\n",
        "    guess = int(input(\"Gissa på ett heltal mellan 1-100\"))\n",
        "    guess_count += 1\n",
        "\n",
        "    if random_number < guess:\n",
        "        print(f\"your guess {guess} is higher than the acctual number\")\n",
        "    elif random_number > guess:\n",
        "        print(f\"your guess {guess} is lower than the acctual number\")\n",
        "    else:\n",
        "        print(f\"Congrats,the number was {random_number} you have guessed right in {guess_count} times\")\n",
        "        break\n",
        "\n",
        "\n"
      ]
    },
    {
      "cell_type": "code",
      "execution_count": 10,
      "metadata": {},
      "outputs": [
        {
          "name": "stdout",
          "output_type": "stream",
          "text": [
            "Guessing 50\n",
            "50 is lower than the acctual number\n",
            "Guessing 75\n",
            "75 is lower than the acctual number\n",
            "Guessing 88\n",
            "88 is lower than the acctual number\n",
            "Guessing 94\n",
            "94 is higher than the acctual number\n",
            "Guessing 91\n",
            "91 is lower than the acctual number\n",
            "Guessing 92\n",
            "Congrats,the number was 92 you have guessed right in 6 times\n"
          ]
        }
      ],
      "source": [
        "import random\n",
        "\n",
        "rand_number = random.randint(1,100)\n",
        "count = 0\n",
        "\n",
        "low = 1\n",
        "high = 100\n",
        "\n",
        "while low <= high:\n",
        "    count += 1\n",
        "    mid = (low + high) // 2\n",
        "    print(f\"Guessing {mid}\")\n",
        "\n",
        "    if mid < rand_number:\n",
        "        print(f\"{mid} is lower than the acctual number\")\n",
        "        low = mid + 1\n",
        "\n",
        "    elif mid > rand_number:\n",
        "        print(f\"{mid} is higher than the acctual number\")\n",
        "        high = mid - 1\n",
        "        \n",
        "    else:\n",
        "        print(f\"Congrats,the number was {rand_number} you have guessed right in {count} times\")\n",
        "        break\n"
      ]
    },
    {
      "cell_type": "markdown",
      "metadata": {
        "id": "D3P-6PvDQNgc"
      },
      "source": [
        "---\n",
        "## 4. Multiplication game (*)\n",
        "&nbsp; a) &nbsp; Create a multiplication game following this flow chart:\n",
        "\n",
        "<img align=\"left\" src=\"../assets/Multiplication_game.png\" width=\"300\"/>"
      ]
    },
    {
      "cell_type": "markdown",
      "metadata": {
        "id": "ScWfGvWxQNgc"
      },
      "source": [
        "&nbsp; b) &nbsp; Add a menu for choosing difficulty level of the game\n",
        "\n",
        "&nbsp; c) &nbsp; Feel free to extend this program with features of your choice."
      ]
    },
    {
      "cell_type": "code",
      "execution_count": 21,
      "metadata": {},
      "outputs": [
        {
          "name": "stdout",
          "output_type": "stream",
          "text": [
            "Good work!\n",
            "That's wrong! The correct answer is 42\n",
            "That's wrong! The correct answer is 8\n"
          ]
        }
      ],
      "source": [
        "import random\n",
        "\n",
        "answer = \"Yes\"\n",
        "score = 0\n",
        "\n",
        "while answer == \"Yes\":\n",
        "    random_x = random.randint(1,10)\n",
        "    random_y = random.randint(1,10)\n",
        "    product = random_x * random_y\n",
        "    user_input = int(input(f\"What is the product of {random_x} * {random_y}?\"))\n",
        "\n",
        "    if product == user_input:\n",
        "        score += 1\n",
        "        print(\"Good work!\")\n",
        "    else:\n",
        "        print(f\"That's wrong! The correct answer is {product}\")\n",
        "\n",
        "    answer = input(\"Do you want to play again? Yes or No\")\n",
        "\n"
      ]
    },
    {
      "cell_type": "code",
      "execution_count": 26,
      "metadata": {},
      "outputs": [
        {
          "name": "stdout",
          "output_type": "stream",
          "text": [
            "Choose difficulty level: \n",
            "1. Easy (1-10)\n",
            "2. Medium (1-20)\n",
            "3. Hard (1-50)\n",
            "Good work! It took you 1.96 seconds.\n",
            "That's wrong! The correct answer is 42\n",
            "Good work! It took you 2.44 seconds.\n",
            "Good work! It took you 2.05 seconds.\n",
            "Good work! It took you 2.83 seconds.\n",
            "Your total score is: 4\n",
            "Your high score is: 4\n"
          ]
        }
      ],
      "source": [
        "import time\n",
        "\n",
        "def difficulty(): # function\n",
        "    print(\"Choose difficulty level: \")\n",
        "    print(\"1. Easy (1-10)\")\n",
        "    print(\"2. Medium (1-20)\")\n",
        "    print(\"3. Hard (1-50)\")\n",
        "\n",
        "    while True:\n",
        "        try:  # exception handling\n",
        "            difficulty = int(input(\"Enter the number for difficulty level between 1-3: \"))\n",
        "            if difficulty == 1:\n",
        "                return 10           # retun the range of the max_value for randint\n",
        "            elif difficulty == 2:\n",
        "                return 20\n",
        "            elif difficulty == 3:\n",
        "                return 50\n",
        "            else:\n",
        "                print(\"You hav choosen an invalid number, please enter 1, 2 or 3.\")\n",
        "        except ValueError:\n",
        "            print(\"Invalid input, please choose a valid number\") # handling all inputs so that the program doesn't crash\n",
        "\n",
        "def game(max_range): # the choosen difficulty as a parameter (return value from difficulty function)\n",
        "    answer = \"Yes\"\n",
        "    score = 0\n",
        "    high_score = 0\n",
        "\n",
        "    while answer.lower() == \"yes\":  # using lower to handle lowercase yes\n",
        "        random_x = random.randint(1, max_range)\n",
        "        random_y = random.randint(1, max_range)\n",
        "        product = random_x * random_y\n",
        "\n",
        "        start_time = time.time()\n",
        "        user_input = int(input(f\"What is the product of {random_x} * {random_y}?\"))\n",
        "        end_time = time.time()\n",
        "\n",
        "\n",
        "        if product == user_input:\n",
        "            score += 1\n",
        "            time_taken = end_time - start_time\n",
        "            print(f\"Good work! It took you {time_taken:.2f} seconds.\")   #Formatting seconds\n",
        "        else:\n",
        "            print(f\"That's wrong! The correct answer is {product}\")\n",
        "        \n",
        "        if score == 5:\n",
        "            max_range += 10             #increses difficulty by 10\n",
        "            print(\"You are doing so well, lets increase difficulty!\")\n",
        "\n",
        "        if score > high_score:\n",
        "            high_score = score\n",
        "\n",
        "        answer = input(\"Do you want to play again? Yes or No\")\n",
        "\n",
        "    print(f\"Your total score is: {score}\")\n",
        "    print(f\"Your high score is: {high_score}\")\n",
        "\n",
        "\n",
        "# Main starts here\n",
        "max_range = difficulty()\n",
        "game(max_range)"
      ]
    },
    {
      "cell_type": "markdown",
      "metadata": {
        "id": "pnm3fwjJQNgd"
      },
      "source": [
        "---\n",
        "## 5. Check convergence (**)\n",
        "Use a while statement to compute the following sums:\n",
        "\n",
        "&nbsp; a) &nbsp; $\\text{sum} = 1 + \\frac{1}{2} + \\frac{1}{4} + \\frac{1}{8} + \\dots + \\frac{1}{2^n}$\n",
        "\n",
        "&nbsp; b) &nbsp; $\\text{sum} = 1 - \\frac{1}{3} + \\frac{1}{5} - \\frac{1}{7} + \\dots + \\frac{(-1)^n}{2n+1}$\n",
        "\n",
        "Try different values on $n$ to see which value it converges to.\n",
        "\n",
        "<details>\n",
        "\n",
        "<summary>Answer </summary>\n",
        "\n",
        "&nbsp; a) &nbsp; $1 + \\frac{1}{2} + \\frac{1}{4} + \\frac{1}{8} + \\dots + \\frac{1}{2^n} \\xrightarrow[n\\rightarrow \\infty]{} 2$\n",
        "\n",
        "&nbsp; b) &nbsp; $ 1 - \\frac{1}{3} + \\frac{1}{5} - \\frac{1}{7} + \\dots + \\frac{(-1)^n}{2n+1} \\xrightarrow[n\\rightarrow \\infty]{} \\frac{\\pi}{4}$\n",
        "\n",
        "</details>"
      ]
    },
    {
      "cell_type": "code",
      "execution_count": 28,
      "metadata": {},
      "outputs": [
        {
          "name": "stdout",
          "output_type": "stream",
          "text": [
            "The sum is: 1.9999999998835847 an number of terms added is: 34\n"
          ]
        }
      ],
      "source": [
        "term = 1.0\n",
        "sum = 0.0\n",
        "n = 0\n",
        "\n",
        "while term > 1e-10:\n",
        "    sum += term\n",
        "    term /= 2\n",
        "    n += 1\n",
        "\n",
        "print(f\"The sum is: {sum} an number of terms added is: {n}\")"
      ]
    },
    {
      "cell_type": "code",
      "execution_count": 29,
      "metadata": {},
      "outputs": [
        {
          "name": "stdout",
          "output_type": "stream",
          "text": [
            "0.7853979133974436\n"
          ]
        }
      ],
      "source": [
        "sum2 = 0.0\n",
        "n = 0        #Keep track of terms\n",
        "sign = 1     #So we can change between addition and subtraction\n",
        "\n",
        "while n < 1000000:       #The loop will run for 1M time\n",
        "    term = sign / (2 * n + 1)       #Calculates the current term\n",
        "    sum2 += term       #Add the term to the sum\n",
        "    sign *= -1         #Changes sign from + to - and the other way\n",
        "    n += 1             #Move to the nest term\n",
        "\n",
        "\n",
        "print(sum2)\n"
      ]
    }
  ],
  "metadata": {
    "colab": {
      "include_colab_link": true,
      "provenance": []
    },
    "kernelspec": {
      "display_name": "Python 3 (ipykernel)",
      "language": "python",
      "name": "python3"
    },
    "language_info": {
      "codemirror_mode": {
        "name": "ipython",
        "version": 3
      },
      "file_extension": ".py",
      "mimetype": "text/x-python",
      "name": "python",
      "nbconvert_exporter": "python",
      "pygments_lexer": "ipython3",
      "version": "3.12.4"
    },
    "vscode": {
      "interpreter": {
        "hash": "0da836a34428266995a795f1e1e27b816fa1c02f148d9728b3fbbbc5459afca6"
      }
    }
  },
  "nbformat": 4,
  "nbformat_minor": 0
}
