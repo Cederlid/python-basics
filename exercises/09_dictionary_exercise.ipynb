{
  "cells": [
    {
      "cell_type": "markdown",
      "metadata": {
        "colab_type": "text",
        "id": "view-in-github"
      },
      "source": [
        "<a href=\"https://colab.research.google.com/github/aleylani/Python/blob/main/exercises/09_dictionary_exercise.ipynb\" target=\"_parent\"><img src=\"https://colab.research.google.com/assets/colab-badge.svg\" alt=\"Open In Colab\"/></a>"
      ]
    },
    {
      "cell_type": "markdown",
      "metadata": {
        "id": "-Tt0Nh61Q93M"
      },
      "source": [
        "# dictionary exercises\n",
        "\n",
        "---\n",
        "These are introductory exercises in Python with focus in **dictionary**.\n",
        "\n",
        "<p class = \"alert alert-info\" role=\"alert\"><b>Remember</b> to use <b>descriptive variable and function names</b> in order to get readable code </p>\n",
        "\n",
        "<p class = \"alert alert-info\" role=\"alert\"><b>Remember</b> to format your answers in a neat way using <b>f-strings</b>\n",
        "\n",
        "<p class = \"alert alert-info\" role=\"alert\"><b>Remember</b> to format your input questions in a pedagogical way to guide the user\n",
        "\n",
        "The number of stars (\\*), (\\*\\*), (\\*\\*\\*) denotes the difficulty level of the task\n",
        "\n",
        "---"
      ]
    },
    {
      "cell_type": "markdown",
      "metadata": {
        "id": "h12a82ufQ93O"
      },
      "source": [
        "## 1. Curriculum (*)\n",
        "\n",
        "Create a dictionary containing all the courses that you will study in this program, with the course names as **keys** and the amount of points as **value**. Then calculate the number of points that you will study in total. (*)\n",
        "\n",
        "<details>\n",
        "\n",
        "<summary>Answer</summary>\n",
        "\n",
        "Look at your course program curriculum\n",
        "\n",
        "</details>\n"
      ]
    },
    {
      "cell_type": "code",
      "execution_count": 1,
      "metadata": {},
      "outputs": [
        {
          "data": {
            "text/plain": [
              "400"
            ]
          },
          "execution_count": 1,
          "metadata": {},
          "output_type": "execute_result"
        }
      ],
      "source": [
        "all_courses= {\n",
        "    \"Intro AI\": 5,\n",
        "    \"Programmering med Puthon\": 40,\n",
        "    \"Databehandling\": 25,\n",
        "    \"Linjär algebra\": 20,\n",
        "    \"Statistiska metoder\": 30,\n",
        "    \"Maskininlärning\": 45,\n",
        "    \"Databaser\": 25,\n",
        "    \"Dataengenering och agil metoder\": 45,\n",
        "    \"LIA1\": 40,\n",
        "    \"Djup maskininlärning\": 40,\n",
        "    \"LIA2\": 70,\n",
        "    \"Exampenarbete\":15\n",
        "}\n",
        "\n",
        "sum(all_courses.values())"
      ]
    },
    {
      "cell_type": "markdown",
      "metadata": {
        "id": "q_VkLopFQ93O"
      },
      "source": [
        "---\n",
        "## 2. Dice simulation (*)\n",
        "\n",
        "Simulate 1000000 dice rolls and save the number of ones, twos, ..., sixes in a dictionary. Then print them out in the terminal. (*)\n",
        "\n",
        "<details>\n",
        "\n",
        "<summary>Answer</summary>\n",
        "\n",
        "```\n",
        "1: 166481\n",
        "2: 166844\n",
        "3: 166154\n",
        "4: 167400\n",
        "5: 167260\n",
        "6: 165861\n",
        "```\n",
        "\n",
        "</details>\n"
      ]
    },
    {
      "cell_type": "code",
      "execution_count": 2,
      "metadata": {},
      "outputs": [
        {
          "name": "stdout",
          "output_type": "stream",
          "text": [
            "1: 166797\n",
            "2: 166648\n",
            "3: 166214\n",
            "4: 166452\n",
            "5: 166659\n",
            "6: 167230\n"
          ]
        }
      ],
      "source": [
        "import random\n",
        "\n",
        "num_rolls = 1000000\n",
        "\n",
        "frequencies = {i: 0 for i in range(1,7)}\n",
        "\n",
        "for _ in range(num_rolls):\n",
        "    roll = random.randint(1,6)\n",
        "    frequencies[roll] += 1\n",
        "\n",
        "for number, count in frequencies.items():\n",
        "    print(f\"{number}: {count}\")"
      ]
    },
    {
      "cell_type": "code",
      "execution_count": 6,
      "metadata": {},
      "outputs": [
        {
          "name": "stdout",
          "output_type": "stream",
          "text": [
            "1: 167183\n",
            "2: 166786\n",
            "3: 166446\n",
            "4: 166765\n",
            "5: 166381\n",
            "6: 166439\n"
          ]
        }
      ],
      "source": [
        "import random \n",
        "\n",
        "dice_rolls = [random.randint(1,6) for i in range(1000000)]\n",
        "results = {}\n",
        "\n",
        "for i in range(1,7):\n",
        "    results[i] = dice_rolls.count(i)\n",
        "\n",
        "for key, value in results.items():\n",
        "    to_print = f\"{key}: {value}\"\n",
        "\n",
        "    print(to_print)"
      ]
    },
    {
      "cell_type": "markdown",
      "metadata": {
        "id": "GlL9XKOhQ93P"
      },
      "source": [
        "---\n",
        "## 3. Pokemon list (*)\n",
        "\n",
        "Read in the file pokemon_list.txt in Python. Create a variable with name pokedex with the key:value **\"pokemon\":\"type, index\"**. For example when searching for the keys \"Gengar\" and \"Pikachu\": (*)\n",
        "\n",
        "```python\n",
        "\n",
        "print(pokedex[\"Gengar\"])\n",
        "print(pokedex[\"Pikachu\"])\n",
        "\n",
        "Spöke/Gift, 94\n",
        "Elektrisk, 25\n",
        "```\n",
        "\n",
        "<details>\n",
        "\n",
        "<summary>Answer</summary>\n",
        "\n",
        "```\n",
        "{'Bulbasaur': 'Gräs/Gift, 1',\n",
        " 'Ivysaur': 'Gräs/Gift, 2',\n",
        " 'Venusaur': 'Gräs/Gift, 3',\n",
        " 'Charmander': 'Eld, 4',\n",
        " 'Charmeleon': 'Eld, 5',\n",
        " 'Charizard': 'Eld/Flygande, 6',\n",
        " 'Squirtle': 'Vatten, 7',\n",
        " 'Wartortle': 'Vatten, 8',\n",
        " 'Blastoise': 'Vatten, 9',\n",
        " ...\n",
        "}\n",
        "```\n",
        "\n",
        "</details>\n"
      ]
    },
    {
      "cell_type": "code",
      "execution_count": 59,
      "metadata": {},
      "outputs": [
        {
          "name": "stdout",
          "output_type": "stream",
          "text": [
            "('Spöke/Gift', '94')\n",
            "('Elektrisk', '25')\n"
          ]
        }
      ],
      "source": [
        "\n",
        "with open(\"../data/pokemon_list.txt\", \"r\") as f:\n",
        "    contents = f.readlines()\n",
        "\n",
        "pokemon_names = []\n",
        "pokemon_types = []\n",
        "pokemon_indexs = []\n",
        "\n",
        "#contents_clean = [row.replace(\"\\n\", \"\") for row in contents]\n",
        "\n",
        "for content in contents:\n",
        "    poke_split = content.split(\" \")\n",
        "    poke_clean = [x.replace(\"\\n\", \"\") for x in poke_split]\n",
        "\n",
        "    pokemon_name = poke_clean[1]\n",
        "    pokemon_type = poke_clean[2]\n",
        "    pokemon_index = poke_clean[0]\n",
        "\n",
        "    pokemon_names.append(pokemon_name)\n",
        "    pokemon_types.append(pokemon_type)\n",
        "    pokemon_indexs.append(pokemon_index)\n",
        "\n",
        "types_and_indexes = [(t,i) for t, i in zip(pokemon_types, pokemon_indexs)]\n",
        "\n",
        "pokedex = {n:t for (n,t) in zip(pokemon_names, types_and_indexes)}\n",
        "\n",
        "print(pokedex[\"Gengar\"])\n",
        "print(pokedex[\"Pikachu\"])"
      ]
    },
    {
      "cell_type": "code",
      "execution_count": null,
      "metadata": {},
      "outputs": [],
      "source": [
        "pokedex2 = {}\n",
        "\n",
        "for entry in contents:\n",
        "    "
      ]
    },
    {
      "cell_type": "markdown",
      "metadata": {
        "id": "nz9uG-zFQ93P"
      },
      "source": [
        "---\n",
        "## 4. Morse code (**)\n",
        "\n",
        "Read in the file morse.txt, save it in a dictionary and create a function that lets the user input a message to get it translated to morse code. For example  (**)\n",
        "\n",
        "```python\n",
        "\n",
        "print(morse(\"SOS\"))\n",
        "print(morse(\"POKEMON\"))\n",
        "\n",
        "...---...\n",
        ".------.-.------.\n",
        "```"
      ]
    },
    {
      "cell_type": "code",
      "execution_count": 1,
      "metadata": {},
      "outputs": [
        {
          "name": "stdout",
          "output_type": "stream",
          "text": [
            "...---...\n",
            ".------.-.------.\n"
          ]
        }
      ],
      "source": [
        "morse_dict = {}\n",
        "\n",
        "with open(\"../data/morse.txt\", \"r\") as f:\n",
        "    lines = f.readlines()\n",
        "\n",
        "    for line in lines:\n",
        "        letter, morse_code =line.strip().split(\": \")\n",
        "        morse_dict[letter] = morse_code\n",
        "\n",
        "def morse(message):\n",
        "    translated_message = \"\"\n",
        "\n",
        "    for letter in message.upper():\n",
        "        if letter in morse_dict:\n",
        "            translated_message += morse_dict[letter] \n",
        "        else:\n",
        "            translated_message += \" \"\n",
        "    return translated_message.strip()\n",
        "\n",
        "print(morse(\"SOS\"))\n",
        "print(morse(\"POKEMON\"))"
      ]
    }
  ],
  "metadata": {
    "colab": {
      "include_colab_link": true,
      "provenance": []
    },
    "kernelspec": {
      "display_name": "Python 3 (ipykernel)",
      "language": "python",
      "name": "python3"
    },
    "language_info": {
      "codemirror_mode": {
        "name": "ipython",
        "version": 3
      },
      "file_extension": ".py",
      "mimetype": "text/x-python",
      "name": "python",
      "nbconvert_exporter": "python",
      "pygments_lexer": "ipython3",
      "version": "3.12.2"
    },
    "vscode": {
      "interpreter": {
        "hash": "0da836a34428266995a795f1e1e27b816fa1c02f148d9728b3fbbbc5459afca6"
      }
    }
  },
  "nbformat": 4,
  "nbformat_minor": 0
}
