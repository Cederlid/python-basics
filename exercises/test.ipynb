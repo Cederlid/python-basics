{
 "cells": [
  {
   "cell_type": "code",
   "execution_count": 1,
   "metadata": {},
   "outputs": [],
   "source": [
    "def check_answer(question: str, correct_answer: str) -> None:\n",
    "    user_guess = input(f\"{question}\\nOUTPUT: \")\n",
    "    if user_guess == correct_answer:\n",
    "        print(\"Correct! Well done.\")\n",
    "    else:\n",
    "        print(f\"Sorry, that's not correct. The correct answer is: {correct_answer}\")\n",
    "    print()"
   ]
  },
  {
   "cell_type": "code",
   "execution_count": 2,
   "metadata": {},
   "outputs": [
    {
     "name": "stdout",
     "output_type": "stream",
     "text": [
      "[2, 3, 4, 2, 6, 8, 3, 6, 12, 4, 8, 12]\n"
     ]
    }
   ],
   "source": [
    "result = [i * j for i in range(1, 5) for j in range(1, 5) if i != j]\n",
    "print(result)"
   ]
  },
  {
   "cell_type": "code",
   "execution_count": 6,
   "metadata": {},
   "outputs": [
    {
     "name": "stdout",
     "output_type": "stream",
     "text": [
      "False\n"
     ]
    }
   ],
   "source": [
    "num = 0\n",
    "if num:\n",
    "    print(\"true\")\n",
    "else:\n",
    "    print(\"False\")\n"
   ]
  },
  {
   "cell_type": "code",
   "execution_count": 7,
   "metadata": {},
   "outputs": [
    {
     "data": {
      "text/plain": [
       "[[0, 0],\n",
       " [1, 1],\n",
       " [2, 4],\n",
       " [3, 9],\n",
       " [4, 16],\n",
       " [5, 25],\n",
       " [6, 36],\n",
       " [7, 49],\n",
       " [8, 64],\n",
       " [9, 81]]"
      ]
     },
     "execution_count": 7,
     "metadata": {},
     "output_type": "execute_result"
    }
   ],
   "source": [
    "[[x, x**2] for x in range(0, 10)]"
   ]
  },
  {
   "cell_type": "code",
   "execution_count": 15,
   "metadata": {},
   "outputs": [
    {
     "name": "stdout",
     "output_type": "stream",
     "text": [
      "['Tom', 'Billy', 'Oscar']\n",
      "['Tom', 'Billy', 'Oscar']\n",
      "['Tom', 'Billy', 'Oscar']\n",
      "['Tom', 'Alex', 'Oscar']\n",
      "['Tom', 'Billy', 'Oscar']\n",
      "['Tom', 'Alex', 'Oscar']\n"
     ]
    }
   ],
   "source": [
    "students = [\"Tom\", \"Billy\", \"Oscar\"]\n",
    "\n",
    "[[i, student]for i, student in enumerate(students)]\n",
    "\n",
    "s2 = students[:]\n",
    "s3 = students\n",
    "\n",
    "\n",
    "print(students)\n",
    "print(s2)\n",
    "print(s3)\n",
    "students[1] = \"Alex\"\n",
    "\n",
    "print(students)\n",
    "print(s2)\n",
    "print(s3)\n",
    "\n",
    "   "
   ]
  }
 ],
 "metadata": {
  "kernelspec": {
   "display_name": "introduktion",
   "language": "python",
   "name": "python3"
  },
  "language_info": {
   "codemirror_mode": {
    "name": "ipython",
    "version": 3
   },
   "file_extension": ".py",
   "mimetype": "text/x-python",
   "name": "python",
   "nbconvert_exporter": "python",
   "pygments_lexer": "ipython3",
   "version": "3.12.2"
  },
  "orig_nbformat": 4
 },
 "nbformat": 4,
 "nbformat_minor": 2
}
