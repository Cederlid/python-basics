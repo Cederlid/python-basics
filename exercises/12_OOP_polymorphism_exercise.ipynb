{
  "cells": [
    {
      "cell_type": "markdown",
      "metadata": {
        "colab_type": "text",
        "id": "view-in-github"
      },
      "source": [
        "<a href=\"https://colab.research.google.com/github/aleylani/Python/blob/main/exercises/12_OOP_polymorphism_exercise.ipynb\" target=\"_parent\"><img src=\"https://colab.research.google.com/assets/colab-badge.svg\" alt=\"Open In Colab\"/></a>"
      ]
    },
    {
      "cell_type": "markdown",
      "metadata": {
        "id": "IVncMQkYRamR"
      },
      "source": [
        "# OOP exercises - inheritance and polymorphism\n",
        "\n",
        "---\n",
        "These are introductory exercises in Python with focus in **Object oriented programming**.\n",
        "\n",
        "<p class = \"alert alert-info\" role=\"alert\"><b>Remember</b> to use <b>descriptive variable, function and class names</b> in order to get readable code </p>\n",
        "\n",
        "<p class = \"alert alert-info\" role=\"alert\"><b>Remember</b> to format your answers in a neat way using <b>f-strings</b></p>\n",
        "\n",
        "<p class = \"alert alert-info\" role=\"alert\"><b>Remember</b> to format your input questions in a pedagogical way to guide the user</p>\n",
        "\n",
        "<p class = \"alert alert-info\" role=\"alert\"><b>Remember</b> to write good docstrings for your methods and classes </p>\n",
        "\n",
        "The number of stars (\\*), (\\*\\*), (\\*\\*\\*) denotes the difficulty level of the task\n",
        "\n",
        "---"
      ]
    },
    {
      "cell_type": "markdown",
      "metadata": {
        "id": "0LmdhIcCRamT"
      },
      "source": [
        "## 1. Movie (*)\n",
        "\n",
        "Create a Movie class with the following functionality:\n",
        "\n",
        "It should be able to accept 4 arguments\n",
        "\n",
        "    name, genre, IMDB-rating, duration (in minutes)\n",
        "\n",
        "Use the following code to test your program.\n",
        "\n",
        "```python\n",
        "pokemon = Movie(\"Pokemon\", \"Cartoon\", 4.5, 94)\n",
        "titanic = Movie(\"Titanic\", \"Romance\", 4.7, 120)\n",
        "code = Movie(\"The Code\", \"Math\", 4, 82)\n",
        "\n",
        "```\n",
        "\n",
        "Now, create a method called info() that accomplishes the following\n",
        "\n",
        "    for i in [pokemon, titanic, code]:\n",
        "        print(i.info())\n",
        "        \n",
        "    Movie with title Pokemon, genre Cartoon, rating 4.5, duration 94 minutes\n",
        "\n",
        "    Movie with title Titanic, genre Romance, rating 4.7, duration 120 minutes\n",
        "\n",
        "    Movie with title The Code, genre Math and rating 4, duration 82 minutes\n",
        "```"
      ]
    },
    {
      "cell_type": "markdown",
      "metadata": {},
      "source": [
        "\n",
        "Additionally overload the + operator so that we can see how long any given combination of movies is. For example:\n",
        "\n",
        "    pokemon + titanic\n",
        "\n",
        "should yield\n",
        "\n",
        "    The movies Pokemon and Titanic, together, have a total playtime of 94 + 120 = 214 minutes."
      ]
    },
    {
      "cell_type": "markdown",
      "metadata": {},
      "source": [
        "Finally, implement type hints and make your attributes into @properties. \n",
        "\n",
        "Also define setters for the attributes. Make sure to implement checks for the attributes, so that they are of the expected type and format. "
      ]
    },
    {
      "cell_type": "code",
      "execution_count": 39,
      "metadata": {},
      "outputs": [],
      "source": [
        "class Movie:\n",
        "    \"\"\"\n",
        "    Movie class takes in a name = name of the movie as a string, genre = the genre of the movie as a string, imdb_rating = the rating of the movie as a int or a float, duration = the duration of the movie in minutesb as an int\n",
        "    \"\"\"\n",
        "    def __init__(self, name: str, genre:str, imdb_rating:int | float, duration: int) -> None:\n",
        "        self.name = name\n",
        "        self.genre = genre\n",
        "        self.imdb_rating = imdb_rating\n",
        "        self.duration = duration\n",
        "    \n",
        "    @property\n",
        "    def name(self)-> str:\n",
        "        return self.__name \n",
        "    \n",
        "    @name.setter\n",
        "    def name(self, name:str)-> None:\n",
        "        if not isinstance(name, str):\n",
        "            raise TypeError(\"Name of the movie must be a string\")\n",
        "        self.__name = name\n",
        "\n",
        "    @property\n",
        "    def genre(self) -> str:\n",
        "        return self.__genre \n",
        "    \n",
        "    @genre.setter\n",
        "    def genre(self, genre:str) -> None:\n",
        "        if not isinstance(genre, str):\n",
        "            raise TypeError(\"Genre of the movie must be a string\")\n",
        "        self.__genre = genre\n",
        "    \n",
        "    @property\n",
        "    def imdb_rating(self) -> int | float:\n",
        "        return self.__imdb_rating\n",
        "    \n",
        "    @imdb_rating.setter\n",
        "    def imdb_rating(self, imdb_rating: int | float) -> None:\n",
        "        if not isinstance(imdb_rating,(int , float)):\n",
        "            raise TypeError(\"The rating of the movie must be a float\")\n",
        "        if not (0 <= imdb_rating <= 10):\n",
        "            raise ValueError(\"The rating of the movie must be between 0 - 10\")\n",
        "        self.__imdb_rating = imdb_rating\n",
        "\n",
        "    @property\n",
        "    def duration(self) -> int:\n",
        "        return self.__duration\n",
        "    \n",
        "    @duration.setter\n",
        "    def duration(self, duration: int) -> None:\n",
        "        if not isinstance(duration, int):\n",
        "            raise TypeError(\"The duration of the movie must be a real number\")\n",
        "        if not (0 < duration):\n",
        "            raise ValueError(\"The duration of the movie can't be a neagtive number or zero\")\n",
        "        self.__duration = duration\n",
        "\n",
        "    def info(self) -> str:\n",
        "        \"\"\"\n",
        "        info() returns a string with information about the movie, as title, genre, rating and duration\n",
        "        \"\"\"\n",
        "        return f\"Movie with the title {self.name}, genre {self.genre}, rating {self.imdb_rating}, duration {self.duration} minutes\"\n",
        "    \n",
        "    def __add__(self, other) -> str:\n",
        "        \"\"\"\n",
        "        add() takes in two movies and returns a string that adds the total playtime of the two movies in minutes\n",
        "        \"\"\"\n",
        "        return f\"The movies {self.name} and {other.name}, together, have a total playtime of {self.duration} + {other.duration} = {self.duration + other.duration} minutes.\"\n",
        "    \n",
        "    def __repr__(self) -> str:\n",
        "        \"\"\"\n",
        "        __repr__() returns a string with a representation of the movie\n",
        "        \"\"\"\n",
        "        return f\"Movie(name={self.name}, genre={self.genre}, imdb-rating={self.imdb_rating}, duration={self.duration})\"\n"
      ]
    },
    {
      "cell_type": "code",
      "execution_count": 40,
      "metadata": {},
      "outputs": [
        {
          "name": "stdout",
          "output_type": "stream",
          "text": [
            "Movie with the title Pokemon, genre Cartoon, rating 4.5, duration 94 minutes\n",
            "Movie with the title Titanic, genre Romance, rating 4.7, duration 120 minutes\n",
            "Movie with the title The Code, genre Math, rating 4, duration 82 minutes\n",
            "The movies Pokemon and Titanic, together, have a total playtime of 94 + 120 = 214 minutes.\n",
            "Movie(name=Pokemon, genre=Cartoon, imdb-rating=4.5, duration=94)\n"
          ]
        }
      ],
      "source": [
        "pokemon = Movie(\"Pokemon\", \"Cartoon\", 4.5, 94)\n",
        "titanic = Movie(\"Titanic\", \"Romance\", 4.7, 120)\n",
        "code = Movie(\"The Code\", \"Math\", 4, 82)\n",
        "\n",
        "for i in [pokemon, titanic, code]:\n",
        "    print(i.info())\n",
        "\n",
        "print(pokemon + titanic)\n",
        "\n",
        "print(pokemon)"
      ]
    },
    {
      "cell_type": "markdown",
      "metadata": {
        "id": "bRQQ_JfxRamT"
      },
      "source": [
        "---\n",
        "## 2. Fraction (**)\n",
        "\n",
        "Create a class called Frac to represent mathematical fractions. The class is instantiated with two instance variables: nominator and denominator. Objects instantiated from this class should have methods for addition, subtraction, multiplication, division using the operators +,-,*,/. Note that these implemented methods must be mathematically correct. Also implement the following methods:\n",
        "\n",
        "```python\n",
        "\n",
        "__repr__(self) # represent the fraction in an unambigious way when printing\n",
        "\n",
        "mixed(self) # represent the fraction in mixed terms\n",
        "\n",
        "__eq__(self, other) # checks equality by overloading ==\n",
        "\n",
        "simplify(self) # simplifies the fraction to its most simple form (with all common divisors removed) \n",
        "\n",
        "```\n",
        "\n",
        "Also remember to handle errors and validations.\n",
        "\n",
        "Example of tests that it should handled:\n",
        "\n",
        "- 1/2 + 1/3 = 5/6\n",
        "- 1/2 - 1/3 = 1/6\n",
        "- 7/6 --> 1 1/6 (mixed)\n",
        "- 3*1/2 = 3/2\n",
        "- 1/2 * 3 = 3/2\n",
        "- 1/4 + 2 = 9/4\n",
        "- 1/4 / 1/2 = 1/2\n",
        "- 2/4 == 1/2 --> True\n",
        "- 3/4 += 2 = 11/4\n",
        "\n",
        "</details>\n"
      ]
    },
    {
      "cell_type": "code",
      "execution_count": 48,
      "metadata": {},
      "outputs": [],
      "source": [
        "class Frac:\n",
        "    \n",
        "    def __init__(self, nominator: int, denominator: int = 1) -> None:\n",
        "        if denominator == 0:\n",
        "            raise ValueError(\"Denominator cannot be zero\")\n",
        "        \n",
        "        self.nominator = nominator\n",
        "        self.denominator = denominator\n",
        "        self.simplify()\n",
        "\n",
        "    @property\n",
        "    def nominator(self) -> int:\n",
        "        return self.__nominator\n",
        "    \n",
        "    @nominator.setter\n",
        "    def nominator(self, nominator: int) -> None:\n",
        "        if not isinstance(nominator, int):\n",
        "            raise TypeError(\"The nominator must be a integer\")\n",
        "        self.__nominator = nominator\n",
        "\n",
        "    \n",
        "    @property\n",
        "    def denominator(self) -> int:\n",
        "        return self.__denominator\n",
        "    \n",
        "    @denominator.setter\n",
        "    def denominator(self, denominator: int) -> None:\n",
        "        if not isinstance(denominator, int):\n",
        "            raise TypeError(\"The denominator must be a number\")\n",
        "        if denominator == 0:\n",
        "            raise ValueError(\"Denominator cannot be zero\")\n",
        "        self.__denominator = denominator\n",
        "\n",
        "    def gcd(self, a: int, b: int) -> int:\n",
        "        while b != 0:\n",
        "            a, b = b, a % b\n",
        "        return a\n",
        "    \n",
        "    def simplify(self):\n",
        "        divisor = self.gcd(self.nominator, self.denominator)\n",
        "        self.nominator //= divisor\n",
        "        self.denominator //= divisor\n",
        "        if self.denominator < 0:\n",
        "            self.nominator = -self.nominator\n",
        "            self.denominator = -self.denominator\n",
        "    \n",
        "    def __add__(self, other: \"Frac\") -> \"Frac\":\n",
        "        if isinstance(other, int):\n",
        "            other = Frac(other, 1)\n",
        "        new_nominator = self.nominator * other.denominator + other.nominator * self.denominator\n",
        "        new_denominator = self.denominator * other.denominator\n",
        "        return Frac(new_nominator, new_denominator)\n",
        "    \n",
        "    def __sub__(self, other: \"Frac\") -> \"Frac\":\n",
        "        if isinstance(other, int):\n",
        "            other = Frac(other, 1)\n",
        "        new_nominator = self.nominator * other.denominator - other.nominator * self.denominator\n",
        "        new_denominator = self.denominator * other.denominator\n",
        "        return Frac(new_nominator, new_denominator)\n",
        "    \n",
        "    def __mul__(self, other: \"Frac\") -> \"Frac\":\n",
        "        if isinstance(other, int):\n",
        "            other = Frac(other, 1)\n",
        "        new_nominator = self.nominator * other.nominator\n",
        "        new_denominator = self.denominator * other.denominator\n",
        "        return Frac(new_nominator, new_denominator)\n",
        "    \n",
        "    def __truediv__(self, other: \"Frac\") -> \"Frac\":\n",
        "        if isinstance(other, int):\n",
        "            other = Frac(other, 1)\n",
        "        if other.nominator == 0:\n",
        "            raise ZeroDivisionError(\"Cannot divide by zero\")\n",
        "        new_nominator = self.nominator * other.denominator\n",
        "        new_denominator = self.denominator * other.nominator\n",
        "        return Frac(new_nominator, new_denominator)\n",
        "    \n",
        "    def __eq__(self, other: \"Frac\") -> bool:\n",
        "        return self.nominator == other.nominator and self.denominator == other.denominator\n",
        "    \n",
        "    def __repr__(self) -> str:\n",
        "        return f\"{self.nominator} / {self.denominator}\"\n"
      ]
    },
    {
      "cell_type": "code",
      "execution_count": 49,
      "metadata": {},
      "outputs": [
        {
          "data": {
            "text/plain": [
              "5 / 6"
            ]
          },
          "execution_count": 49,
          "metadata": {},
          "output_type": "execute_result"
        }
      ],
      "source": [
        "num1 = Frac(1,2)\n",
        "num2 = Frac(1,3)\n",
        "Frac.__add__(num1, num2)"
      ]
    },
    {
      "cell_type": "code",
      "execution_count": 52,
      "metadata": {},
      "outputs": [
        {
          "data": {
            "text/plain": [
              "1 / 6"
            ]
          },
          "execution_count": 52,
          "metadata": {},
          "output_type": "execute_result"
        }
      ],
      "source": [
        "num3 = Frac(1,2)\n",
        "num4 = Frac(1,3)\n",
        "Frac.__sub__(num1, num2)"
      ]
    }
  ],
  "metadata": {
    "colab": {
      "include_colab_link": true,
      "provenance": []
    },
    "kernelspec": {
      "display_name": "Python 3 (ipykernel)",
      "language": "python",
      "name": "python3"
    },
    "language_info": {
      "codemirror_mode": {
        "name": "ipython",
        "version": 3
      },
      "file_extension": ".py",
      "mimetype": "text/x-python",
      "name": "python",
      "nbconvert_exporter": "python",
      "pygments_lexer": "ipython3",
      "version": "3.12.2"
    },
    "vscode": {
      "interpreter": {
        "hash": "0da836a34428266995a795f1e1e27b816fa1c02f148d9728b3fbbbc5459afca6"
      }
    }
  },
  "nbformat": 4,
  "nbformat_minor": 0
}
