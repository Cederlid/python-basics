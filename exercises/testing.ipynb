{
 "cells": [
  {
   "cell_type": "code",
   "execution_count": 25,
   "metadata": {},
   "outputs": [
    {
     "name": "stdout",
     "output_type": "stream",
     "text": [
      "S.H\n"
     ]
    }
   ],
   "source": [
    "\n",
    "def abbrev_name(name):\n",
    "    return \".\".join(x[0] for x in name.split()).upper()\n",
    "\n",
    "print(abbrev_name(\"Sam Harris\"))\n"
   ]
  },
  {
   "cell_type": "code",
   "execution_count": 41,
   "metadata": {},
   "outputs": [
    {
     "name": "stdout",
     "output_type": "stream",
     "text": [
      "world! Hello\n"
     ]
    }
   ],
   "source": [
    "def reverse_words(s):\n",
    "    word = s.split()\n",
    "    word = word [::-1]\n",
    "    return \" \".join(word)\n",
    "\n",
    "print(reverse_words(\"Hello world!\"))"
   ]
  },
  {
   "cell_type": "code",
   "execution_count": 156,
   "metadata": {},
   "outputs": [],
   "source": [
    "# imports here\n",
    "import matplotlib.pyplot as plt\n",
    "import random\n",
    "\n",
    "class Faction:\n",
    "\n",
    "    # your code here\n",
    "    # begin with __init__ and follow up by properties and setters\n",
    "\n",
    "    def __init__(self, name: str, apples: int, oranges: int, bananas: int, strawberries: int) -> None:\n",
    "        self.name = name\n",
    "        self.apples = apples\n",
    "        self.oranges = oranges\n",
    "        self.bananas = bananas\n",
    "        self.strawberries = strawberries\n",
    "\n",
    "    @property\n",
    "    def name(self) -> str:\n",
    "        return self.__name\n",
    "    \n",
    "    @property\n",
    "    def apples(self) -> int:\n",
    "        return self.__apples\n",
    "    \n",
    "    @property\n",
    "    def oranges(self) -> int:\n",
    "        return self.__oranges\n",
    "    \n",
    "    @property\n",
    "    def bananas(self) -> int:\n",
    "        return self.__bananas\n",
    "    \n",
    "    @property\n",
    "    def strawberries(self) -> int:\n",
    "        return self.__strawberries\n",
    "    \n",
    "    @name.setter\n",
    "    def name(self, name: str) -> None:\n",
    "        if not isinstance(name, str):\n",
    "            raise TypeError(\"The name must be a string\")\n",
    "        self.__name = name\n",
    "\n",
    "    @apples.setter\n",
    "    def apples(self, apples: int) -> None:\n",
    "        if not isinstance(apples, int):\n",
    "            raise TypeError(\"Apples must be an integer\")\n",
    "        if not (0 <= apples <= 200):\n",
    "            raise ValueError(\"The amount of apples must be between 0-200\")\n",
    "        self.__apples = apples\n",
    "    \n",
    "    @oranges.setter\n",
    "    def oranges(self, oranges: int) -> None:\n",
    "        if not isinstance(oranges, int):\n",
    "            raise TypeError(\"Oranges must be an integer\")\n",
    "        if not (0 <= oranges <= 200):\n",
    "            raise ValueError(\"The amount of oranges must be between 0-200\")\n",
    "        self.__oranges = oranges\n",
    "\n",
    "    @bananas.setter\n",
    "    def bananas(self, bananas: int) -> None:\n",
    "        if not isinstance(bananas, int):\n",
    "            raise TypeError(\"Bananas must be an integer\")\n",
    "        if not (0 <= bananas <= 200):\n",
    "            raise ValueError(\"The amount of bananas must be between 0-200\")\n",
    "        self.__bananas = bananas\n",
    "\n",
    "    @strawberries.setter\n",
    "    def strawberries(self, strawberries: int) -> None:\n",
    "        if not isinstance(strawberries, int):\n",
    "            raise TypeError(\"Strawberries must be an integer\")\n",
    "        if not (0 <= strawberries <= 200):\n",
    "            raise ValueError(\"The amount of strawberries must be between 0-200\")\n",
    "        self.__strawberries = strawberries\n",
    "\n",
    "    def inventory(self) -> int:\n",
    "        return self.apples + self.oranges + self.bananas + self.strawberries\n",
    "    \n",
    "    def status(self) -> str:\n",
    "        total_fruits = self.inventory()\n",
    "        if total_fruits <= 150:\n",
    "            return f\"This ain't nothin' but a scratch! {self.name} might be struggling for the moment, but will be back with vengeance!\"\n",
    "        elif 150 < total_fruits <= 500:\n",
    "            return f\"The proud {self.name} is VERY eager to toss some apples! Where are the opponents?!\"\n",
    "        else:\n",
    "            return f\"{self.name} is GODLIKE! Their position is super dominant!\"\n",
    "\n",
    "    def visualize_resources(self) -> None:\n",
    "        fruits = [\"Apples\", \"Oranges\", \"Bananas\", \"Strawberries\"]\n",
    "        fruit_amount = [self.apples, self.oranges, self.bananas, self.strawberries]\n",
    "\n",
    "        colors = []\n",
    "        for amount in fruit_amount:\n",
    "            if amount >= 100:\n",
    "                colors.append(\"green\")\n",
    "            elif amount > 50:\n",
    "                colors.append(\"orange\")\n",
    "            else:\n",
    "                colors.append(\"red\")\n",
    "        \n",
    "        plt.title(f\"Quantity of each fruit owned by {self.name}\")\n",
    "        plt.xlabel(\"Fruits\")\n",
    "        plt.ylabel(\"Amount\")\n",
    "        plt.bar(fruits, fruit_amount, color= colors)\n",
    "        plt.show()\n",
    "        \n",
    "\n",
    "    def organical_growth(self) -> None:\n",
    "\n",
    "        def grow_fruit(fruit_name: str, current_amount:int)-> int: \n",
    "            new_amount = -1\n",
    "            if current_amount <= 200:\n",
    "                growth = random.randint(1, 5)\n",
    "                new_amount = min(current_amount + growth, 200)\n",
    "                            \n",
    "            else:\n",
    "                raise ValueError(f\"Unexpected to get here cause the fruit amount of {fruit_name} is {current_amount}\")\n",
    "            \n",
    "            growth = new_amount - current_amount\n",
    "\n",
    "            if growth == 0:\n",
    "                print(f\"Glorious {self.name} is already at maximum capacity for {fruit_name}!\")   \n",
    "            else:\n",
    "                print(f\"Glorious {self.name} has harvested {growth} {fruit_name}, to a new total of {new_amount}!\")\n",
    "                \n",
    "            return new_amount\n",
    "\n",
    "        self.apples = grow_fruit(\"apples\", self.apples)\n",
    "        self.oranges = grow_fruit(\"oranges\", self.oranges)\n",
    "        self.bananas = grow_fruit(\"bananas\", self.bananas)\n",
    "        self.strawberries = grow_fruit(\"strawberries\", self.strawberries)\n",
    "\n",
    "    def __mul__(self) -> None:\n",
    "      \n",
    "        pass\n",
    "\n",
    "    \n",
    "    def trade_offer(self) -> None:\n",
    "        \n",
    "        pass\n",
    "\n",
    "\n",
    "    def __repr__(self) -> str: \n",
    "        return f\"Faction(name={self.name}, apples={self.apples}, oranges={self.oranges}, bananas={self.bananas}, strawberries={self.strawberries})\""
   ]
  },
  {
   "cell_type": "code",
   "execution_count": 157,
   "metadata": {},
   "outputs": [],
   "source": [
    "fire_nation = Faction('Fire Nation', 55, 20, 150, 180)\n",
    "earth_kingdom = Faction('Earth Kingdom', 6, 4, 2, 1)\n",
    "water_tribe = Faction('Water Tribe', 100, 100, 100, 100)\n",
    "air_nomads = Faction('Air Nomads', 100, 100, 100, 100)"
   ]
  },
  {
   "cell_type": "code",
   "execution_count": 12,
   "metadata": {},
   "outputs": [
    {
     "data": {
      "image/png": "[encoded data removed]",
      "text/plain": [
       "<Figure size 640x480 with 1 Axes>"
      ]
     },
     "metadata": {},
     "output_type": "display_data"
    }
   ],
   "source": [
    "fire_nation.visualize_resources()"
   ]
  },
  {
   "cell_type": "markdown",
   "metadata": {},
   "source": [
    "if current_amount_of_oranges < 200:\n",
    "    \n",
    "        Glorious {faction_name} has harvested 4 oranges, to a new total of 164!\n",
    "\n",
    "    if current_amount_of_oranges == 200:\n",
    "\n",
    "        Glorious {faction_name} is already at maximum capacity for oranges!\n",
    "    "
   ]
  },
  {
   "cell_type": "code",
   "execution_count": 207,
   "metadata": {},
   "outputs": [
    {
     "name": "stdout",
     "output_type": "stream",
     "text": [
      "Glorious Fire Nation is already at maximum capacity for apples!\n",
      "Glorious Fire Nation has harvested 2 oranges, to a new total of 174!\n",
      "Glorious Fire Nation is already at maximum capacity for bananas!\n",
      "Glorious Fire Nation is already at maximum capacity for strawberries!\n"
     ]
    }
   ],
   "source": [
    "fire_nation.organical_growth()"
   ]
  }
 ],
 "metadata": {
  "kernelspec": {
   "display_name": "introduktion",
   "language": "python",
   "name": "python3"
  },
  "language_info": {
   "codemirror_mode": {
    "name": "ipython",
    "version": 3
   },
   "file_extension": ".py",
   "mimetype": "text/x-python",
   "name": "python",
   "nbconvert_exporter": "python",
   "pygments_lexer": "ipython3",
   "version": "3.12.2"
  },
  "orig_nbformat": 4
 },
 "nbformat": 4,
 "nbformat_minor": 2
}
