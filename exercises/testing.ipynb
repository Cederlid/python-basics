{
 "cells": [
  {
   "cell_type": "code",
   "execution_count": 25,
   "metadata": {},
   "outputs": [
    {
     "name": "stdout",
     "output_type": "stream",
     "text": [
      "S.H\n"
     ]
    }
   ],
   "source": [
    "\n",
    "def abbrev_name(name):\n",
    "    return \".\".join(x[0] for x in name.split()).upper()\n",
    "\n",
    "print(abbrev_name(\"Sam Harris\"))\n"
   ]
  },
  {
   "cell_type": "code",
   "execution_count": 41,
   "metadata": {},
   "outputs": [
    {
     "name": "stdout",
     "output_type": "stream",
     "text": [
      "world! Hello\n"
     ]
    }
   ],
   "source": [
    "def reverse_words(s):\n",
    "    word = s.split()\n",
    "    word = word [::-1]\n",
    "    return \" \".join(word)\n",
    "\n",
    "print(reverse_words(\"Hello world!\"))"
   ]
  }
 ],
 "metadata": {
  "kernelspec": {
   "display_name": "introduktion",
   "language": "python",
   "name": "python3"
  },
  "language_info": {
   "codemirror_mode": {
    "name": "ipython",
    "version": 3
   },
   "file_extension": ".py",
   "mimetype": "text/x-python",
   "name": "python",
   "nbconvert_exporter": "python",
   "pygments_lexer": "ipython3",
   "version": "3.12.2"
  },
  "orig_nbformat": 4
 },
 "nbformat": 4,
 "nbformat_minor": 2
}
