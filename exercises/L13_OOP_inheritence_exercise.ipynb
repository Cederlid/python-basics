{
 "cells": [
  {
   "cell_type": "markdown",
   "metadata": {},
   "source": [
    "# Inheritence in Python"
   ]
  },
  {
   "cell_type": "markdown",
   "metadata": {},
   "source": [
    "Arv (som i ARVid på Svenska) :) \n",
    "\n",
    "Vi ska nu lära oss om hur vi kan skapa sub-klasser till våra klasser.\n",
    "\n",
    "Vad är en sub-klass (även kallad child class)? \n",
    "\n",
    "En sub-klass kan man tänka sig är en mer specifik version av ursprungsklassen (även kallad parent class).\n",
    "\n",
    "Sub-klassen kommer att bete sig som sin förälder, men kan även ha vissa unika egenskaper."
   ]
  },
  {
   "cell_type": "markdown",
   "metadata": {},
   "source": [
    "*Exempel*"
   ]
  },
  {
   "cell_type": "code",
   "execution_count": 11,
   "metadata": {},
   "outputs": [],
   "source": [
    "class Vehicles:\n",
    "\n",
    "    '''This is a class for different types of vehicles.'''\n",
    "\n",
    "    def __init__(self, brand: str, model: str, mode: str, model_year: str):\n",
    "         \n",
    "        self.brand = brand\n",
    "        self.model = model\n",
    "        self.mode = mode\n",
    "        self.model_year = model_year\n",
    "\n",
    "    def info(self) -> str:\n",
    "\n",
    "        return f'This {self.model} is a {self.mode}-based vehicle made by {self.brand}, built {self.model_year}.'\n",
    "\n",
    "    def make_some_noice(self) -> str:\n",
    "\n",
    "        return 'Vroom vroom!'"
   ]
  },
  {
   "cell_type": "code",
   "execution_count": 16,
   "metadata": {},
   "outputs": [
    {
     "name": "stdout",
     "output_type": "stream",
     "text": [
      "This XC40 Recharge is a land-based vehicle made by Volvo, built 2023.\n",
      "Vroom vroom!\n"
     ]
    }
   ],
   "source": [
    "a_vehicle = Vehicles('Volvo', 'XC40 Recharge', 'land', '2023')\n",
    "\n",
    "print(a_vehicle.info())\n",
    "print(a_vehicle.make_some_noice())"
   ]
  },
  {
   "cell_type": "code",
   "execution_count": 17,
   "metadata": {},
   "outputs": [
    {
     "name": "stdout",
     "output_type": "stream",
     "text": [
      "This Jas 39 Gripen is a air-based vehicle made by Saab, built 2005.\n",
      "Vroom vroom!\n"
     ]
    }
   ],
   "source": [
    "another_vehicle = Vehicles('Saab', 'Jas 39 Gripen', 'air', '2005')\n",
    "\n",
    "print(another_vehicle.info())\n",
    "print(another_vehicle.make_some_noice())"
   ]
  },
  {
   "cell_type": "markdown",
   "metadata": {},
   "source": [
    "Nu vill vi skapa en child-class till parent-class:en Vehicles.\n",
    "\n",
    "Vi kommer nu skapa en Airplanes class. Airplanes är ju en specifik typ av fordon. Airplanes har alla egenskaper som ett generellt fordon har, men kanske har vissa unika egenskaper som inte andra specifika typer av fordon har.\n",
    "\n",
    "Vad täcks under fordon?\n",
    "\n",
    "Flygplan, Bilar, Lastbilar, Båtar, Motorcycklar osv...\n",
    "\n",
    "Alla dessa delar vissa egenskapar, såsom exempelvis att alla förmodligen har ett modell-namn, ett märke, ett byggnadsår, minst en motor osv."
   ]
  },
  {
   "cell_type": "markdown",
   "metadata": {},
   "source": [
    "_____\n"
   ]
  },
  {
   "cell_type": "markdown",
   "metadata": {},
   "source": [
    "Nu ska vi bygga vidare på vår Vehicle class, och bygga en child class som vi kallar för Airplanes. \n",
    "\n",
    "Vi kommer se att Airplanes klassen \"ärver\" från Vehicles classen."
   ]
  },
  {
   "cell_type": "code",
   "execution_count": 35,
   "metadata": {},
   "outputs": [],
   "source": [
    "class Airplanes(Vehicles):   # inom parantes markerar vi för Python vilken klass vi vill att vår nya klass\n",
    "                             # ska ärva ifrån\n",
    "\n",
    "    '''This is a class for different types of airplanes.'''\n",
    "\n",
    "    def __init__(self, brand: str, model: str, mode: str, model_year: str, top_air_speed: float):\n",
    "\n",
    "        super().__init__(brand, model, mode, model_year)   # generella parent-klass attribut\n",
    "\n",
    "        self.top_air_speed = top_air_speed                 # klass-unikt attribut\n",
    "\n",
    "\n",
    "    def make_a_wheelbarrow(self):\n",
    "\n",
    "        return f'Omg my passengars are not feeling well...'"
   ]
  },
  {
   "cell_type": "markdown",
   "metadata": {},
   "source": [
    "Vi ser nedan att vår instans ärver attribut från huvudklassen.\n",
    "\n",
    "Detta pga av att super().__ init __() anropas i child-klassen. Då kommer __ init __ från huvudklassen att köras och skapa alla de attributen även i vår child-klass instans."
   ]
  },
  {
   "cell_type": "code",
   "execution_count": 37,
   "metadata": {},
   "outputs": [
    {
     "name": "stdout",
     "output_type": "stream",
     "text": [
      "Airbus\n",
      "A320\n",
      "air\n",
      "2010\n",
      "0.7\n"
     ]
    }
   ],
   "source": [
    "my_toy_airplane = Airplanes('Airbus', 'A320', 'air', '2010', 0.7)\n",
    "\n",
    "print(my_toy_airplane.brand)\n",
    "print(my_toy_airplane.model)\n",
    "print(my_toy_airplane.mode)\n",
    "print(my_toy_airplane.model_year)\n",
    "print(my_toy_airplane.top_air_speed)   # Airplane unikt attribut"
   ]
  },
  {
   "cell_type": "markdown",
   "metadata": {},
   "source": [
    "När vi ärver så ärver vi inte bara attribut, vi ärver även alla metoder!"
   ]
  },
  {
   "cell_type": "code",
   "execution_count": 38,
   "metadata": {},
   "outputs": [
    {
     "name": "stdout",
     "output_type": "stream",
     "text": [
      "This A320 is a air-based vehicle made by Airbus, built 2010.\n",
      "Vroom vroom!\n"
     ]
    }
   ],
   "source": [
    "print(my_toy_airplane.info())\n",
    "print(my_toy_airplane.make_some_noice())"
   ]
  },
  {
   "cell_type": "markdown",
   "metadata": {},
   "source": [
    "Men, vi har också klassunika metoder!"
   ]
  },
  {
   "cell_type": "code",
   "execution_count": 39,
   "metadata": {},
   "outputs": [
    {
     "name": "stdout",
     "output_type": "stream",
     "text": [
      "Omg my passengars are not feeling well...\n"
     ]
    }
   ],
   "source": [
    "print(my_toy_airplane.make_a_wheelbarrow())"
   ]
  },
  {
   "cell_type": "markdown",
   "metadata": {},
   "source": [
    "____"
   ]
  },
  {
   "cell_type": "markdown",
   "metadata": {},
   "source": [
    "Det går att ha fler child-classes!\n",
    "\n",
    "Vi hade ovan att Airplane var en child till Vehicle, men vi skulle enkelt kunna skapa ett till oberoende chil-class till Vechile."
   ]
  },
  {
   "cell_type": "code",
   "execution_count": 40,
   "metadata": {},
   "outputs": [],
   "source": [
    "class Boats(Vehicles):\n",
    "\n",
    "    '''This is a class for different types of boats.'''\n",
    "\n",
    "    def __init__(self, brand: str, model: str, mode: str, model_year: str, boat_type: str):\n",
    "\n",
    "        super().__init__(brand, model, mode, model_year)   # generella parent-klass attribut\n",
    "\n",
    "        self.boat_type = boat_type                         # klass-unikt attribut\n",
    "\n",
    "    def getting_raided(self):\n",
    "\n",
    "        return 'Oh no, Capn Jack Sparrow is here :O'"
   ]
  },
  {
   "cell_type": "code",
   "execution_count": 41,
   "metadata": {},
   "outputs": [
    {
     "name": "stdout",
     "output_type": "stream",
     "text": [
      "Buster\n",
      "XY\n",
      "water\n",
      "2010\n",
      "motorboat\n"
     ]
    }
   ],
   "source": [
    "my_boat = Boats('Buster', 'XY', 'water', '2010', 'motorboat')\n",
    "\n",
    "print(my_boat.brand)\n",
    "print(my_boat.model)\n",
    "print(my_boat.mode)\n",
    "print(my_boat.model_year)\n",
    "print(my_boat.boat_type)     # Boats unikt attribut"
   ]
  },
  {
   "cell_type": "code",
   "execution_count": 42,
   "metadata": {},
   "outputs": [
    {
     "name": "stdout",
     "output_type": "stream",
     "text": [
      "This XY is a water-based vehicle made by Buster, built 2010.\n",
      "Vroom vroom!\n"
     ]
    }
   ],
   "source": [
    "print(my_boat.info())\n",
    "print(my_boat.make_some_noice())"
   ]
  },
  {
   "cell_type": "code",
   "execution_count": 43,
   "metadata": {},
   "outputs": [
    {
     "name": "stdout",
     "output_type": "stream",
     "text": [
      "Oh no, Capn Jack Sparrow is here :O\n"
     ]
    }
   ],
   "source": [
    "print(my_boat.getting_raided())"
   ]
  },
  {
   "cell_type": "markdown",
   "metadata": {},
   "source": [
    "____"
   ]
  },
  {
   "cell_type": "markdown",
   "metadata": {},
   "source": [
    "Obs! En underklass **kan** överskriva både attribut och metoder från sin förälderklass."
   ]
  },
  {
   "cell_type": "code",
   "execution_count": 48,
   "metadata": {},
   "outputs": [],
   "source": [
    "class MotorCycles(Vehicles):\n",
    "\n",
    "    def __init__(self, brand: str, model: str, mode: str, \n",
    "                 model_year: str, motor_size: float, top_speed: float):\n",
    "\n",
    "        super().__init__(brand, model, mode, model_year)\n",
    "\n",
    "        self.motor_size = motor_size\n",
    "        self.top_speed = top_speed\n",
    "\n",
    "    def make_some_noice(self):\n",
    "\n",
    "        return f'Crazy ride, yall!'        "
   ]
  },
  {
   "cell_type": "code",
   "execution_count": 52,
   "metadata": {},
   "outputs": [
    {
     "name": "stdout",
     "output_type": "stream",
     "text": [
      "This Ninja ER6-f is a land-based vehicle made by Kawasaki, built 2012.\n",
      "Crazy ride, yall!\n"
     ]
    }
   ],
   "source": [
    "my_bike = MotorCycles('Kawasaki', 'Ninja ER6-f', 'land', '2012', 0.6, 250)\n",
    "\n",
    "print(my_bike.info())\n",
    "print(my_bike.make_some_noice())        # nu har jag skrivit över huvudklassens metod, med en unik för\n",
    "                                        # denna underklass."
   ]
  },
  {
   "cell_type": "code",
   "execution_count": 51,
   "metadata": {},
   "outputs": [
    {
     "data": {
      "text/plain": [
       "'Vroom vroom!'"
      ]
     },
     "execution_count": 51,
     "metadata": {},
     "output_type": "execute_result"
    }
   ],
   "source": [
    "my_toy_airplane.make_some_noice()"
   ]
  },
  {
   "cell_type": "markdown",
   "metadata": {},
   "source": [
    "____"
   ]
  },
  {
   "cell_type": "markdown",
   "metadata": {},
   "source": [
    "*Uppgift*\n",
    "\n",
    "* Skapa en huvudklass som heter Djur.\n",
    "    \n",
    "    Låt den ha minst 3 attribut. Ni bestämmer helt själva vilka. Skapa även tre metoder, utöver __ init __.\n",
    "\n",
    "\n",
    "* Skapa sedan två separata underklasser som ärver från Djur-klassen. Kalla dessa Fiskar respektive Apor.\n",
    "\n",
    "    Ni bestämmer själva hur ni ska konfigurera underklasserna, men ni ska som MINST uttöka föräldraklassens funktionalitet med en metod och två attribut.\n",
    "    \n"
   ]
  },
  {
   "cell_type": "code",
   "execution_count": 49,
   "metadata": {},
   "outputs": [],
   "source": [
    "\n",
    "\n",
    "class Fungi:\n",
    "\n",
    "    def __init__(self, name, color, smell) -> None:\n",
    "        self.name = name\n",
    "        self.color = color\n",
    "        self.smell = smell\n",
    "    \n",
    "    def substrate(self, substrate):\n",
    "        return f\"{self.name} is growing on {substrate}\"\n",
    "    \n",
    "    def is_edible(self, edible):\n",
    "        if edible:\n",
    "            return f\"{self.name} is delcious\"\n",
    "        else:\n",
    "            return f\"You should not eat {self.name}\"\n",
    "        \n",
    "    def info(self):\n",
    "        return f\"{self.name} is {self.color} and has a {self.smell} smell\"\n",
    "    \n",
    "    def is_advice(self, deadly):\n",
    "        if deadly:\n",
    "            return f\"{self.name} is deadly, don't eat it\"\n",
    "        else:\n",
    "            return f\"{self.name} is not deadly\"\n",
    "        \n",
    "    "
   ]
  },
  {
   "cell_type": "markdown",
   "metadata": {},
   "source": []
  },
  {
   "cell_type": "code",
   "execution_count": 50,
   "metadata": {},
   "outputs": [
    {
     "name": "stdout",
     "output_type": "stream",
     "text": [
      "Amanita virosa is White and has a faint sickly and unpleasant smell\n",
      "You should not eat Amanita virosa\n",
      "Amanita virosa is growing on ground\n",
      "Amanita virosa is deadly, don't eat it\n"
     ]
    }
   ],
   "source": [
    "undefined_fungi = Fungi(\"Amanita virosa\", \"White\", \"faint sickly and unpleasant\")\n",
    "print(undefined_fungi.info())\n",
    "print(undefined_fungi.is_edible(False))\n",
    "print(undefined_fungi.substrate(\"ground\"))\n",
    "print(undefined_fungi.is_advice(True))"
   ]
  },
  {
   "cell_type": "code",
   "execution_count": 44,
   "metadata": {},
   "outputs": [],
   "source": [
    "class Agaricus(Fungi):\n",
    "\n",
    "    def __init__(self, name, color, smell, envoirement, is_bruising) -> None:\n",
    "        super().__init__(name, color, smell)\n",
    "        self.envoirement = envoirement\n",
    "        self.is_bruising = is_bruising\n",
    "\n",
    "    def bruise_color(self, color):\n",
    "        if color.lower() == \"yellow\":\n",
    "            return f\"{self.name} is one of the yellowing Agaricus and you should be careful\"\n",
    "        if color.lower() == \"red\":\n",
    "            return f\"{self.name} is one of the edible Agaricus\"\n",
    "        else: \n",
    "            return f\"{self.name} in not one of the poisonous species\"\n",
    "    \n",
    "    def changes_color(self, browns, color):\n",
    "        if browns and color.lower() == \"yellow\":\n",
    "            return f\"Your mushroom is one of the Agaricus 'xanthodermus group'\"\n",
    "        else:\n",
    "            return \"It's not one of the Agaricus 'xanthodermus group' \"\n",
    "        \n",
    "    def info(self):\n",
    "        bruising_text = \"does bruise\" if self.is_bruising else \"doesn't bruise\"\n",
    "        return f\"{self.name} is {self.color} and has a {self.smell} smell. Found in the {self.envoirement} and {bruising_text}.\"\n",
    "    "
   ]
  },
  {
   "cell_type": "code",
   "execution_count": 45,
   "metadata": {},
   "outputs": [
    {
     "name": "stdout",
     "output_type": "stream",
     "text": [
      "Agaricus bisporus is White and has a pleasent smell. Found in the garden and does bruise.\n",
      "Agaricus bisporus is not deadly\n",
      "Agaricus bisporus is delcious\n",
      "Your mushroom is one of the Agaricus 'xanthodermus group'\n",
      "Agaricus bisporus is one of the edible Agaricus\n"
     ]
    }
   ],
   "source": [
    "my_agaricus = Agaricus(\"Agaricus bisporus\", \"White\", \"pleasent\", \"garden\", True)\n",
    "print(my_agaricus.info())\n",
    "print(my_agaricus.is_deadly(False))\n",
    "print(my_agaricus.is_edible(True))\n",
    "print(my_agaricus.changes_color(True,\"yellow\"))\n",
    "print(my_agaricus.bruise_color(\"red\"))"
   ]
  },
  {
   "cell_type": "code",
   "execution_count": 47,
   "metadata": {},
   "outputs": [],
   "source": [
    "class Amanita(Fungi):\n",
    "    def __init__(self, name, color, smell, annulus, warts) -> None:\n",
    "        super().__init__(name, color, smell)\n",
    "        self.annulus = annulus\n",
    "        self.warts = warts\n",
    "    \n",
    "    def has_a_volva(self, volva):\n",
    "        if volva:\n",
    "            return f\"{self.name} is in the Amanita sect. Phalloideae group\"\n",
    "        else:\n",
    "            return f\"{self.name} is in the Amanita sect. Vaginatae group\"\n",
    "    \n",
    "    def generate_nickname(self):\n",
    "        base_nickname = \"The\"\n",
    "        \n",
    "        if \"red\" in self.color.lower():\n",
    "            base_nickname += \" Fiery\"\n",
    "        elif \"white\" in self.color.lower():\n",
    "            base_nickname += \" Snowy\"\n",
    "        elif \"yellow\" in self.color.lower():\n",
    "            base_nickname += \" Golden\"\n",
    "        else:\n",
    "            base_nickname += f\" {self.color.capitalize()}\"\n",
    "\n",
    "        if self.warts:\n",
    "            base_nickname += \" Warted\"\n",
    "        else:\n",
    "            base_nickname += \" Smooth-Capped\"\n",
    "\n",
    "        if self.annulus:\n",
    "            base_nickname += \" Ring-Bearer\"\n",
    "        else:\n",
    "            base_nickname += \" Wanderer\"\n",
    "\n",
    "        return f\"{self.name}'s nickname is '{base_nickname}'\""
   ]
  },
  {
   "cell_type": "code",
   "execution_count": 48,
   "metadata": {},
   "outputs": [
    {
     "name": "stdout",
     "output_type": "stream",
     "text": [
      "Amanita muscaria's nickname is 'The Fiery Warted Ring-Bearer'\n"
     ]
    }
   ],
   "source": [
    "amanita_muscaria = Amanita(\"Amanita muscaria\", \"red\", \"earthy\", True, True)\n",
    "print(amanita_muscaria.generate_nickname())"
   ]
  }
 ],
 "metadata": {
  "kernelspec": {
   "display_name": "introduktion",
   "language": "python",
   "name": "python3"
  },
  "language_info": {
   "codemirror_mode": {
    "name": "ipython",
    "version": 3
   },
   "file_extension": ".py",
   "mimetype": "text/x-python",
   "name": "python",
   "nbconvert_exporter": "python",
   "pygments_lexer": "ipython3",
   "version": "3.12.2"
  }
 },
 "nbformat": 4,
 "nbformat_minor": 2
}
