{
 "cells": [
  {
   "cell_type": "markdown",
   "metadata": {},
   "source": [
    "# Instructions\n",
    "\n",
    "Below you will a snippet of code that may contain bad coding practices and/or logical or other types of Errors. \n",
    "\n",
    "Your tasks are as follows:\n",
    "\n",
    "    a) Read the code carefully and try to understand what it does, line-by-line.\n",
    "\n",
    "    b) Identify any potential errors in the code. Note, don't change the original code snippet! \n",
    "    Instead, add suitable comments adjacent to where any potential sources of error are found.\n",
    "\n",
    "    c) In a new cell, write a corrected version of the code. Try to make it so that the code\n",
    "    works without changing the given input. You could e.g., try adding some Try/Except blocks in the functions.\n",
    "\n",
    "    d) Prepare to present to to your peers. You will show your original code and explain what the function does and\n",
    "    what errors you've found. Then you will show your corrected code and explain how you've corrected the errors.\n",
    "\n",
    "*When discussing with your group, they are allowed to chip in and help out, if there are any unresolved issues! This is teamwork y'all.*"
   ]
  },
  {
   "cell_type": "markdown",
   "metadata": {},
   "source": [
    "**The snippet of code**\n",
    "\n",
    "You can add comments to this code, but don't change the actual code."
   ]
  },
  {
   "cell_type": "code",
   "execution_count": 8,
   "metadata": {},
   "outputs": [],
   "source": [
    "def convert_temps(temp_data): #Bad practice of the function name and the argument\n",
    "    \"\"\"\n",
    "    This function takes a list of tuples, where each tuple contains a city name (string)\n",
    "    and a temperature in Celsius (float or int). It converts the temperature to Fahrenheit \n",
    "    and returns a dictionary with the city name as the key and the converted temperature as the value.\n",
    "    \"\"\"\n",
    "\n",
    "    converted = {city: (temp_data * 9/5) + 32 for city in temp_data} #Bad practice of the variable names and the value is missing plus should be degress that is in the convertion\n",
    "    \n",
    "    \n",
    "    return converted   #Bad practice of the variable name"
   ]
  },
  {
   "cell_type": "code",
   "execution_count": null,
   "metadata": {},
   "outputs": [],
   "source": [
    "city_temperatures = [(\"New York\", 22), (\"Los Angeles\", 28), (\"London\", 18), (\"Tokyo\", 30)]  \n",
    "\n",
    "converted_temperatures = convert_temps(city_temperatures)\n",
    "print(\"Converted Temperatures (Fahrenheit):\", converted_temperatures)"
   ]
  },
  {
   "cell_type": "markdown",
   "metadata": {},
   "source": [
    "**The corrected version of the code**\n",
    "\n",
    "Below you can write your corrected version of the code, that idealy also can handle the given input."
   ]
  },
  {
   "cell_type": "markdown",
   "metadata": {},
   "source": []
  },
  {
   "cell_type": "code",
   "execution_count": 14,
   "metadata": {},
   "outputs": [],
   "source": [
    "\n",
    "def convert_from_celsius_to_fahrenheit(city_and_temperatures : list[tuple[str,float]]) -> dict: \n",
    "    \"\"\"\n",
    "    This function takes a list of tuples, where each tuple contains a city name (string)\n",
    "    and a temperature in Celsius (float or int). It converts the temperature to Fahrenheit \n",
    "    and returns a dictionary with the city name as the key and the converted temperature as the value.\n",
    "    \"\"\"\n",
    "\n",
    "    converted_to_fahrenheit = {city: (degrees * 9/5) + 32 for city, degrees in city_and_temperatures}\n",
    "    return converted_to_fahrenheit"
   ]
  },
  {
   "cell_type": "code",
   "execution_count": 13,
   "metadata": {},
   "outputs": [
    {
     "name": "stdout",
     "output_type": "stream",
     "text": [
      "Converted Temperatures (Fahrenheit): {'New York': 71.6, 'Los Angeles': 82.4, 'London': 64.4, 'Tokyo': 86.0}\n"
     ]
    }
   ],
   "source": [
    "city_temperatures = [(\"New York\", 22), (\"Los Angeles\", 28), (\"London\", 18), (\"Tokyo\", 30)]  \n",
    "\n",
    "converted_temperatures = convert_from_celsius_to_fahrenheit(city_temperatures) \n",
    "print(\"Converted Temperatures (Fahrenheit):\", converted_temperatures)"
   ]
  }
 ],
 "metadata": {
  "kernelspec": {
   "display_name": "introduktion",
   "language": "python",
   "name": "python3"
  },
  "language_info": {
   "codemirror_mode": {
    "name": "ipython",
    "version": 3
   },
   "file_extension": ".py",
   "mimetype": "text/x-python",
   "name": "python",
   "nbconvert_exporter": "python",
   "pygments_lexer": "ipython3",
   "version": "3.12.2"
  }
 },
 "nbformat": 4,
 "nbformat_minor": 2
}
