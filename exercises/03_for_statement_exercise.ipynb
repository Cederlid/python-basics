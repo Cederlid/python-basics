{
  "cells": [
    {
      "cell_type": "markdown",
      "metadata": {
        "colab_type": "text",
        "id": "view-in-github"
      },
      "source": [
        "<a href=\"https://colab.research.google.com/github/aleylani/Python-AI24/blob/main/exercises/03_for_statement_exercise.ipynb\" target=\"_parent\"><img src=\"https://colab.research.google.com/assets/colab-badge.svg\" alt=\"Open In Colab\"/></a>"
      ]
    },
    {
      "cell_type": "markdown",
      "metadata": {
        "id": "P9bSTaK7PmVT"
      },
      "source": [
        "# for statement exercises\n",
        "\n",
        "---\n",
        "These are introductory exercises in Python with focus in **for** statement.\n",
        "\n",
        "<p class = \"alert alert-info\" role=\"alert\"><b>Remember</b> to use <b>descriptive variable names</b> in order to get readable code </p>\n",
        "\n",
        "<p class = \"alert alert-info\" role=\"alert\"><b>Remember</b> to format your answers in a neat way using <b>f-strings</b>\n",
        "\n",
        "<p class = \"alert alert-info\" role=\"alert\"><b>Remember</b> to format your input questions in a pedagogical way to guide the user\n",
        "\n",
        "The number of stars (\\*), (\\*\\*), (\\*\\*\\*) denotes the difficulty level of the task\n",
        "\n",
        "---"
      ]
    },
    {
      "cell_type": "markdown",
      "metadata": {
        "id": "9gRZO9cxPmVV"
      },
      "source": [
        "## 1. Count numbers (*)\n",
        "\n",
        "Use a **for** statement to count from:\n",
        "\n",
        "&nbsp; a) &nbsp; -10 to 10 with one increment (*)\n",
        "\n",
        "&nbsp; b) &nbsp; -10 to 10 with two increment (*)\n",
        "\n",
        "<details>\n",
        "\n",
        "<summary>Answer </summary>\n",
        "\n",
        "```\n",
        "a) -10 -9 -8 -7 -6 -5 -4 -3 -2 -1 0 1 2 3 4 5 6 7 8 9 10\n",
        "\n",
        "b) -10  -8  -6  -4  -2  0  2  4  6  8  10\n",
        "```\n",
        "\n",
        "</details>\n",
        "\n"
      ]
    },
    {
      "cell_type": "code",
      "execution_count": 61,
      "metadata": {},
      "outputs": [
        {
          "name": "stdout",
          "output_type": "stream",
          "text": [
            "-10 -9 -8 -7 -6 -5 -4 -3 -2 -1 0 1 2 3 4 5 6 7 8 9 10 "
          ]
        }
      ],
      "source": [
        "# a\n",
        "for number in range(-10, 11):\n",
        "    print(number, end = \" \")"
      ]
    },
    {
      "cell_type": "code",
      "execution_count": 62,
      "metadata": {},
      "outputs": [
        {
          "name": "stdout",
          "output_type": "stream",
          "text": [
            "-10 -8 -6 -4 -2 0 2 4 6 8 10 "
          ]
        }
      ],
      "source": [
        "# b\n",
        "for number2 in range(-10, 11, 2):\n",
        "    print(number2, end = \" \")"
      ]
    },
    {
      "cell_type": "markdown",
      "metadata": {
        "id": "t-3FxnC6PmVV"
      },
      "source": [
        "---\n",
        "## 2. Arithmetic sum (*)\n",
        "Use a **for** statement to compute the following sums:\n",
        "\n",
        "&nbsp; a) &nbsp; $\\text{sum} = 1 + 2 + \\ldots + 99+ 100$ (*)\n",
        "\n",
        "&nbsp; b) &nbsp; $\\text{sum} = 1 + 3 + 5 + \\ldots + 97 + 99$ (*)\n",
        "\n",
        "<details>\n",
        "\n",
        "<summary>Answer </summary>\n",
        "\n",
        "```\n",
        "a) 1 + 2 + ... + 99 + 100 = 5050\n",
        "\n",
        "b) 1 + 3 + 5 +...+ 97 + 99 = 2500\n",
        "```\n",
        "\n",
        "</details>\n"
      ]
    },
    {
      "cell_type": "code",
      "execution_count": 69,
      "metadata": {},
      "outputs": [
        {
          "name": "stdout",
          "output_type": "stream",
          "text": [
            "5050\n"
          ]
        }
      ],
      "source": [
        "# a\n",
        "total_sum = 0\n",
        "\n",
        "for i in range(1,101):\n",
        "    total_sum += i\n",
        "\n",
        "print(total_sum)"
      ]
    },
    {
      "cell_type": "code",
      "execution_count": 71,
      "metadata": {},
      "outputs": [
        {
          "name": "stdout",
          "output_type": "stream",
          "text": [
            "2500\n"
          ]
        }
      ],
      "source": [
        "# b\n",
        "\n",
        "total_sum2 = 0\n",
        "\n",
        "for i in range(1,100,2):\n",
        "    total_sum2 += i\n",
        "\n",
        "print(total_sum2)"
      ]
    },
    {
      "cell_type": "markdown",
      "metadata": {
        "id": "vUheZeUMPmVV"
      },
      "source": [
        "---\n",
        "## 3. Multiplication table (*)\n",
        "Use **for** statement(s) to:\n",
        "\n",
        "&nbsp; a) &nbsp; print out the 6th multiplication table from 0 to 10 (*)\n",
        "\n",
        "&nbsp; b) &nbsp; let the user input the **table**, **start** and **end** of the table. (*)\n",
        "\n",
        "&nbsp; c) &nbsp; print out a full multiplication table from 0 to 10. (**)\n",
        "\n",
        "\n",
        "<details>\n",
        "\n",
        "<summary>Hint</summary>\n",
        "\n",
        "c) Use nested for-loops, which means a for-loop in a for-loop. To format the table nicely, use **f-string**:\n",
        "\n",
        "```python\n",
        "print(f\"{number}\", end = \"\")\n",
        "```\n",
        "\n",
        "\n",
        "</details>\n",
        "\n",
        "\n",
        "<details>\n",
        "\n",
        "<summary>Answer </summary>\n",
        "\n",
        "a)\n",
        "```\n",
        "0 6 12 18 24 30 36 42 48 54 60\n",
        "```\n",
        "\n",
        "b) e.g.\n",
        "\n",
        "```\n",
        "Which table are you interested in? 5\n",
        "Specify start of table: 5\n",
        "Specify end of table: 12\n",
        "\n",
        "Your 5th multiplication table from 5 to 12: 25 30 35 40 45 50 55 60\n",
        "```\n",
        "\n",
        "c)\n",
        "\n",
        "```\n",
        "   0   0   0   0   0   0   0   0   0   0   0\n",
        "   0   1   2   3   4   5   6   7   8   9  10\n",
        "   0   2   4   6   8  10  12  14  16  18  20\n",
        "   0   3   6   9  12  15  18  21  24  27  30\n",
        "   0   4   8  12  16  20  24  28  32  36  40\n",
        "   0   5  10  15  20  25  30  35  40  45  50\n",
        "   0   6  12  18  24  30  36  42  48  54  60\n",
        "   0   7  14  21  28  35  42  49  56  63  70\n",
        "   0   8  16  24  32  40  48  56  64  72  80\n",
        "   0   9  18  27  36  45  54  63  72  81  90\n",
        "   0  10  20  30  40  50  60  70  80  90 100\n",
        "```\n",
        "\n",
        "</details>"
      ]
    },
    {
      "cell_type": "code",
      "execution_count": 73,
      "metadata": {},
      "outputs": [
        {
          "name": "stdout",
          "output_type": "stream",
          "text": [
            "0 6 12 18 24 30 36 42 48 54 60 "
          ]
        }
      ],
      "source": [
        "# a\n",
        "\n",
        "table = 6\n",
        "product = 0\n",
        "for i in range (0,11):\n",
        "    product = i * table\n",
        "    print(product, end = \" \")"
      ]
    },
    {
      "cell_type": "code",
      "execution_count": 104,
      "metadata": {},
      "outputs": [
        {
          "name": "stdout",
          "output_type": "stream",
          "text": [
            "5 10 15 20 25 "
          ]
        }
      ],
      "source": [
        "# b\n",
        "\n",
        "user_table = int(input(\"Choose a multiplication table: 