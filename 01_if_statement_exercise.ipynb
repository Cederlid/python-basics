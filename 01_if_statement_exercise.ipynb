{
  "cells": [
    {
      "cell_type": "markdown",
      "metadata": {
        "colab_type": "text",
        "id": "view-in-github"
      },
      "source": [
        "<a href=\"https://colab.research.google.com/github/aleylani/Python-AI24/blob/main/exercises/01_if_statement_exercise.ipynb\" target=\"_parent\"><img src=\"https://colab.research.google.com/assets/colab-badge.svg\" alt=\"Open In Colab\"/></a>"
      ]
    },
    {
      "cell_type": "markdown",
      "metadata": {
        "id": "V_XJ764PQBl5"
      },
      "source": [
        "# if statements exercises\n",
        "\n",
        "---\n",
        "These are introductory exercises in Python with focus in **if** statement.\n",
        "\n",
        "<p class = \"alert alert-info\" role=\"alert\"><b>Remember</b> to use <b>descriptive variable names</b> in order to get readable code </p>\n",
        "\n",
        "<p class = \"alert alert-info\" role=\"alert\"><b>Remember</b> to format your answers in a neat way using <b>f-strings</b>\n",
        "\n",
        "<p class = \"alert alert-info\" role=\"alert\"><b>Remember</b> to format your input questions in a pedagogical way to guide the user\n",
        "\n",
        "The number of stars (\\*), (\\*\\*), (\\*\\*\\*) denotes the difficulty level of the task\n",
        "\n",
        "---"
      ]
    },
    {
      "cell_type": "markdown",
      "metadata": {
        "id": "aBBTSK3GQBl6"
      },
      "source": [
        "## 1. Check sign (*)\n",
        "\n",
        "Ask the user to input a number and check if this number is **positive**, **negative** or **zero** and print it out."
      ]
    },
    {
      "cell_type": "code",
      "execution_count": 1,
      "metadata": {},
      "outputs": [
        {
          "name": "stdout",
          "output_type": "stream",
          "text": [
            "Numret är positvt\n"
          ]
        }
      ],
      "source": [
        "user_input = int(input(\"Skriv in ett heltal\"))\n",
        "if user_input > 0:\n",
        "    print(\"Numret är positvt\")\n",
        "elif user_input == 0:\n",
        "    print(\"Numret är noll\")\n",
        "else:\n",
        "    print(\"Numret är negativt\")"
      ]
    },
    {
      "cell_type": "markdown",
      "metadata": {
        "id": "FEwYSDEWQBl7"
      },
      "source": [
        "---\n",
        "## 2. Smallest (*)\n",
        "Ask the user to input two numbers and check which one is the smallest and print it out.   "
      ]
    },
    {
      "cell_type": "code",
      "execution_count": 5,
      "metadata": {},
      "outputs": [
        {
          "name": "stdout",
          "output_type": "stream",
          "text": [
            "Det minsta heltalet är 2\n"
          ]
        }
      ],
      "source": [
        "user_number_1 = int(input(\"Skriv ett heltal\"))\n",
        "user_number_2 = int(input(\"Skriv ett annat heltal\"))\n",
        "\n",
        "if user_number_1 < user_number_2:\n",
        "    print(f\"Det minsta heltalet är {user_number_1}\")\n",
        "elif user_number_1 > user_number_2:\n",
        "    print(f\"Det minsta heltalet är {user_number_2}\")\n",
        "else:\n",
        "    print(\"Talen är lika stora\")\n"
      ]
    },
    {
      "cell_type": "markdown",
      "metadata": {
        "id": "57poR3jBQBl7"
      },
      "source": [
        "---\n",
        "## 3. Right angle (*)\n",
        "\n",
        "Ask the user to input three angles and check if the triangle has a right angle. Your code should make sure that all three angles are valid and make up a triangle.\n",
        "\n",
        "<img align=\"left\" src=\"../assets/triangle_angles.png\" width=\"200\"/>"
      ]
    },
    {
      "cell_type": "code",
      "execution_count": 4,
      "metadata": {},
      "outputs": [
        {
          "name": "stdout",
          "output_type": "stream",
          "text": [
            "You have a triangle but no right angle\n"
          ]
        }
      ],
      "source": [
        "user_angle_1 = int(input(\"Type in first angle\"))\n",
        "user_angle_2 = int(input(\"Type in second angle\"))\n",
        "user_angle_3 = int(input(\"Type in third angle\"))\n",
        "angle_sum = user_angle_1 + user_angle_2 + user_angle_3\n",
        "\n",
        "if angle_sum == 180:\n",
        "    if user_angle_1 == 90 or user_angle_2 == 90 or user_angle_3 == 90:\n",
        "        print(\"Congrats you have a triangle\")\n",
        "    else:\n",
        "         print(\"You have a triangle but no right angle\")\n",
        "else:\n",
        "        print(\"You don't have a triangle\")\n"
      ]
    },
    {
      "cell_type": "markdown",
      "metadata": {
        "id": "nRxIy93lQBl7"
      },
      "source": [
        "----\n",
        "## 4. Medicine (*)\n",
        "\n",
        "The information in the following table is stated in a medicine package. Also it is stated that for children weight is more important than age.\n",
        "\n",
        "<table align=\"left\">\n",
        "<thead>\n",
        "    <tr>\n",
        "        <th></th>\n",
        "        <th>Age</th>\n",
        "        <th>Number of pills</th>\n",
        "    </tr>\n",
        "</thead>\n",
        "\n",
        "<tbody>\n",
        "  <tr>\n",
        "    <td>Adults & adolescent <br>over 40 kg</td>\n",
        "    <td>over 12 years</td>\n",
        "    <td>1-2</td>\n",
        "  </tr>\n",
        "\n",
        "  <tr>\n",
        "    <td>Children 26-40 kg</td>\n",
        "    <td>7-12 years</td>\n",
        "    <td>1/2-1</td>\n",
        "  </tr>\n",
        "\n",
        "  <tr>\n",
        "    <td>Children 15-25 kg</td>\n",
        "    <td>3-7 years</td>\n",
        "    <td>1/2</td>\n",
        "  </tr>\n",
        "</tbody>\n",
        "</table>"
      ]
    },
    {
      "cell_type": "markdown",
      "metadata": {
        "id": "EVUjoVVzQBl7"
      },
      "source": [
        "Let the user input an **age** and a **weight**, the program should recommend the number of pills for the user."
      ]
    },
    {
      "cell_type": "code",
      "execution_count": 3,
      "metadata": {},
      "outputs": [
        {
          "name": "stdout",
          "output_type": "stream",
          "text": [
            "You can't have any pills\n"
          ]
        }
      ],
      "source": [
        "user_age = int(input(\"Your age: \"))\n",
        "user_weight = int(input(\"Your weight: \"))\n",
        "\n",
        "if 3 <= user_age <= 7 and 15 <= user_weight <= 25:\n",
        "    print(\"The number of pills is 1/2\")\n",
        "elif 7 <= user_age <= 12 and 26 <= user_weight <= 40:\n",
        "    print(\"The number of pills is 1/2 to 1\")\n",
        "elif user_age >= 12 and user_weight >= 40:\n",
        "    print(\"The number of pills is 1 to 2\")\n",
        "else:\n",
        "    print(\"You can't have any pills\")\n"
      ]
    },
    {
      "cell_type": "markdown",
      "metadata": {
        "id": "yUEv0BwKQBl8"
      },
      "source": [
        "---\n",
        "## 5. Divisible (*)\n",
        "Let the user input a number. Check if the number is\n",
        "<ol type=\"a\">\n",
        "  <li>even or odd</li>\n",
        "  <li>is divisible by 5</li>\n",
        "  <li>is divisble by 5 and odd</li>\n",
        "</ol>"
      ]
    },
    {
      "cell_type": "code",
      "execution_count": 10,
      "metadata": {},
      "outputs": [
        {
          "name": "stdout",
          "output_type": "stream",
          "text": [
            "The number is odd\n"
          ]
        }
      ],
      "source": [
        "user_num = float(input(\"Give me a number\"))\n",
        "\n",
        "if user_num % 2 == 0:\n",
        "    print(\"The number is even\")\n",
        "    if user_num % 5 == 0 and user_num != 0:\n",
        "     print(\"The number is divisible by 5\")\n",
        "\n",
        "elif user_num % 2 == 1:\n",
        "    print(\"The number is odd\")\n",
        "    if user_num % 5 == 0:\n",
        "     print(\"The number is divisible by 5\")\n",
        "else:\n",
        "    print(\"The number is not divisible by 5\")\n"
      ]
    },
    {
      "cell_type": "markdown",
      "metadata": {
        "id": "1loU66d0QBl8"
      },
      "source": [
        "---\n",
        "## 6. Luggage size (*)\n",
        "\n",
        "The maximum allowed luggage size for boarding an airplane is:\n",
        "- weight: 8kg\n",
        "- dimensions: 55x40x23cm (length x width x height)\n",
        "\n",
        "Let the user input weight, length, width and height of the luggage. The program should check if the luggage is allowed or not."
      ]
    },
    {
      "cell_type": "code",
      "execution_count": 12,
      "metadata": {},
      "outputs": [
        {
          "name": "stdout",
          "output_type": "stream",
          "text": [
            "Not allowed luggage\n"
          ]
        }
      ],
      "source": [
        "luggage_weight = int(input(\"Input luggage weight\"))\n",
        "luggage_length = int(input(\"Input luggage length\"))\n",
        "luggage_width = int(input(\"Input luggage height\"))\n",
        "luggage_height = int(input(\"Input luggage height\"))\n",
        "\n",
        "if luggage_weight <= 8 and luggage_length <= 55 and luggage_width <= 40 and luggage_height <= 23:\n",
        "    print(\"allowed luggage\") \n",
        "else:\n",
        "    print(\"Not allowed luggage\")"
      ]
    }
  ],
  "metadata": {
    "colab": {
      "include_colab_link": true,
      "provenance": []
    },
    "kernelspec": {
      "display_name": "Python 3 (ipykernel)",
      "language": "python",
      "name": "python3"
    },
    "language_info": {
      "codemirror_mode": {
        "name": "ipython",
        "version": 3
      },
      "file_extension": ".py",
      "mimetype": "text/x-python",
      "name": "python",
      "nbconvert_exporter": "python",
      "pygments_lexer": "ipython3",
      "version": "3.12.4"
    },
    "vscode": {
      "interpreter": {
        "hash": "0da836a34428266995a795f1e1e27b816fa1c02f148d9728b3fbbbc5459afca6"
      }
    }
  },
  "nbformat": 4,
  "nbformat_minor": 0
}
