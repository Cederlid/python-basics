{
  "cells": [
    {
      "cell_type": "markdown",
      "metadata": {
        "colab_type": "text",
        "id": "view-in-github"
      },
      "source": [
        "<a href=\"https://colab.research.google.com/github/aleylani/Python-AI24/blob/main/exercises/03_for_statement_exercise.ipynb\" target=\"_parent\"><img src=\"https://colab.research.google.com/assets/colab-badge.svg\" alt=\"Open In Colab\"/></a>"
      ]
    },
    {
      "cell_type": "markdown",
      "metadata": {
        "id": "P9bSTaK7PmVT"
      },
      "source": [
        "# for statement exercises\n",
        "\n",
        "---\n",
        "These are introductory exercises in Python with focus in **for** statement.\n",
        "\n",
        "<p class = \"alert alert-info\" role=\"alert\"><b>Remember</b> to use <b>descriptive variable names</b> in order to get readable code </p>\n",
        "\n",
        "<p class = \"alert alert-info\" role=\"alert\"><b>Remember</b> to format your answers in a neat way using <b>f-strings</b>\n",
        "\n",
        "<p class = \"alert alert-info\" role=\"alert\"><b>Remember</b> to format your input questions in a pedagogical way to guide the user\n",
        "\n",
        "The number of stars (\\*), (\\*\\*), (\\*\\*\\*) denotes the difficulty level of the task\n",
        "\n",
        "---"
      ]
    },
    {
      "cell_type": "markdown",
      "metadata": {
        "id": "9gRZO9cxPmVV"
      },
      "source": [
        "## 1. Count numbers (*)\n",
        "\n",
        "Use a **for** statement to count from:\n",
        "\n",
        "&nbsp; a) &nbsp; -10 to 10 with one increment (*)\n",
        "\n",
        "&nbsp; b) &nbsp; -10 to 10 with two increment (*)\n",
        "\n",
        "<details>\n",
        "\n",
        "<summary>Answer </summary>\n",
        "\n",
        "```\n",
        "a) -10 -9 -8 -7 -6 -5 -4 -3 -2 -1 0 1 2 3 4 5 6 7 8 9 10\n",
        "\n",
        "b) -10  -8  -6  -4  -2  0  2  4  6  8  10\n",
        "```\n",
        "\n",
        "</details>\n",
        "\n"
      ]
    },
    {
      "cell_type": "code",
      "execution_count": 61,
      "metadata": {},
      "outputs": [
        {
          "name": "stdout",
          "output_type": "stream",
          "text": [
            "-10 -9 -8 -7 -6 -5 -4 -3 -2 -1 0 1 2 3 4 5 6 7 8 9 10 "
          ]
        }
      ],
      "source": [
        "# a\n",
        "for number in range(-10, 11):\n",
        "    print(number, end = \" \")"
      ]
    },
    {
      "cell_type": "code",
      "execution_count": 62,
      "metadata": {},
      "outputs": [
        {
          "name": "stdout",
          "output_type": "stream",
          "text": [
            "-10 -8 -6 -4 -2 0 2 4 6 8 10 "
          ]
        }
      ],
      "source": [
        "# b\n",
        "for number2 in range(-10, 11, 2):\n",
        "    print(number2, end = \" \")"
      ]
    },
    {
      "cell_type": "markdown",
      "metadata": {
        "id": "t-3FxnC6PmVV"
      },
      "source": [
        "---\n",
        "## 2. Arithmetic sum (*)\n",
        "Use a **for** statement to compute the following sums:\n",
        "\n",
        "&nbsp; a) &nbsp; $\\text{sum} = 1 + 2 + \\ldots + 99+ 100$ (*)\n",
        "\n",
        "&nbsp; b) &nbsp; $\\text{sum} = 1 + 3 + 5 + \\ldots + 97 + 99$ (*)\n",
        "\n",
        "<details>\n",
        "\n",
        "<summary>Answer </summary>\n",
        "\n",
        "```\n",
        "a) 1 + 2 + ... + 99 + 100 = 5050\n",
        "\n",
        "b) 1 + 3 + 5 +...+ 97 + 99 = 2500\n",
        "```\n",
        "\n",
        "</details>\n"
      ]
    },
    {
      "cell_type": "code",
      "execution_count": 69,
      "metadata": {},
      "outputs": [
        {
          "name": "stdout",
          "output_type": "stream",
          "text": [
            "5050\n"
          ]
        }
      ],
      "source": [
        "# a\n",
        "total_sum = 0\n",
        "\n",
        "for i in range(1,101):\n",
        "    total_sum += i\n",
        "\n",
        "print(total_sum)"
      ]
    },
    {
      "cell_type": "code",
      "execution_count": 71,
      "metadata": {},
      "outputs": [
        {
          "name": "stdout",
          "output_type": "stream",
          "text": [
            "2500\n"
          ]
        }
      ],
      "source": [
        "# b\n",
        "\n",
        "total_sum2 = 0\n",
        "\n",
        "for i in range(1,100,2):\n",
        "    total_sum2 += i\n",
        "\n",
        "print(total_sum2)"
      ]
    },
    {
      "cell_type": "markdown",
      "metadata": {
        "id": "vUheZeUMPmVV"
      },
      "source": [
        "---\n",
        "## 3. Multiplication table (*)\n",
        "Use **for** statement(s) to:\n",
        "\n",
        "&nbsp; a) &nbsp; print out the 6th multiplication table from 0 to 10 (*)\n",
        "\n",
        "&nbsp; b) &nbsp; let the user input the **table**, **start** and **end** of the table. (*)\n",
        "\n",
        "&nbsp; c) &nbsp; print out a full multiplication table from 0 to 10. (**)\n",
        "\n",
        "\n",
        "<details>\n",
        "\n",
        "<summary>Hint</summary>\n",
        "\n",
        "c) Use nested for-loops, which means a for-loop in a for-loop. To format the table nicely, use **f-string**:\n",
        "\n",
        "```python\n",
        "print(f\"{number}\", end = \"\")\n",
        "```\n",
        "\n",
        "\n",
        "</details>\n",
        "\n",
        "\n",
        "<details>\n",
        "\n",
        "<summary>Answer </summary>\n",
        "\n",
        "a)\n",
        "```\n",
        "0 6 12 18 24 30 36 42 48 54 60\n",
        "```\n",
        "\n",
        "b) e.g.\n",
        "\n",
        "```\n",
        "Which table are you interested in? 5\n",
        "Specify start of table: 5\n",
        "Specify end of table: 12\n",
        "\n",
        "Your 5th multiplication table from 5 to 12: 25 30 35 40 45 50 55 60\n",
        "```\n",
        "\n",
        "c)\n",
        "\n",
        "```\n",
        "   0   0   0   0   0   0   0   0   0   0   0\n",
        "   0   1   2   3   4   5   6   7   8   9  10\n",
        "   0   2   4   6   8  10  12  14  16  18  20\n",
        "   0   3   6   9  12  15  18  21  24  27  30\n",
        "   0   4   8  12  16  20  24  28  32  36  40\n",
        "   0   5  10  15  20  25  30  35  40  45  50\n",
        "   0   6  12  18  24  30  36  42  48  54  60\n",
        "   0   7  14  21  28  35  42  49  56  63  70\n",
        "   0   8  16  24  32  40  48  56  64  72  80\n",
        "   0   9  18  27  36  45  54  63  72  81  90\n",
        "   0  10  20  30  40  50  60  70  80  90 100\n",
        "```\n",
        "\n",
        "</details>"
      ]
    },
    {
      "cell_type": "code",
      "execution_count": 73,
      "metadata": {},
      "outputs": [
        {
          "name": "stdout",
          "output_type": "stream",
          "text": [
            "0 6 12 18 24 30 36 42 48 54 60 "
          ]
        }
      ],
      "source": [
        "# a\n",
        "\n",
        "table = 6\n",
        "product = 0\n",
        "for i in range (0,11):\n",
        "    product = i * table\n",
        "    print(product, end = \" \")"
      ]
    },
    {
      "cell_type": "code",
      "execution_count": 104,
      "metadata": {},
      "outputs": [
        {
          "name": "stdout",
          "output_type": "stream",
          "text": [
            "5 10 15 20 25 "
          ]
        }
      ],
      "source": [
        "# b\n",
        "\n",
        "user_table = int(input(\"Choose a multiplication table: \"))\n",
        "start = int(input(\"What number do you want to start the table with?\"))\n",
        "end = int(input(\"What number do you want the table to end with?\"))\n",
        "user_product = 0\n",
        "\n",
        "for i in range(start, end + 1):\n",
        "    user_product = i * user_table\n",
        "    print(user_product, end = \" \")"
      ]
    },
    {
      "cell_type": "code",
      "execution_count": 98,
      "metadata": {},
      "outputs": [
        {
          "name": "stdout",
          "output_type": "stream",
          "text": [
            "   1    2    3    4    5    6    7    8    9   10 \n",
            "   2    4    6    8   10   12   14   16   18   20 \n",
            "   3    6    9   12   15   18   21   24   27   30 \n",
            "   4    8   12   16   20   24   28   32   36   40 \n",
            "   5   10   15   20   25   30   35   40   45   50 \n",
            "   6   12   18   24   30   36   42   48   54   60 \n",
            "   7   14   21   28   35   42   49   56   63   70 \n",
            "   8   16   24   32   40   48   56   64   72   80 \n",
            "   9   18   27   36   45   54   63   72   81   90 \n",
            "  10   20   30   40   50   60   70   80   90  100 \n"
          ]
        }
      ],
      "source": [
        "# c\n",
        "\n",
        "for i in range(1,11):\n",
        "    for j in range(1,11):\n",
        "        print(f\"{i * j:4}\", end = \" \")\n",
        "    print()"
      ]
    },
    {
      "cell_type": "markdown",
      "metadata": {
        "id": "zMfZPT4SPmVW"
      },
      "source": [
        "---\n",
        "## 4. Faculty (*)\n",
        "\n",
        "Use a **for** statement to compute $n!$.\n",
        "\n",
        "$n! = 1\\cdot2\\cdot3\\cdot\\ldots\\cdot(n-1)\\cdot n $\n",
        "\n",
        "Let the user input $n$."
      ]
    },
    {
      "cell_type": "code",
      "execution_count": 89,
      "metadata": {},
      "outputs": [
        {
          "name": "stdout",
          "output_type": "stream",
          "text": [
            "The factorial of 500 is 1220136825991110068701238785423046926253574342803192842192413588385845373153881997605496447502203281863013616477148203584163378722078177200480785205159329285477907571939330603772960859086270429174547882424912726344305670173270769461062802310452644218878789465754777149863494367781037644274033827365397471386477878495438489595537537990423241061271326984327745715546309977202781014561081188373709531016356324432987029563896628911658974769572087926928871281780070265174507768410719624390394322536422605234945850129918571501248706961568141625359056693423813008856249246891564126775654481886506593847951775360894005745238940335798476363944905313062323749066445048824665075946735862074637925184200459369692981022263971952597190945217823331756934581508552332820762820023402626907898342451712006207714640979456116127629145951237229913340169552363850942885592018727433795173014586357570828355780158735432768888680120399882384702151467605445407663535984174430480128938313896881639487469658817504506926365338175055478128640000000000000000000000000000000000000000000000000000000000000000000000000000000000000000000000000000000000000000000000000000\n"
          ]
        }
      ],
      "source": [
        "\n",
        "n = int(input(\"Choose factorial\"))\n",
        "factorial = 1\n",
        "\n",
        "for i in range(1, n + 1):\n",
        "    factorial *= i\n",
        "print(f\"The factorial of {n} is {factorial}\")\n"
      ]
    },
    {
      "cell_type": "markdown",
      "metadata": {
        "id": "QrbJGJygPmVW"
      },
      "source": [
        "---\n",
        "## 5. Guess the number (*)\n",
        "\n",
        "The computer thinks of a four-digit number. Start by creating a random four-digit number. Use **for** statement to figure out a correct guess\n",
        "\n",
        "<br>\n",
        "<details>\n",
        "\n",
        "<summary>Answer </summary>\n",
        "\n",
        "e.g.\n",
        "```\n",
        "The final guess is 8993\n",
        "The computer number is 8993\n",
        "```\n",
        "\n",
        "</details>"
      ]
    },
    {
      "cell_type": "code",
      "execution_count": 106,
      "metadata": {},
      "outputs": [
        {
          "name": "stdout",
          "output_type": "stream",
          "text": [
            "The secret number was 4884\n"
          ]
        }
      ],
      "source": [
        "import random \n",
        "\n",
        "computer_number = random.randint(1000,9999)\n",
        "attempts = 0\n",
        "\n",
        "for attempts in range(1000,10000):\n",
        "    if attempts == computer_number:\n",
        "        break\n",
        "print(f\"The secret number was {computer_number}\")"
      ]
    },
    {
      "cell_type": "code",
      "execution_count": 1,
      "metadata": {},
      "outputs": [
        {
          "name": "stdout",
          "output_type": "stream",
          "text": [
            "Fail! your guess 1111 was not correct, this was your 1 attempt\n",
            "The number in 4 position is correct\n",
            "\n",
            "Fail! your guess 2221 was not correct, this was your 2 attempt\n",
            "The number in 4 position is correct\n",
            "\n",
            "Fail! your guess 3331 was not correct, this was your 3 attempt\n",
            "The number in 2 position is correct\n",
            "The number in 4 position is correct\n",
            "\n",
            "Fail! your guess 4433 was not correct, this was your 4 attempt\n",
            "\n",
            "Fail! your guess 4341 was not correct, this was your 5 attempt\n",
            "The number in 2 position is correct\n",
            "The number in 4 position is correct\n",
            "\n",
            "Fail! your guess 5351 was not correct, this was your 6 attempt\n",
            "The number in 2 position is correct\n",
            "The number in 4 position is correct\n",
            "\n",
            "Fail! your guess 6361 was not correct, this was your 7 attempt\n",
            "The number in 2 position is correct\n",
            "The number in 4 position is correct\n",
            "\n",
            "Fail! your guess 7371 was not correct, this was your 8 attempt\n",
            "The number in 2 position is correct\n",
            "The number in 3 position is correct\n",
            "The number in 4 position is correct\n",
            "\n",
            "Fail! your guess 8371 was not correct, this was your 9 attempt\n",
            "The number in 2 position is correct\n",
            "The number in 3 position is correct\n",
            "The number in 4 position is correct\n",
            "\n",
            "Fail! your guess 9371 was not correct, this was your 10 attempt\n",
            "The number in 2 position is correct\n",
            "The number in 3 position is correct\n",
            "The number in 4 position is correct\n",
            "\n"
          ]
        }
      ],
      "source": [
        "import random\n",
        "\n",
        "secret_number = str(random.randint(1000,9999))\n",
        "\n",
        "attempt = 0\n",
        "\n",
        "for i in range(1000,10000):\n",
        "    \n",
        "    attempt += 1\n",
        "\n",
        "    guess2 = input(\"What number do think it is?\") \n",
        "\n",
        "    if guess2 == secret_number:\n",
        "        print(f\"Wohoo! You have guess correct in {attempt} attempts, the secret number is {secret_number}\")\n",
        "        break\n",
        "\n",
        "    else:\n",
        "        print(f\"Fail! your guess {guess2} was not correct, this was your {attempt} attempt\")\n",
        "\n",
        "\n",
        "        for j in range(1,4):\n",
        "            if guess2[j] == secret_number[j]:\n",
        "                print(f\"The number in {j + 1} position is correct\")\n",
        "\n",
        "        print()"
      ]
    },
    {
      "cell_type": "markdown",
      "metadata": {
        "id": "H4DC6pSOPmVW"
      },
      "source": [
        "---\n",
        "## 6. Rice on chessboard (*)\n",
        "\n",
        "In first square of the chessboard there is one grain of rice, in the second square there is two grains, in the third square there is four grains and so on. How many grains are there in the whole chessboard when all squares are filled using this pattern?\n",
        "\n",
        "<img align=\"left\" src=\"../assets/chessboard.png\" width=\"300\"/>"
      ]
    },
    {
      "cell_type": "markdown",
      "metadata": {
        "id": "4QoVQ_6jPmVX"
      },
      "source": [
        "<details>\n",
        "\n",
        "<summary>Answer</summary>\n",
        "\n",
        "```\n",
        "18446744073709551615 number of grains\n",
        "```\n",
        "\n",
        "</details>"
      ]
    },
    {
      "cell_type": "code",
      "execution_count": 90,
      "metadata": {},
      "outputs": [
        {
          "name": "stdout",
          "output_type": "stream",
          "text": [
            "18446744073709551615\n"
          ]
        }
      ],
      "source": [
        "grain_of_rice = 1\n",
        "square = 64\n",
        "total_grain = 0\n",
        "\n",
        "for i in range(1,square + 1):\n",
        "    total_grain += grain_of_rice\n",
        "    grain_of_rice *= 2\n",
        "print(total_grain)"
      ]
    },
    {
      "cell_type": "code",
      "execution_count": 95,
      "metadata": {},
      "outputs": [
        {
          "name": "stdout",
          "output_type": "stream",
          "text": [
            "the total is 18446744073709551615\n"
          ]
        }
      ],
      "source": [
        "square2 = 64\n",
        "total_grain2 = 0\n",
        "\n",
        "for i in range(0,square2):\n",
        "    grain_on_current = 2**i\n",
        "    total_grain2 += grain_on_current\n",
        "print(f\"the total is {total_grain2}\")"
      ]
    }
  ],
  "metadata": {
    "colab": {
      "include_colab_link": true,
      "provenance": []
    },
    "kernelspec": {
      "display_name": "Python 3 (ipykernel)",
      "language": "python",
      "name": "python3"
    },
    "language_info": {
      "codemirror_mode": {
        "name": "ipython",
        "version": 3
      },
      "file_extension": ".py",
      "mimetype": "text/x-python",
      "name": "python",
      "nbconvert_exporter": "python",
      "pygments_lexer": "ipython3",
      "version": "3.12.4"
    },
    "vscode": {
      "interpreter": {
        "hash": "0da836a34428266995a795f1e1e27b816fa1c02f148d9728b3fbbbc5459afca6"
      }
    }
  },
  "nbformat": 4,
  "nbformat_minor": 0
}
